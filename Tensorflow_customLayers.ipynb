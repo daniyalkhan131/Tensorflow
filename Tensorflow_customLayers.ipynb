{
  "nbformat": 4,
  "nbformat_minor": 0,
  "metadata": {
    "colab": {
      "provenance": [],
      "gpuType": "T4"
    },
    "kernelspec": {
      "name": "python3",
      "display_name": "Python 3"
    },
    "language_info": {
      "name": "python"
    },
    "accelerator": "GPU"
  },
  "cells": [
    {
      "cell_type": "code",
      "source": [
        "import tensorflow as tf\n",
        "from tensorflow import keras\n",
        "from tensorflow. keras import layers, regularizers\n",
        "import os\n",
        "import pandas as pd\n",
        "from tensorflow.keras.datasets import mnist"
      ],
      "metadata": {
        "id": "0Dqq-6zL9_Wz"
      },
      "execution_count": 2,
      "outputs": []
    },
    {
      "cell_type": "code",
      "source": [
        "(x_train, y_train), (x_test, y_test) = mnist. load_data()\n",
        "x_train = x_train. reshape (-1, 28*28) .astype (\"float32\") / 255.0\n",
        "x_test = x_test. reshape (-1, 28*28) .astype (\"float32\") / 255.0"
      ],
      "metadata": {
        "colab": {
          "base_uri": "https://localhost:8080/"
        },
        "id": "_jmQG-ul-BiA",
        "outputId": "9585ae21-6732-41a1-b62d-a0545ec58e1d"
      },
      "execution_count": 3,
      "outputs": [
        {
          "output_type": "stream",
          "name": "stdout",
          "text": [
            "Downloading data from https://storage.googleapis.com/tensorflow/tf-keras-datasets/mnist.npz\n",
            "11490434/11490434 [==============================] - 0s 0us/step\n"
          ]
        }
      ]
    },
    {
      "cell_type": "code",
      "source": [
        "x_train.shape, y_train.shape"
      ],
      "metadata": {
        "colab": {
          "base_uri": "https://localhost:8080/"
        },
        "id": "03wRwVmoCNQI",
        "outputId": "00aceda7-ec07-4825-d446-af7d4b8eb96e"
      },
      "execution_count": 4,
      "outputs": [
        {
          "output_type": "execute_result",
          "data": {
            "text/plain": [
              "((60000, 784), (60000,))"
            ]
          },
          "metadata": {},
          "execution_count": 4
        }
      ]
    },
    {
      "cell_type": "code",
      "source": [
        "class Dense (layers. Layer):\n",
        "  def __init__ (self, units, input_dim):\n",
        "    super(Dense, self) .__init__()\n",
        "    self.w = self .add_weight(\n",
        "        name='w', #it is very important for saving model, without naming weights models dont get saved\n",
        "        shape=(input_dim,units),\n",
        "        initializer='random_normal', #there are other methods too\n",
        "        trainable=True,\n",
        "    )\n",
        "\n",
        "    self.b= self.add_weight(\n",
        "        name='b',\n",
        "        shape=(units,),\n",
        "        initializer='zeros',\n",
        "        trainable=True,\n",
        "    )\n",
        "\n",
        "  def call(self, input):\n",
        "    return tf.matmul(input,self.w)+self.b\n",
        "\n",
        "\n",
        "\n",
        "class Dense_new(layers. Layer):\n",
        "  def __init__ (self, units):\n",
        "    super(Dense_new, self) .__init__()\n",
        "    self.units=units\n",
        "\n",
        "  def build(self, input_shape): #here input_shape is given as parameter\n",
        "\n",
        "    self.w = self .add_weight(\n",
        "        name='w',\n",
        "        shape=(input_shape[-1],self.units),\n",
        "        initializer='random_normal',\n",
        "        trainable=True,\n",
        "    )\n",
        "\n",
        "    self.b= self.add_weight(\n",
        "        name='b',\n",
        "        shape=(self.units,),\n",
        "        initializer='zeros',\n",
        "        trainable=True,\n",
        "    )\n",
        "\n",
        "\n",
        "  def call(self, input):\n",
        "    return tf.matmul(input,self.w)+self.b"
      ],
      "metadata": {
        "id": "Mzq4u2RA-oea"
      },
      "execution_count": 19,
      "outputs": []
    },
    {
      "cell_type": "code",
      "source": [
        "#we can create custom activation functions also\n",
        "class Relu(layers.Layer):\n",
        "  def __init__(self):\n",
        "    super(Relu,self).__init__()\n",
        "\n",
        "  def call(self, x):\n",
        "    return tf.math.maximum(x,0)"
      ],
      "metadata": {
        "id": "1ur2alnHGQv3"
      },
      "execution_count": 28,
      "outputs": []
    },
    {
      "cell_type": "code",
      "execution_count": 29,
      "metadata": {
        "id": "PDlus_QY9ZKn"
      },
      "outputs": [],
      "source": [
        "class MyModel (keras.Model):\n",
        "\n",
        "  def __init__ (self, num_classes=10) :\n",
        "    super(MyModel, self).__init__()\n",
        "    #self.dense1 = layers.Dense(64)\n",
        "    #self.dense2 = layers.Dense(num_classes)\n",
        "    #self.dense1=Dense(64,28*28) #we dont want to specify input dimension , sor for that we create build method and in that\n",
        "                                #define weights\n",
        "    #self.dense2=Dense(10,64)\n",
        "\n",
        "    self.dense1=Dense_new(64)\n",
        "    self.dense2=Dense_new(10)\n",
        "    self.relu=Relu()\n",
        "\n",
        "  def call(self, input_tensor):\n",
        "    #x = tf.nn.relu(self.dense1(input_tensor))\n",
        "    x= self.relu((self.dense1(input_tensor)))\n",
        "    return self.dense2(x)"
      ]
    },
    {
      "cell_type": "code",
      "source": [
        "model=MyModel()"
      ],
      "metadata": {
        "id": "OWFJBc2DAYR7"
      },
      "execution_count": 30,
      "outputs": []
    },
    {
      "cell_type": "code",
      "source": [
        "model.compile (optimizer=keras.optimizers.Adam(),\n",
        "                loss=keras.losses.SparseCategoricalCrossentropy(from_logits=True),\n",
        "                metrics=[\"accuracy\"],\n",
        ")\n",
        "model.fit(x_train, y_train, batch_size=64, epochs=3, verbose=2)\n",
        "model.evaluate (x_test, y_test, batch_size=64, verbose=2)"
      ],
      "metadata": {
        "colab": {
          "base_uri": "https://localhost:8080/"
        },
        "id": "L2JwxawV9--K",
        "outputId": "bafdfb17-8510-4e1d-e679-3c31308dcdaf"
      },
      "execution_count": 31,
      "outputs": [
        {
          "output_type": "stream",
          "name": "stdout",
          "text": [
            "Epoch 1/3\n",
            "938/938 - 4s - loss: 0.4212 - accuracy: 0.8881 - 4s/epoch - 5ms/step\n",
            "Epoch 2/3\n",
            "938/938 - 2s - loss: 0.2097 - accuracy: 0.9407 - 2s/epoch - 2ms/step\n",
            "Epoch 3/3\n",
            "938/938 - 2s - loss: 0.1537 - accuracy: 0.9556 - 2s/epoch - 3ms/step\n",
            "157/157 - 0s - loss: 0.1411 - accuracy: 0.9590 - 354ms/epoch - 2ms/step\n"
          ]
        },
        {
          "output_type": "execute_result",
          "data": {
            "text/plain": [
              "[0.14110934734344482, 0.9589999914169312]"
            ]
          },
          "metadata": {},
          "execution_count": 31
        }
      ]
    },
    {
      "cell_type": "code",
      "source": [
        "model.summary()"
      ],
      "metadata": {
        "colab": {
          "base_uri": "https://localhost:8080/"
        },
        "id": "MBsJ9HAfBkc-",
        "outputId": "d43ec841-1f09-4228-ae0f-74ea31f37bbb"
      },
      "execution_count": 32,
      "outputs": [
        {
          "output_type": "stream",
          "name": "stdout",
          "text": [
            "Model: \"my_model_5\"\n",
            "_________________________________________________________________\n",
            " Layer (type)                Output Shape              Param #   \n",
            "=================================================================\n",
            " dense_new_6 (Dense_new)     multiple                  50240     \n",
            "                                                                 \n",
            " dense_new_7 (Dense_new)     multiple                  650       \n",
            "                                                                 \n",
            " relu (Relu)                 multiple                  0         \n",
            "                                                                 \n",
            "=================================================================\n",
            "Total params: 50890 (198.79 KB)\n",
            "Trainable params: 50890 (198.79 KB)\n",
            "Non-trainable params: 0 (0.00 Byte)\n",
            "_________________________________________________________________\n"
          ]
        }
      ]
    },
    {
      "cell_type": "code",
      "source": [],
      "metadata": {
        "id": "VUp5PDWOAff5"
      },
      "execution_count": null,
      "outputs": []
    }
  ]
}