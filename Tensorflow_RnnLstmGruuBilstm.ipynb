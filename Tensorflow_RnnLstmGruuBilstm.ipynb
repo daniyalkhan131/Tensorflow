{
  "nbformat": 4,
  "nbformat_minor": 0,
  "metadata": {
    "colab": {
      "provenance": []
    },
    "kernelspec": {
      "name": "python3",
      "display_name": "Python 3"
    },
    "language_info": {
      "name": "python"
    }
  },
  "cells": [
    {
      "cell_type": "code",
      "execution_count": 1,
      "metadata": {
        "id": "glfKRQRpG5FL"
      },
      "outputs": [],
      "source": [
        "import tensorflow as tf\n",
        "from tensorflow import keras\n",
        "from tensorflow. keras import layers, regularizers\n",
        "from tensorflow. keras .datasets import mnist"
      ]
    },
    {
      "cell_type": "code",
      "source": [
        "(x_train, y_train), (x_test, y_test) = mnist.load_data()\n",
        "x_train = x_train.astype (\"float32\") / 255.0\n",
        "x_test = x_test.astype (\"float32\") / 255.0"
      ],
      "metadata": {
        "colab": {
          "base_uri": "https://localhost:8080/"
        },
        "id": "9kzoEqfIHR_-",
        "outputId": "7fd28759-fbaf-4a20-e2bf-1b36cac25271"
      },
      "execution_count": 2,
      "outputs": [
        {
          "output_type": "stream",
          "name": "stdout",
          "text": [
            "Downloading data from https://storage.googleapis.com/tensorflow/tf-keras-datasets/mnist.npz\n",
            "11490434/11490434 [==============================] - 0s 0us/step\n"
          ]
        }
      ]
    },
    {
      "cell_type": "code",
      "source": [
        "#RNN\n",
        "model=keras.Sequential()\n",
        "model.add(layers.Input(shape=(None,28))) #we added None,28 because we dont need to specify the timestamps\n",
        "model.add(layers.SimpleRNN(256,\n",
        "                           return_sequences=True, #beacuse we want to stack rnn and for that need output from each stage\n",
        "                           activation='relu'))\n",
        "model.add(layers.SimpleRNN(256,\n",
        "                           return_sequences=False,\n",
        "                           activation='relu'))\n",
        "model.add(layers.Dense(10))"
      ],
      "metadata": {
        "id": "XqQJ2bjFHUXz"
      },
      "execution_count": 7,
      "outputs": []
    },
    {
      "cell_type": "code",
      "source": [
        "model.summary()"
      ],
      "metadata": {
        "colab": {
          "base_uri": "https://localhost:8080/"
        },
        "id": "82l3GQKYI0F7",
        "outputId": "28094d33-e698-4bcb-d15f-a5d1e9b581a3"
      },
      "execution_count": 8,
      "outputs": [
        {
          "output_type": "stream",
          "name": "stdout",
          "text": [
            "Model: \"sequential_1\"\n",
            "_________________________________________________________________\n",
            " Layer (type)                Output Shape              Param #   \n",
            "=================================================================\n",
            " simple_rnn_2 (SimpleRNN)    (None, None, 256)         72960     \n",
            "                                                                 \n",
            " simple_rnn_3 (SimpleRNN)    (None, 256)               131328    \n",
            "                                                                 \n",
            " dense_1 (Dense)             (None, 10)                2570      \n",
            "                                                                 \n",
            "=================================================================\n",
            "Total params: 206858 (808.04 KB)\n",
            "Trainable params: 206858 (808.04 KB)\n",
            "Non-trainable params: 0 (0.00 Byte)\n",
            "_________________________________________________________________\n"
          ]
        }
      ]
    },
    {
      "cell_type": "code",
      "source": [
        "model.compile(loss=keras.losses.SparseCategoricalCrossentropy(from_logits=True),\n",
        "              optimizer=keras.optimizers.Adam(learning_rate=3e-5),\n",
        "              metrics=['Accuracy'])"
      ],
      "metadata": {
        "id": "jE3eS842I5Xt"
      },
      "execution_count": 9,
      "outputs": []
    },
    {
      "cell_type": "code",
      "source": [
        "model.fit(x_train,y_train,epochs=1,verbose=2,batch_size=64)\n",
        "model.evaluate(x_test,y_test,verbose=2,batch_size=32)"
      ],
      "metadata": {
        "colab": {
          "base_uri": "https://localhost:8080/"
        },
        "id": "PmFN6qvtJKfy",
        "outputId": "8f778608-9fec-48bd-f236-cbb9c5798dbf"
      },
      "execution_count": 10,
      "outputs": [
        {
          "output_type": "stream",
          "name": "stdout",
          "text": [
            "938/938 - 82s - loss: 0.8649 - Accuracy: 0.7151 - 82s/epoch - 87ms/step\n",
            "313/313 - 6s - loss: 0.3420 - Accuracy: 0.8980 - 6s/epoch - 20ms/step\n"
          ]
        },
        {
          "output_type": "execute_result",
          "data": {
            "text/plain": [
              "[0.3420105278491974, 0.8980000019073486]"
            ]
          },
          "metadata": {},
          "execution_count": 10
        }
      ]
    },
    {
      "cell_type": "code",
      "source": [
        "#GRU\n",
        "model=keras.Sequential()\n",
        "model.add(layers.Input(shape=(None,28))) #we added None,28 because we dont need to specify the timestamps\n",
        "model.add(layers.GRU(256,\n",
        "                           return_sequences=True, #beacuse we want to stack rnn and for that need output from each stage\n",
        "                           activation='relu'))\n",
        "model.add(layers.GRU(256,\n",
        "                           return_sequences=False,\n",
        "                           activation='relu'))\n",
        "model.add(layers.Dense(10))"
      ],
      "metadata": {
        "id": "pQk2LHoYJW9p"
      },
      "execution_count": 11,
      "outputs": []
    },
    {
      "cell_type": "code",
      "source": [
        "model.compile(loss=keras.losses.SparseCategoricalCrossentropy(from_logits=True),\n",
        "              optimizer=keras.optimizers.Adam(learning_rate=3e-5),\n",
        "              metrics=['Accuracy'])"
      ],
      "metadata": {
        "id": "CyPwP8ptJ025"
      },
      "execution_count": 12,
      "outputs": []
    },
    {
      "cell_type": "code",
      "source": [
        "model.fit(x_train,y_train,epochs=1,verbose=2,batch_size=64)\n",
        "model.evaluate(x_test,y_test,verbose=2,batch_size=32)"
      ],
      "metadata": {
        "colab": {
          "base_uri": "https://localhost:8080/"
        },
        "id": "6t-VWl3pJ5Uc",
        "outputId": "eb2acc1d-fd8f-4135-b863-154dd46beca1"
      },
      "execution_count": 13,
      "outputs": [
        {
          "output_type": "stream",
          "name": "stdout",
          "text": [
            "938/938 - 207s - loss: 1.4253 - Accuracy: 0.5019 - 207s/epoch - 220ms/step\n",
            "313/313 - 14s - loss: 0.6834 - Accuracy: 0.7606 - 14s/epoch - 44ms/step\n"
          ]
        },
        {
          "output_type": "execute_result",
          "data": {
            "text/plain": [
              "[0.683368444442749, 0.7605999708175659]"
            ]
          },
          "metadata": {},
          "execution_count": 13
        }
      ]
    },
    {
      "cell_type": "code",
      "source": [
        "#LSTM\n",
        "model=keras.Sequential()\n",
        "model.add(layers.Input(shape=(None,28))) #we added None,28 because we dont need to specify the timestamps\n",
        "model.add(layers.LSTM(256,\n",
        "                           return_sequences=True, #beacuse we want to stack rnn and for that need output from each stage\n",
        "                           activation='relu'))\n",
        "model.add(layers.LSTM(256,\n",
        "                           return_sequences=False,\n",
        "                           activation='relu'))\n",
        "model.add(layers.Dense(10))"
      ],
      "metadata": {
        "id": "8dk4d8qfJ55L"
      },
      "execution_count": 14,
      "outputs": []
    },
    {
      "cell_type": "code",
      "source": [
        "model.compile(loss=keras.losses.SparseCategoricalCrossentropy(from_logits=True),\n",
        "              optimizer=keras.optimizers.Adam(learning_rate=3e-5),\n",
        "              metrics=['Accuracy'])"
      ],
      "metadata": {
        "id": "11l-ivVkJ9nU"
      },
      "execution_count": 15,
      "outputs": []
    },
    {
      "cell_type": "code",
      "source": [
        "model.fit(x_train,y_train,epochs=1,verbose=2,batch_size=64)\n",
        "model.evaluate(x_test,y_test,verbose=2,batch_size=32)"
      ],
      "metadata": {
        "colab": {
          "base_uri": "https://localhost:8080/"
        },
        "id": "EUJTEWvqJ-0Y",
        "outputId": "64346635-c474-4931-cfa8-df3900627a27"
      },
      "execution_count": 16,
      "outputs": [
        {
          "output_type": "stream",
          "name": "stdout",
          "text": [
            "938/938 - 274s - loss: 1.2942 - Accuracy: 0.5852 - 274s/epoch - 292ms/step\n",
            "313/313 - 19s - loss: 0.5656 - Accuracy: 0.8206 - 19s/epoch - 59ms/step\n"
          ]
        },
        {
          "output_type": "execute_result",
          "data": {
            "text/plain": [
              "[0.5655702352523804, 0.8205999732017517]"
            ]
          },
          "metadata": {},
          "execution_count": 16
        }
      ]
    },
    {
      "cell_type": "code",
      "source": [
        "#BiLSTM\n",
        "model=keras.Sequential()\n",
        "model.add(layers.Input(shape=(None,28)))\n",
        "model.add(layers.Bidirectional(layers.LSTM(256, #it will have 512 nodes in summary as lstm is bidirectional\n",
        "                           return_sequences=True,\n",
        "                           activation='relu')))\n",
        "model.add(layers.Bidirectional(layers.LSTM(256,\n",
        "                           return_sequences=False,\n",
        "                           activation='relu')))\n",
        "model.add(layers.Dense(10))"
      ],
      "metadata": {
        "id": "jJ2CDP_1KCHG"
      },
      "execution_count": 21,
      "outputs": []
    },
    {
      "cell_type": "code",
      "source": [
        "model.compile(loss=keras.losses.SparseCategoricalCrossentropy(from_logits=True),\n",
        "              optimizer=keras.optimizers.Adam(learning_rate=3e-5),\n",
        "              metrics=['Accuracy'])"
      ],
      "metadata": {
        "id": "-rfhOBLbKuPr"
      },
      "execution_count": 22,
      "outputs": []
    },
    {
      "cell_type": "code",
      "source": [
        "model.fit(x_train,y_train,epochs=1,verbose=2,batch_size=64)\n",
        "model.evaluate(x_test,y_test,verbose=2,batch_size=32)"
      ],
      "metadata": {
        "colab": {
          "base_uri": "https://localhost:8080/"
        },
        "id": "5UBbtTAUKw6h",
        "outputId": "2fd49f3b-0946-499d-8753-d307de078d6d"
      },
      "execution_count": 23,
      "outputs": [
        {
          "output_type": "stream",
          "name": "stdout",
          "text": [
            "938/938 - 743s - loss: 1.2579 - Accuracy: 0.6114 - 743s/epoch - 792ms/step\n",
            "313/313 - 41s - loss: 0.5544 - Accuracy: 0.8366 - 41s/epoch - 132ms/step\n"
          ]
        },
        {
          "output_type": "execute_result",
          "data": {
            "text/plain": [
              "[0.5543797016143799, 0.8366000056266785]"
            ]
          },
          "metadata": {},
          "execution_count": 23
        }
      ]
    },
    {
      "cell_type": "code",
      "source": [],
      "metadata": {
        "id": "jV78q2D2KxP7"
      },
      "execution_count": null,
      "outputs": []
    }
  ]
}