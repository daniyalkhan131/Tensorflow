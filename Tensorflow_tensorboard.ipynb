{
  "nbformat": 4,
  "nbformat_minor": 0,
  "metadata": {
    "colab": {
      "provenance": [],
      "gpuType": "T4"
    },
    "kernelspec": {
      "name": "python3",
      "display_name": "Python 3"
    },
    "language_info": {
      "name": "python"
    },
    "widgets": {
      "application/vnd.jupyter.widget-state+json": {
        "32d554bbbbc04c68bcf2c1f0139bdc8f": {
          "model_module": "@jupyter-widgets/controls",
          "model_name": "HBoxModel",
          "model_module_version": "1.5.0",
          "state": {
            "_dom_classes": [],
            "_model_module": "@jupyter-widgets/controls",
            "_model_module_version": "1.5.0",
            "_model_name": "HBoxModel",
            "_view_count": null,
            "_view_module": "@jupyter-widgets/controls",
            "_view_module_version": "1.5.0",
            "_view_name": "HBoxView",
            "box_style": "",
            "children": [
              "IPY_MODEL_2d6e165bfe7945e88f4ed31bd007e010",
              "IPY_MODEL_1221c7f0b0d44bd58f6a3528574393e0",
              "IPY_MODEL_32351fb4308f441b8ce2f869b624fadc"
            ],
            "layout": "IPY_MODEL_01744da62a2d4d7a80802b347bc1e929"
          }
        },
        "2d6e165bfe7945e88f4ed31bd007e010": {
          "model_module": "@jupyter-widgets/controls",
          "model_name": "HTMLModel",
          "model_module_version": "1.5.0",
          "state": {
            "_dom_classes": [],
            "_model_module": "@jupyter-widgets/controls",
            "_model_module_version": "1.5.0",
            "_model_name": "HTMLModel",
            "_view_count": null,
            "_view_module": "@jupyter-widgets/controls",
            "_view_module_version": "1.5.0",
            "_view_name": "HTMLView",
            "description": "",
            "description_tooltip": null,
            "layout": "IPY_MODEL_587a3bb71eb64f72a9da23bc388eed60",
            "placeholder": "​",
            "style": "IPY_MODEL_fb66937d04da4831882790aefcfc99ca",
            "value": "Dl Completed...: 100%"
          }
        },
        "1221c7f0b0d44bd58f6a3528574393e0": {
          "model_module": "@jupyter-widgets/controls",
          "model_name": "FloatProgressModel",
          "model_module_version": "1.5.0",
          "state": {
            "_dom_classes": [],
            "_model_module": "@jupyter-widgets/controls",
            "_model_module_version": "1.5.0",
            "_model_name": "FloatProgressModel",
            "_view_count": null,
            "_view_module": "@jupyter-widgets/controls",
            "_view_module_version": "1.5.0",
            "_view_name": "ProgressView",
            "bar_style": "success",
            "description": "",
            "description_tooltip": null,
            "layout": "IPY_MODEL_c75b810187e24f2f8d5524f471324462",
            "max": 1,
            "min": 0,
            "orientation": "horizontal",
            "style": "IPY_MODEL_eae11ba8cec74a269095a6e0ae15f943",
            "value": 1
          }
        },
        "32351fb4308f441b8ce2f869b624fadc": {
          "model_module": "@jupyter-widgets/controls",
          "model_name": "HTMLModel",
          "model_module_version": "1.5.0",
          "state": {
            "_dom_classes": [],
            "_model_module": "@jupyter-widgets/controls",
            "_model_module_version": "1.5.0",
            "_model_name": "HTMLModel",
            "_view_count": null,
            "_view_module": "@jupyter-widgets/controls",
            "_view_module_version": "1.5.0",
            "_view_name": "HTMLView",
            "description": "",
            "description_tooltip": null,
            "layout": "IPY_MODEL_e691519a932047c29e4e26113c8db3dd",
            "placeholder": "​",
            "style": "IPY_MODEL_b3a5b2d7de3645c8b1c89c0555c16817",
            "value": " 1/1 [00:13&lt;00:00,  8.27s/ url]"
          }
        },
        "01744da62a2d4d7a80802b347bc1e929": {
          "model_module": "@jupyter-widgets/base",
          "model_name": "LayoutModel",
          "model_module_version": "1.2.0",
          "state": {
            "_model_module": "@jupyter-widgets/base",
            "_model_module_version": "1.2.0",
            "_model_name": "LayoutModel",
            "_view_count": null,
            "_view_module": "@jupyter-widgets/base",
            "_view_module_version": "1.2.0",
            "_view_name": "LayoutView",
            "align_content": null,
            "align_items": null,
            "align_self": null,
            "border": null,
            "bottom": null,
            "display": null,
            "flex": null,
            "flex_flow": null,
            "grid_area": null,
            "grid_auto_columns": null,
            "grid_auto_flow": null,
            "grid_auto_rows": null,
            "grid_column": null,
            "grid_gap": null,
            "grid_row": null,
            "grid_template_areas": null,
            "grid_template_columns": null,
            "grid_template_rows": null,
            "height": null,
            "justify_content": null,
            "justify_items": null,
            "left": null,
            "margin": null,
            "max_height": null,
            "max_width": null,
            "min_height": null,
            "min_width": null,
            "object_fit": null,
            "object_position": null,
            "order": null,
            "overflow": null,
            "overflow_x": null,
            "overflow_y": null,
            "padding": null,
            "right": null,
            "top": null,
            "visibility": null,
            "width": null
          }
        },
        "587a3bb71eb64f72a9da23bc388eed60": {
          "model_module": "@jupyter-widgets/base",
          "model_name": "LayoutModel",
          "model_module_version": "1.2.0",
          "state": {
            "_model_module": "@jupyter-widgets/base",
            "_model_module_version": "1.2.0",
            "_model_name": "LayoutModel",
            "_view_count": null,
            "_view_module": "@jupyter-widgets/base",
            "_view_module_version": "1.2.0",
            "_view_name": "LayoutView",
            "align_content": null,
            "align_items": null,
            "align_self": null,
            "border": null,
            "bottom": null,
            "display": null,
            "flex": null,
            "flex_flow": null,
            "grid_area": null,
            "grid_auto_columns": null,
            "grid_auto_flow": null,
            "grid_auto_rows": null,
            "grid_column": null,
            "grid_gap": null,
            "grid_row": null,
            "grid_template_areas": null,
            "grid_template_columns": null,
            "grid_template_rows": null,
            "height": null,
            "justify_content": null,
            "justify_items": null,
            "left": null,
            "margin": null,
            "max_height": null,
            "max_width": null,
            "min_height": null,
            "min_width": null,
            "object_fit": null,
            "object_position": null,
            "order": null,
            "overflow": null,
            "overflow_x": null,
            "overflow_y": null,
            "padding": null,
            "right": null,
            "top": null,
            "visibility": null,
            "width": null
          }
        },
        "fb66937d04da4831882790aefcfc99ca": {
          "model_module": "@jupyter-widgets/controls",
          "model_name": "DescriptionStyleModel",
          "model_module_version": "1.5.0",
          "state": {
            "_model_module": "@jupyter-widgets/controls",
            "_model_module_version": "1.5.0",
            "_model_name": "DescriptionStyleModel",
            "_view_count": null,
            "_view_module": "@jupyter-widgets/base",
            "_view_module_version": "1.2.0",
            "_view_name": "StyleView",
            "description_width": ""
          }
        },
        "c75b810187e24f2f8d5524f471324462": {
          "model_module": "@jupyter-widgets/base",
          "model_name": "LayoutModel",
          "model_module_version": "1.2.0",
          "state": {
            "_model_module": "@jupyter-widgets/base",
            "_model_module_version": "1.2.0",
            "_model_name": "LayoutModel",
            "_view_count": null,
            "_view_module": "@jupyter-widgets/base",
            "_view_module_version": "1.2.0",
            "_view_name": "LayoutView",
            "align_content": null,
            "align_items": null,
            "align_self": null,
            "border": null,
            "bottom": null,
            "display": null,
            "flex": null,
            "flex_flow": null,
            "grid_area": null,
            "grid_auto_columns": null,
            "grid_auto_flow": null,
            "grid_auto_rows": null,
            "grid_column": null,
            "grid_gap": null,
            "grid_row": null,
            "grid_template_areas": null,
            "grid_template_columns": null,
            "grid_template_rows": null,
            "height": null,
            "justify_content": null,
            "justify_items": null,
            "left": null,
            "margin": null,
            "max_height": null,
            "max_width": null,
            "min_height": null,
            "min_width": null,
            "object_fit": null,
            "object_position": null,
            "order": null,
            "overflow": null,
            "overflow_x": null,
            "overflow_y": null,
            "padding": null,
            "right": null,
            "top": null,
            "visibility": null,
            "width": "20px"
          }
        },
        "eae11ba8cec74a269095a6e0ae15f943": {
          "model_module": "@jupyter-widgets/controls",
          "model_name": "ProgressStyleModel",
          "model_module_version": "1.5.0",
          "state": {
            "_model_module": "@jupyter-widgets/controls",
            "_model_module_version": "1.5.0",
            "_model_name": "ProgressStyleModel",
            "_view_count": null,
            "_view_module": "@jupyter-widgets/base",
            "_view_module_version": "1.2.0",
            "_view_name": "StyleView",
            "bar_color": null,
            "description_width": ""
          }
        },
        "e691519a932047c29e4e26113c8db3dd": {
          "model_module": "@jupyter-widgets/base",
          "model_name": "LayoutModel",
          "model_module_version": "1.2.0",
          "state": {
            "_model_module": "@jupyter-widgets/base",
            "_model_module_version": "1.2.0",
            "_model_name": "LayoutModel",
            "_view_count": null,
            "_view_module": "@jupyter-widgets/base",
            "_view_module_version": "1.2.0",
            "_view_name": "LayoutView",
            "align_content": null,
            "align_items": null,
            "align_self": null,
            "border": null,
            "bottom": null,
            "display": null,
            "flex": null,
            "flex_flow": null,
            "grid_area": null,
            "grid_auto_columns": null,
            "grid_auto_flow": null,
            "grid_auto_rows": null,
            "grid_column": null,
            "grid_gap": null,
            "grid_row": null,
            "grid_template_areas": null,
            "grid_template_columns": null,
            "grid_template_rows": null,
            "height": null,
            "justify_content": null,
            "justify_items": null,
            "left": null,
            "margin": null,
            "max_height": null,
            "max_width": null,
            "min_height": null,
            "min_width": null,
            "object_fit": null,
            "object_position": null,
            "order": null,
            "overflow": null,
            "overflow_x": null,
            "overflow_y": null,
            "padding": null,
            "right": null,
            "top": null,
            "visibility": null,
            "width": null
          }
        },
        "b3a5b2d7de3645c8b1c89c0555c16817": {
          "model_module": "@jupyter-widgets/controls",
          "model_name": "DescriptionStyleModel",
          "model_module_version": "1.5.0",
          "state": {
            "_model_module": "@jupyter-widgets/controls",
            "_model_module_version": "1.5.0",
            "_model_name": "DescriptionStyleModel",
            "_view_count": null,
            "_view_module": "@jupyter-widgets/base",
            "_view_module_version": "1.2.0",
            "_view_name": "StyleView",
            "description_width": ""
          }
        },
        "1270f93f8ad247ba800b1de0ca51858b": {
          "model_module": "@jupyter-widgets/controls",
          "model_name": "HBoxModel",
          "model_module_version": "1.5.0",
          "state": {
            "_dom_classes": [],
            "_model_module": "@jupyter-widgets/controls",
            "_model_module_version": "1.5.0",
            "_model_name": "HBoxModel",
            "_view_count": null,
            "_view_module": "@jupyter-widgets/controls",
            "_view_module_version": "1.5.0",
            "_view_name": "HBoxView",
            "box_style": "",
            "children": [
              "IPY_MODEL_17ca36f6d55a47f4991f4d7f63f90b4e",
              "IPY_MODEL_dce8d0f39912490bbce99e76573c156e",
              "IPY_MODEL_40cc9da6b190428381ec44f124b00896"
            ],
            "layout": "IPY_MODEL_e80a67ebf25a4481a4de0adf0dfd7992"
          }
        },
        "17ca36f6d55a47f4991f4d7f63f90b4e": {
          "model_module": "@jupyter-widgets/controls",
          "model_name": "HTMLModel",
          "model_module_version": "1.5.0",
          "state": {
            "_dom_classes": [],
            "_model_module": "@jupyter-widgets/controls",
            "_model_module_version": "1.5.0",
            "_model_name": "HTMLModel",
            "_view_count": null,
            "_view_module": "@jupyter-widgets/controls",
            "_view_module_version": "1.5.0",
            "_view_name": "HTMLView",
            "description": "",
            "description_tooltip": null,
            "layout": "IPY_MODEL_b99fd613cd8b4c009dcfd13399765ade",
            "placeholder": "​",
            "style": "IPY_MODEL_fb8dc6209c614e33a83efb9d75905a43",
            "value": "Dl Size...: 100%"
          }
        },
        "dce8d0f39912490bbce99e76573c156e": {
          "model_module": "@jupyter-widgets/controls",
          "model_name": "FloatProgressModel",
          "model_module_version": "1.5.0",
          "state": {
            "_dom_classes": [],
            "_model_module": "@jupyter-widgets/controls",
            "_model_module_version": "1.5.0",
            "_model_name": "FloatProgressModel",
            "_view_count": null,
            "_view_module": "@jupyter-widgets/controls",
            "_view_module_version": "1.5.0",
            "_view_name": "ProgressView",
            "bar_style": "success",
            "description": "",
            "description_tooltip": null,
            "layout": "IPY_MODEL_4d1397c37d1744c0b7a5130ffc8d7f59",
            "max": 1,
            "min": 0,
            "orientation": "horizontal",
            "style": "IPY_MODEL_6afa23bda96f4a789809865e9269eb3a",
            "value": 1
          }
        },
        "40cc9da6b190428381ec44f124b00896": {
          "model_module": "@jupyter-widgets/controls",
          "model_name": "HTMLModel",
          "model_module_version": "1.5.0",
          "state": {
            "_dom_classes": [],
            "_model_module": "@jupyter-widgets/controls",
            "_model_module_version": "1.5.0",
            "_model_name": "HTMLModel",
            "_view_count": null,
            "_view_module": "@jupyter-widgets/controls",
            "_view_module_version": "1.5.0",
            "_view_name": "HTMLView",
            "description": "",
            "description_tooltip": null,
            "layout": "IPY_MODEL_90cf63a02c5445c2a0e70edbdbb2f15a",
            "placeholder": "​",
            "style": "IPY_MODEL_7ce8d4f119c54b909f6efe852fa35ea8",
            "value": " 162/162 [00:13&lt;00:00, 21.67 MiB/s]"
          }
        },
        "e80a67ebf25a4481a4de0adf0dfd7992": {
          "model_module": "@jupyter-widgets/base",
          "model_name": "LayoutModel",
          "model_module_version": "1.2.0",
          "state": {
            "_model_module": "@jupyter-widgets/base",
            "_model_module_version": "1.2.0",
            "_model_name": "LayoutModel",
            "_view_count": null,
            "_view_module": "@jupyter-widgets/base",
            "_view_module_version": "1.2.0",
            "_view_name": "LayoutView",
            "align_content": null,
            "align_items": null,
            "align_self": null,
            "border": null,
            "bottom": null,
            "display": null,
            "flex": null,
            "flex_flow": null,
            "grid_area": null,
            "grid_auto_columns": null,
            "grid_auto_flow": null,
            "grid_auto_rows": null,
            "grid_column": null,
            "grid_gap": null,
            "grid_row": null,
            "grid_template_areas": null,
            "grid_template_columns": null,
            "grid_template_rows": null,
            "height": null,
            "justify_content": null,
            "justify_items": null,
            "left": null,
            "margin": null,
            "max_height": null,
            "max_width": null,
            "min_height": null,
            "min_width": null,
            "object_fit": null,
            "object_position": null,
            "order": null,
            "overflow": null,
            "overflow_x": null,
            "overflow_y": null,
            "padding": null,
            "right": null,
            "top": null,
            "visibility": null,
            "width": null
          }
        },
        "b99fd613cd8b4c009dcfd13399765ade": {
          "model_module": "@jupyter-widgets/base",
          "model_name": "LayoutModel",
          "model_module_version": "1.2.0",
          "state": {
            "_model_module": "@jupyter-widgets/base",
            "_model_module_version": "1.2.0",
            "_model_name": "LayoutModel",
            "_view_count": null,
            "_view_module": "@jupyter-widgets/base",
            "_view_module_version": "1.2.0",
            "_view_name": "LayoutView",
            "align_content": null,
            "align_items": null,
            "align_self": null,
            "border": null,
            "bottom": null,
            "display": null,
            "flex": null,
            "flex_flow": null,
            "grid_area": null,
            "grid_auto_columns": null,
            "grid_auto_flow": null,
            "grid_auto_rows": null,
            "grid_column": null,
            "grid_gap": null,
            "grid_row": null,
            "grid_template_areas": null,
            "grid_template_columns": null,
            "grid_template_rows": null,
            "height": null,
            "justify_content": null,
            "justify_items": null,
            "left": null,
            "margin": null,
            "max_height": null,
            "max_width": null,
            "min_height": null,
            "min_width": null,
            "object_fit": null,
            "object_position": null,
            "order": null,
            "overflow": null,
            "overflow_x": null,
            "overflow_y": null,
            "padding": null,
            "right": null,
            "top": null,
            "visibility": null,
            "width": null
          }
        },
        "fb8dc6209c614e33a83efb9d75905a43": {
          "model_module": "@jupyter-widgets/controls",
          "model_name": "DescriptionStyleModel",
          "model_module_version": "1.5.0",
          "state": {
            "_model_module": "@jupyter-widgets/controls",
            "_model_module_version": "1.5.0",
            "_model_name": "DescriptionStyleModel",
            "_view_count": null,
            "_view_module": "@jupyter-widgets/base",
            "_view_module_version": "1.2.0",
            "_view_name": "StyleView",
            "description_width": ""
          }
        },
        "4d1397c37d1744c0b7a5130ffc8d7f59": {
          "model_module": "@jupyter-widgets/base",
          "model_name": "LayoutModel",
          "model_module_version": "1.2.0",
          "state": {
            "_model_module": "@jupyter-widgets/base",
            "_model_module_version": "1.2.0",
            "_model_name": "LayoutModel",
            "_view_count": null,
            "_view_module": "@jupyter-widgets/base",
            "_view_module_version": "1.2.0",
            "_view_name": "LayoutView",
            "align_content": null,
            "align_items": null,
            "align_self": null,
            "border": null,
            "bottom": null,
            "display": null,
            "flex": null,
            "flex_flow": null,
            "grid_area": null,
            "grid_auto_columns": null,
            "grid_auto_flow": null,
            "grid_auto_rows": null,
            "grid_column": null,
            "grid_gap": null,
            "grid_row": null,
            "grid_template_areas": null,
            "grid_template_columns": null,
            "grid_template_rows": null,
            "height": null,
            "justify_content": null,
            "justify_items": null,
            "left": null,
            "margin": null,
            "max_height": null,
            "max_width": null,
            "min_height": null,
            "min_width": null,
            "object_fit": null,
            "object_position": null,
            "order": null,
            "overflow": null,
            "overflow_x": null,
            "overflow_y": null,
            "padding": null,
            "right": null,
            "top": null,
            "visibility": null,
            "width": "20px"
          }
        },
        "6afa23bda96f4a789809865e9269eb3a": {
          "model_module": "@jupyter-widgets/controls",
          "model_name": "ProgressStyleModel",
          "model_module_version": "1.5.0",
          "state": {
            "_model_module": "@jupyter-widgets/controls",
            "_model_module_version": "1.5.0",
            "_model_name": "ProgressStyleModel",
            "_view_count": null,
            "_view_module": "@jupyter-widgets/base",
            "_view_module_version": "1.2.0",
            "_view_name": "StyleView",
            "bar_color": null,
            "description_width": ""
          }
        },
        "90cf63a02c5445c2a0e70edbdbb2f15a": {
          "model_module": "@jupyter-widgets/base",
          "model_name": "LayoutModel",
          "model_module_version": "1.2.0",
          "state": {
            "_model_module": "@jupyter-widgets/base",
            "_model_module_version": "1.2.0",
            "_model_name": "LayoutModel",
            "_view_count": null,
            "_view_module": "@jupyter-widgets/base",
            "_view_module_version": "1.2.0",
            "_view_name": "LayoutView",
            "align_content": null,
            "align_items": null,
            "align_self": null,
            "border": null,
            "bottom": null,
            "display": null,
            "flex": null,
            "flex_flow": null,
            "grid_area": null,
            "grid_auto_columns": null,
            "grid_auto_flow": null,
            "grid_auto_rows": null,
            "grid_column": null,
            "grid_gap": null,
            "grid_row": null,
            "grid_template_areas": null,
            "grid_template_columns": null,
            "grid_template_rows": null,
            "height": null,
            "justify_content": null,
            "justify_items": null,
            "left": null,
            "margin": null,
            "max_height": null,
            "max_width": null,
            "min_height": null,
            "min_width": null,
            "object_fit": null,
            "object_position": null,
            "order": null,
            "overflow": null,
            "overflow_x": null,
            "overflow_y": null,
            "padding": null,
            "right": null,
            "top": null,
            "visibility": null,
            "width": null
          }
        },
        "7ce8d4f119c54b909f6efe852fa35ea8": {
          "model_module": "@jupyter-widgets/controls",
          "model_name": "DescriptionStyleModel",
          "model_module_version": "1.5.0",
          "state": {
            "_model_module": "@jupyter-widgets/controls",
            "_model_module_version": "1.5.0",
            "_model_name": "DescriptionStyleModel",
            "_view_count": null,
            "_view_module": "@jupyter-widgets/base",
            "_view_module_version": "1.2.0",
            "_view_name": "StyleView",
            "description_width": ""
          }
        },
        "e588b21a56bd452c9dd2305c568983c1": {
          "model_module": "@jupyter-widgets/controls",
          "model_name": "HBoxModel",
          "model_module_version": "1.5.0",
          "state": {
            "_dom_classes": [],
            "_model_module": "@jupyter-widgets/controls",
            "_model_module_version": "1.5.0",
            "_model_name": "HBoxModel",
            "_view_count": null,
            "_view_module": "@jupyter-widgets/controls",
            "_view_module_version": "1.5.0",
            "_view_name": "HBoxView",
            "box_style": "",
            "children": [
              "IPY_MODEL_46ac8903a79c44edaf89f3e1b72b93c8",
              "IPY_MODEL_58cad67f1c5b4a2680d192fc24f02533",
              "IPY_MODEL_62fbd1bd727c4d9db6f1fd4972144b25"
            ],
            "layout": "IPY_MODEL_ef5d043dc6ad47259d893118393468f1"
          }
        },
        "46ac8903a79c44edaf89f3e1b72b93c8": {
          "model_module": "@jupyter-widgets/controls",
          "model_name": "HTMLModel",
          "model_module_version": "1.5.0",
          "state": {
            "_dom_classes": [],
            "_model_module": "@jupyter-widgets/controls",
            "_model_module_version": "1.5.0",
            "_model_name": "HTMLModel",
            "_view_count": null,
            "_view_module": "@jupyter-widgets/controls",
            "_view_module_version": "1.5.0",
            "_view_name": "HTMLView",
            "description": "",
            "description_tooltip": null,
            "layout": "IPY_MODEL_f03dc4dd56664d2e9568425ec1fa164b",
            "placeholder": "​",
            "style": "IPY_MODEL_b04c58e58a204a8985349682b4c52e8b",
            "value": "Extraction completed...: 100%"
          }
        },
        "58cad67f1c5b4a2680d192fc24f02533": {
          "model_module": "@jupyter-widgets/controls",
          "model_name": "FloatProgressModel",
          "model_module_version": "1.5.0",
          "state": {
            "_dom_classes": [],
            "_model_module": "@jupyter-widgets/controls",
            "_model_module_version": "1.5.0",
            "_model_name": "FloatProgressModel",
            "_view_count": null,
            "_view_module": "@jupyter-widgets/controls",
            "_view_module_version": "1.5.0",
            "_view_name": "ProgressView",
            "bar_style": "success",
            "description": "",
            "description_tooltip": null,
            "layout": "IPY_MODEL_a30885423707474389710b9969720435",
            "max": 1,
            "min": 0,
            "orientation": "horizontal",
            "style": "IPY_MODEL_edfc75c0fc5845bc9eefd001370722b2",
            "value": 1
          }
        },
        "62fbd1bd727c4d9db6f1fd4972144b25": {
          "model_module": "@jupyter-widgets/controls",
          "model_name": "HTMLModel",
          "model_module_version": "1.5.0",
          "state": {
            "_dom_classes": [],
            "_model_module": "@jupyter-widgets/controls",
            "_model_module_version": "1.5.0",
            "_model_name": "HTMLModel",
            "_view_count": null,
            "_view_module": "@jupyter-widgets/controls",
            "_view_module_version": "1.5.0",
            "_view_name": "HTMLView",
            "description": "",
            "description_tooltip": null,
            "layout": "IPY_MODEL_680de8b7fbb640c6ae2e2870c1426d34",
            "placeholder": "​",
            "style": "IPY_MODEL_2d9f919074844619bd6199583f9e6e6f",
            "value": " 8/8 [00:13&lt;00:00, 13.24s/ file]"
          }
        },
        "ef5d043dc6ad47259d893118393468f1": {
          "model_module": "@jupyter-widgets/base",
          "model_name": "LayoutModel",
          "model_module_version": "1.2.0",
          "state": {
            "_model_module": "@jupyter-widgets/base",
            "_model_module_version": "1.2.0",
            "_model_name": "LayoutModel",
            "_view_count": null,
            "_view_module": "@jupyter-widgets/base",
            "_view_module_version": "1.2.0",
            "_view_name": "LayoutView",
            "align_content": null,
            "align_items": null,
            "align_self": null,
            "border": null,
            "bottom": null,
            "display": null,
            "flex": null,
            "flex_flow": null,
            "grid_area": null,
            "grid_auto_columns": null,
            "grid_auto_flow": null,
            "grid_auto_rows": null,
            "grid_column": null,
            "grid_gap": null,
            "grid_row": null,
            "grid_template_areas": null,
            "grid_template_columns": null,
            "grid_template_rows": null,
            "height": null,
            "justify_content": null,
            "justify_items": null,
            "left": null,
            "margin": null,
            "max_height": null,
            "max_width": null,
            "min_height": null,
            "min_width": null,
            "object_fit": null,
            "object_position": null,
            "order": null,
            "overflow": null,
            "overflow_x": null,
            "overflow_y": null,
            "padding": null,
            "right": null,
            "top": null,
            "visibility": null,
            "width": null
          }
        },
        "f03dc4dd56664d2e9568425ec1fa164b": {
          "model_module": "@jupyter-widgets/base",
          "model_name": "LayoutModel",
          "model_module_version": "1.2.0",
          "state": {
            "_model_module": "@jupyter-widgets/base",
            "_model_module_version": "1.2.0",
            "_model_name": "LayoutModel",
            "_view_count": null,
            "_view_module": "@jupyter-widgets/base",
            "_view_module_version": "1.2.0",
            "_view_name": "LayoutView",
            "align_content": null,
            "align_items": null,
            "align_self": null,
            "border": null,
            "bottom": null,
            "display": null,
            "flex": null,
            "flex_flow": null,
            "grid_area": null,
            "grid_auto_columns": null,
            "grid_auto_flow": null,
            "grid_auto_rows": null,
            "grid_column": null,
            "grid_gap": null,
            "grid_row": null,
            "grid_template_areas": null,
            "grid_template_columns": null,
            "grid_template_rows": null,
            "height": null,
            "justify_content": null,
            "justify_items": null,
            "left": null,
            "margin": null,
            "max_height": null,
            "max_width": null,
            "min_height": null,
            "min_width": null,
            "object_fit": null,
            "object_position": null,
            "order": null,
            "overflow": null,
            "overflow_x": null,
            "overflow_y": null,
            "padding": null,
            "right": null,
            "top": null,
            "visibility": null,
            "width": null
          }
        },
        "b04c58e58a204a8985349682b4c52e8b": {
          "model_module": "@jupyter-widgets/controls",
          "model_name": "DescriptionStyleModel",
          "model_module_version": "1.5.0",
          "state": {
            "_model_module": "@jupyter-widgets/controls",
            "_model_module_version": "1.5.0",
            "_model_name": "DescriptionStyleModel",
            "_view_count": null,
            "_view_module": "@jupyter-widgets/base",
            "_view_module_version": "1.2.0",
            "_view_name": "StyleView",
            "description_width": ""
          }
        },
        "a30885423707474389710b9969720435": {
          "model_module": "@jupyter-widgets/base",
          "model_name": "LayoutModel",
          "model_module_version": "1.2.0",
          "state": {
            "_model_module": "@jupyter-widgets/base",
            "_model_module_version": "1.2.0",
            "_model_name": "LayoutModel",
            "_view_count": null,
            "_view_module": "@jupyter-widgets/base",
            "_view_module_version": "1.2.0",
            "_view_name": "LayoutView",
            "align_content": null,
            "align_items": null,
            "align_self": null,
            "border": null,
            "bottom": null,
            "display": null,
            "flex": null,
            "flex_flow": null,
            "grid_area": null,
            "grid_auto_columns": null,
            "grid_auto_flow": null,
            "grid_auto_rows": null,
            "grid_column": null,
            "grid_gap": null,
            "grid_row": null,
            "grid_template_areas": null,
            "grid_template_columns": null,
            "grid_template_rows": null,
            "height": null,
            "justify_content": null,
            "justify_items": null,
            "left": null,
            "margin": null,
            "max_height": null,
            "max_width": null,
            "min_height": null,
            "min_width": null,
            "object_fit": null,
            "object_position": null,
            "order": null,
            "overflow": null,
            "overflow_x": null,
            "overflow_y": null,
            "padding": null,
            "right": null,
            "top": null,
            "visibility": null,
            "width": "20px"
          }
        },
        "edfc75c0fc5845bc9eefd001370722b2": {
          "model_module": "@jupyter-widgets/controls",
          "model_name": "ProgressStyleModel",
          "model_module_version": "1.5.0",
          "state": {
            "_model_module": "@jupyter-widgets/controls",
            "_model_module_version": "1.5.0",
            "_model_name": "ProgressStyleModel",
            "_view_count": null,
            "_view_module": "@jupyter-widgets/base",
            "_view_module_version": "1.2.0",
            "_view_name": "StyleView",
            "bar_color": null,
            "description_width": ""
          }
        },
        "680de8b7fbb640c6ae2e2870c1426d34": {
          "model_module": "@jupyter-widgets/base",
          "model_name": "LayoutModel",
          "model_module_version": "1.2.0",
          "state": {
            "_model_module": "@jupyter-widgets/base",
            "_model_module_version": "1.2.0",
            "_model_name": "LayoutModel",
            "_view_count": null,
            "_view_module": "@jupyter-widgets/base",
            "_view_module_version": "1.2.0",
            "_view_name": "LayoutView",
            "align_content": null,
            "align_items": null,
            "align_self": null,
            "border": null,
            "bottom": null,
            "display": null,
            "flex": null,
            "flex_flow": null,
            "grid_area": null,
            "grid_auto_columns": null,
            "grid_auto_flow": null,
            "grid_auto_rows": null,
            "grid_column": null,
            "grid_gap": null,
            "grid_row": null,
            "grid_template_areas": null,
            "grid_template_columns": null,
            "grid_template_rows": null,
            "height": null,
            "justify_content": null,
            "justify_items": null,
            "left": null,
            "margin": null,
            "max_height": null,
            "max_width": null,
            "min_height": null,
            "min_width": null,
            "object_fit": null,
            "object_position": null,
            "order": null,
            "overflow": null,
            "overflow_x": null,
            "overflow_y": null,
            "padding": null,
            "right": null,
            "top": null,
            "visibility": null,
            "width": null
          }
        },
        "2d9f919074844619bd6199583f9e6e6f": {
          "model_module": "@jupyter-widgets/controls",
          "model_name": "DescriptionStyleModel",
          "model_module_version": "1.5.0",
          "state": {
            "_model_module": "@jupyter-widgets/controls",
            "_model_module_version": "1.5.0",
            "_model_name": "DescriptionStyleModel",
            "_view_count": null,
            "_view_module": "@jupyter-widgets/base",
            "_view_module_version": "1.2.0",
            "_view_name": "StyleView",
            "description_width": ""
          }
        },
        "04662fe9f43d4f7596d5d0088618b3cd": {
          "model_module": "@jupyter-widgets/controls",
          "model_name": "HBoxModel",
          "model_module_version": "1.5.0",
          "state": {
            "_dom_classes": [],
            "_model_module": "@jupyter-widgets/controls",
            "_model_module_version": "1.5.0",
            "_model_name": "HBoxModel",
            "_view_count": null,
            "_view_module": "@jupyter-widgets/controls",
            "_view_module_version": "1.5.0",
            "_view_name": "HBoxView",
            "box_style": "",
            "children": [
              "IPY_MODEL_c31aa46994254a12b64bfcec9c6381fc",
              "IPY_MODEL_cb36c45661a240afab1f793a5daf2ca2",
              "IPY_MODEL_731f87587c6c470282ddb33061ee49af"
            ],
            "layout": "IPY_MODEL_4385cfd172fa42568080c8504c2b9aa8"
          }
        },
        "c31aa46994254a12b64bfcec9c6381fc": {
          "model_module": "@jupyter-widgets/controls",
          "model_name": "HTMLModel",
          "model_module_version": "1.5.0",
          "state": {
            "_dom_classes": [],
            "_model_module": "@jupyter-widgets/controls",
            "_model_module_version": "1.5.0",
            "_model_name": "HTMLModel",
            "_view_count": null,
            "_view_module": "@jupyter-widgets/controls",
            "_view_module_version": "1.5.0",
            "_view_name": "HTMLView",
            "description": "",
            "description_tooltip": null,
            "layout": "IPY_MODEL_f185b105407446e0929d4bc33066b522",
            "placeholder": "​",
            "style": "IPY_MODEL_787ecea4bc66427d9d011dcd16eca147",
            "value": "Generating splits...: 100%"
          }
        },
        "cb36c45661a240afab1f793a5daf2ca2": {
          "model_module": "@jupyter-widgets/controls",
          "model_name": "FloatProgressModel",
          "model_module_version": "1.5.0",
          "state": {
            "_dom_classes": [],
            "_model_module": "@jupyter-widgets/controls",
            "_model_module_version": "1.5.0",
            "_model_name": "FloatProgressModel",
            "_view_count": null,
            "_view_module": "@jupyter-widgets/controls",
            "_view_module_version": "1.5.0",
            "_view_name": "ProgressView",
            "bar_style": "",
            "description": "",
            "description_tooltip": null,
            "layout": "IPY_MODEL_0a47509f4bdb46df8a6870e31bf18927",
            "max": 2,
            "min": 0,
            "orientation": "horizontal",
            "style": "IPY_MODEL_64d6113a3a6442378c30c35a63b32a37",
            "value": 2
          }
        },
        "731f87587c6c470282ddb33061ee49af": {
          "model_module": "@jupyter-widgets/controls",
          "model_name": "HTMLModel",
          "model_module_version": "1.5.0",
          "state": {
            "_dom_classes": [],
            "_model_module": "@jupyter-widgets/controls",
            "_model_module_version": "1.5.0",
            "_model_name": "HTMLModel",
            "_view_count": null,
            "_view_module": "@jupyter-widgets/controls",
            "_view_module_version": "1.5.0",
            "_view_name": "HTMLView",
            "description": "",
            "description_tooltip": null,
            "layout": "IPY_MODEL_5608fbc6598c4e1b93731303b9c1e094",
            "placeholder": "​",
            "style": "IPY_MODEL_a11bf9445bfd45a0b2dd5025274ef0f3",
            "value": " 2/2 [01:09&lt;00:00, 30.15s/ splits]"
          }
        },
        "4385cfd172fa42568080c8504c2b9aa8": {
          "model_module": "@jupyter-widgets/base",
          "model_name": "LayoutModel",
          "model_module_version": "1.2.0",
          "state": {
            "_model_module": "@jupyter-widgets/base",
            "_model_module_version": "1.2.0",
            "_model_name": "LayoutModel",
            "_view_count": null,
            "_view_module": "@jupyter-widgets/base",
            "_view_module_version": "1.2.0",
            "_view_name": "LayoutView",
            "align_content": null,
            "align_items": null,
            "align_self": null,
            "border": null,
            "bottom": null,
            "display": null,
            "flex": null,
            "flex_flow": null,
            "grid_area": null,
            "grid_auto_columns": null,
            "grid_auto_flow": null,
            "grid_auto_rows": null,
            "grid_column": null,
            "grid_gap": null,
            "grid_row": null,
            "grid_template_areas": null,
            "grid_template_columns": null,
            "grid_template_rows": null,
            "height": null,
            "justify_content": null,
            "justify_items": null,
            "left": null,
            "margin": null,
            "max_height": null,
            "max_width": null,
            "min_height": null,
            "min_width": null,
            "object_fit": null,
            "object_position": null,
            "order": null,
            "overflow": null,
            "overflow_x": null,
            "overflow_y": null,
            "padding": null,
            "right": null,
            "top": null,
            "visibility": "hidden",
            "width": null
          }
        },
        "f185b105407446e0929d4bc33066b522": {
          "model_module": "@jupyter-widgets/base",
          "model_name": "LayoutModel",
          "model_module_version": "1.2.0",
          "state": {
            "_model_module": "@jupyter-widgets/base",
            "_model_module_version": "1.2.0",
            "_model_name": "LayoutModel",
            "_view_count": null,
            "_view_module": "@jupyter-widgets/base",
            "_view_module_version": "1.2.0",
            "_view_name": "LayoutView",
            "align_content": null,
            "align_items": null,
            "align_self": null,
            "border": null,
            "bottom": null,
            "display": null,
            "flex": null,
            "flex_flow": null,
            "grid_area": null,
            "grid_auto_columns": null,
            "grid_auto_flow": null,
            "grid_auto_rows": null,
            "grid_column": null,
            "grid_gap": null,
            "grid_row": null,
            "grid_template_areas": null,
            "grid_template_columns": null,
            "grid_template_rows": null,
            "height": null,
            "justify_content": null,
            "justify_items": null,
            "left": null,
            "margin": null,
            "max_height": null,
            "max_width": null,
            "min_height": null,
            "min_width": null,
            "object_fit": null,
            "object_position": null,
            "order": null,
            "overflow": null,
            "overflow_x": null,
            "overflow_y": null,
            "padding": null,
            "right": null,
            "top": null,
            "visibility": null,
            "width": null
          }
        },
        "787ecea4bc66427d9d011dcd16eca147": {
          "model_module": "@jupyter-widgets/controls",
          "model_name": "DescriptionStyleModel",
          "model_module_version": "1.5.0",
          "state": {
            "_model_module": "@jupyter-widgets/controls",
            "_model_module_version": "1.5.0",
            "_model_name": "DescriptionStyleModel",
            "_view_count": null,
            "_view_module": "@jupyter-widgets/base",
            "_view_module_version": "1.2.0",
            "_view_name": "StyleView",
            "description_width": ""
          }
        },
        "0a47509f4bdb46df8a6870e31bf18927": {
          "model_module": "@jupyter-widgets/base",
          "model_name": "LayoutModel",
          "model_module_version": "1.2.0",
          "state": {
            "_model_module": "@jupyter-widgets/base",
            "_model_module_version": "1.2.0",
            "_model_name": "LayoutModel",
            "_view_count": null,
            "_view_module": "@jupyter-widgets/base",
            "_view_module_version": "1.2.0",
            "_view_name": "LayoutView",
            "align_content": null,
            "align_items": null,
            "align_self": null,
            "border": null,
            "bottom": null,
            "display": null,
            "flex": null,
            "flex_flow": null,
            "grid_area": null,
            "grid_auto_columns": null,
            "grid_auto_flow": null,
            "grid_auto_rows": null,
            "grid_column": null,
            "grid_gap": null,
            "grid_row": null,
            "grid_template_areas": null,
            "grid_template_columns": null,
            "grid_template_rows": null,
            "height": null,
            "justify_content": null,
            "justify_items": null,
            "left": null,
            "margin": null,
            "max_height": null,
            "max_width": null,
            "min_height": null,
            "min_width": null,
            "object_fit": null,
            "object_position": null,
            "order": null,
            "overflow": null,
            "overflow_x": null,
            "overflow_y": null,
            "padding": null,
            "right": null,
            "top": null,
            "visibility": null,
            "width": null
          }
        },
        "64d6113a3a6442378c30c35a63b32a37": {
          "model_module": "@jupyter-widgets/controls",
          "model_name": "ProgressStyleModel",
          "model_module_version": "1.5.0",
          "state": {
            "_model_module": "@jupyter-widgets/controls",
            "_model_module_version": "1.5.0",
            "_model_name": "ProgressStyleModel",
            "_view_count": null,
            "_view_module": "@jupyter-widgets/base",
            "_view_module_version": "1.2.0",
            "_view_name": "StyleView",
            "bar_color": null,
            "description_width": ""
          }
        },
        "5608fbc6598c4e1b93731303b9c1e094": {
          "model_module": "@jupyter-widgets/base",
          "model_name": "LayoutModel",
          "model_module_version": "1.2.0",
          "state": {
            "_model_module": "@jupyter-widgets/base",
            "_model_module_version": "1.2.0",
            "_model_name": "LayoutModel",
            "_view_count": null,
            "_view_module": "@jupyter-widgets/base",
            "_view_module_version": "1.2.0",
            "_view_name": "LayoutView",
            "align_content": null,
            "align_items": null,
            "align_self": null,
            "border": null,
            "bottom": null,
            "display": null,
            "flex": null,
            "flex_flow": null,
            "grid_area": null,
            "grid_auto_columns": null,
            "grid_auto_flow": null,
            "grid_auto_rows": null,
            "grid_column": null,
            "grid_gap": null,
            "grid_row": null,
            "grid_template_areas": null,
            "grid_template_columns": null,
            "grid_template_rows": null,
            "height": null,
            "justify_content": null,
            "justify_items": null,
            "left": null,
            "margin": null,
            "max_height": null,
            "max_width": null,
            "min_height": null,
            "min_width": null,
            "object_fit": null,
            "object_position": null,
            "order": null,
            "overflow": null,
            "overflow_x": null,
            "overflow_y": null,
            "padding": null,
            "right": null,
            "top": null,
            "visibility": null,
            "width": null
          }
        },
        "a11bf9445bfd45a0b2dd5025274ef0f3": {
          "model_module": "@jupyter-widgets/controls",
          "model_name": "DescriptionStyleModel",
          "model_module_version": "1.5.0",
          "state": {
            "_model_module": "@jupyter-widgets/controls",
            "_model_module_version": "1.5.0",
            "_model_name": "DescriptionStyleModel",
            "_view_count": null,
            "_view_module": "@jupyter-widgets/base",
            "_view_module_version": "1.2.0",
            "_view_name": "StyleView",
            "description_width": ""
          }
        },
        "07fbd6e13881435ca458b88dcc6993a2": {
          "model_module": "@jupyter-widgets/controls",
          "model_name": "HBoxModel",
          "model_module_version": "1.5.0",
          "state": {
            "_dom_classes": [],
            "_model_module": "@jupyter-widgets/controls",
            "_model_module_version": "1.5.0",
            "_model_name": "HBoxModel",
            "_view_count": null,
            "_view_module": "@jupyter-widgets/controls",
            "_view_module_version": "1.5.0",
            "_view_name": "HBoxView",
            "box_style": "",
            "children": [
              "IPY_MODEL_1b751e18609a4b4baa27f853271f1e7f",
              "IPY_MODEL_818f01a516344fe4b39a73cfae40e383",
              "IPY_MODEL_e2f19fd5d56341118ecabe1589b88210"
            ],
            "layout": "IPY_MODEL_bafcde581e3643448d290d7a278ac34f"
          }
        },
        "1b751e18609a4b4baa27f853271f1e7f": {
          "model_module": "@jupyter-widgets/controls",
          "model_name": "HTMLModel",
          "model_module_version": "1.5.0",
          "state": {
            "_dom_classes": [],
            "_model_module": "@jupyter-widgets/controls",
            "_model_module_version": "1.5.0",
            "_model_name": "HTMLModel",
            "_view_count": null,
            "_view_module": "@jupyter-widgets/controls",
            "_view_module_version": "1.5.0",
            "_view_name": "HTMLView",
            "description": "",
            "description_tooltip": null,
            "layout": "IPY_MODEL_59c951719a734087b9e0578145faddc7",
            "placeholder": "​",
            "style": "IPY_MODEL_4cc5b8bc0f07407491fd633f9e78ce7d",
            "value": "Generating train examples...: 100%"
          }
        },
        "818f01a516344fe4b39a73cfae40e383": {
          "model_module": "@jupyter-widgets/controls",
          "model_name": "FloatProgressModel",
          "model_module_version": "1.5.0",
          "state": {
            "_dom_classes": [],
            "_model_module": "@jupyter-widgets/controls",
            "_model_module_version": "1.5.0",
            "_model_name": "FloatProgressModel",
            "_view_count": null,
            "_view_module": "@jupyter-widgets/controls",
            "_view_module_version": "1.5.0",
            "_view_name": "ProgressView",
            "bar_style": "",
            "description": "",
            "description_tooltip": null,
            "layout": "IPY_MODEL_0c304b0c372248888d8fb239dfd987d2",
            "max": 50000,
            "min": 0,
            "orientation": "horizontal",
            "style": "IPY_MODEL_420d8445e36e471e97c414b571f2fd2c",
            "value": 50000
          }
        },
        "e2f19fd5d56341118ecabe1589b88210": {
          "model_module": "@jupyter-widgets/controls",
          "model_name": "HTMLModel",
          "model_module_version": "1.5.0",
          "state": {
            "_dom_classes": [],
            "_model_module": "@jupyter-widgets/controls",
            "_model_module_version": "1.5.0",
            "_model_name": "HTMLModel",
            "_view_count": null,
            "_view_module": "@jupyter-widgets/controls",
            "_view_module_version": "1.5.0",
            "_view_name": "HTMLView",
            "description": "",
            "description_tooltip": null,
            "layout": "IPY_MODEL_b3803961ce6f492e8002f22a2ccd1c2c",
            "placeholder": "​",
            "style": "IPY_MODEL_29aba0b5795d4ab1b2c82bd71b104b66",
            "value": " 49757/50000 [01:00&lt;00:00, 1013.79 examples/s]"
          }
        },
        "bafcde581e3643448d290d7a278ac34f": {
          "model_module": "@jupyter-widgets/base",
          "model_name": "LayoutModel",
          "model_module_version": "1.2.0",
          "state": {
            "_model_module": "@jupyter-widgets/base",
            "_model_module_version": "1.2.0",
            "_model_name": "LayoutModel",
            "_view_count": null,
            "_view_module": "@jupyter-widgets/base",
            "_view_module_version": "1.2.0",
            "_view_name": "LayoutView",
            "align_content": null,
            "align_items": null,
            "align_self": null,
            "border": null,
            "bottom": null,
            "display": null,
            "flex": null,
            "flex_flow": null,
            "grid_area": null,
            "grid_auto_columns": null,
            "grid_auto_flow": null,
            "grid_auto_rows": null,
            "grid_column": null,
            "grid_gap": null,
            "grid_row": null,
            "grid_template_areas": null,
            "grid_template_columns": null,
            "grid_template_rows": null,
            "height": null,
            "justify_content": null,
            "justify_items": null,
            "left": null,
            "margin": null,
            "max_height": null,
            "max_width": null,
            "min_height": null,
            "min_width": null,
            "object_fit": null,
            "object_position": null,
            "order": null,
            "overflow": null,
            "overflow_x": null,
            "overflow_y": null,
            "padding": null,
            "right": null,
            "top": null,
            "visibility": "hidden",
            "width": null
          }
        },
        "59c951719a734087b9e0578145faddc7": {
          "model_module": "@jupyter-widgets/base",
          "model_name": "LayoutModel",
          "model_module_version": "1.2.0",
          "state": {
            "_model_module": "@jupyter-widgets/base",
            "_model_module_version": "1.2.0",
            "_model_name": "LayoutModel",
            "_view_count": null,
            "_view_module": "@jupyter-widgets/base",
            "_view_module_version": "1.2.0",
            "_view_name": "LayoutView",
            "align_content": null,
            "align_items": null,
            "align_self": null,
            "border": null,
            "bottom": null,
            "display": null,
            "flex": null,
            "flex_flow": null,
            "grid_area": null,
            "grid_auto_columns": null,
            "grid_auto_flow": null,
            "grid_auto_rows": null,
            "grid_column": null,
            "grid_gap": null,
            "grid_row": null,
            "grid_template_areas": null,
            "grid_template_columns": null,
            "grid_template_rows": null,
            "height": null,
            "justify_content": null,
            "justify_items": null,
            "left": null,
            "margin": null,
            "max_height": null,
            "max_width": null,
            "min_height": null,
            "min_width": null,
            "object_fit": null,
            "object_position": null,
            "order": null,
            "overflow": null,
            "overflow_x": null,
            "overflow_y": null,
            "padding": null,
            "right": null,
            "top": null,
            "visibility": null,
            "width": null
          }
        },
        "4cc5b8bc0f07407491fd633f9e78ce7d": {
          "model_module": "@jupyter-widgets/controls",
          "model_name": "DescriptionStyleModel",
          "model_module_version": "1.5.0",
          "state": {
            "_model_module": "@jupyter-widgets/controls",
            "_model_module_version": "1.5.0",
            "_model_name": "DescriptionStyleModel",
            "_view_count": null,
            "_view_module": "@jupyter-widgets/base",
            "_view_module_version": "1.2.0",
            "_view_name": "StyleView",
            "description_width": ""
          }
        },
        "0c304b0c372248888d8fb239dfd987d2": {
          "model_module": "@jupyter-widgets/base",
          "model_name": "LayoutModel",
          "model_module_version": "1.2.0",
          "state": {
            "_model_module": "@jupyter-widgets/base",
            "_model_module_version": "1.2.0",
            "_model_name": "LayoutModel",
            "_view_count": null,
            "_view_module": "@jupyter-widgets/base",
            "_view_module_version": "1.2.0",
            "_view_name": "LayoutView",
            "align_content": null,
            "align_items": null,
            "align_self": null,
            "border": null,
            "bottom": null,
            "display": null,
            "flex": null,
            "flex_flow": null,
            "grid_area": null,
            "grid_auto_columns": null,
            "grid_auto_flow": null,
            "grid_auto_rows": null,
            "grid_column": null,
            "grid_gap": null,
            "grid_row": null,
            "grid_template_areas": null,
            "grid_template_columns": null,
            "grid_template_rows": null,
            "height": null,
            "justify_content": null,
            "justify_items": null,
            "left": null,
            "margin": null,
            "max_height": null,
            "max_width": null,
            "min_height": null,
            "min_width": null,
            "object_fit": null,
            "object_position": null,
            "order": null,
            "overflow": null,
            "overflow_x": null,
            "overflow_y": null,
            "padding": null,
            "right": null,
            "top": null,
            "visibility": null,
            "width": null
          }
        },
        "420d8445e36e471e97c414b571f2fd2c": {
          "model_module": "@jupyter-widgets/controls",
          "model_name": "ProgressStyleModel",
          "model_module_version": "1.5.0",
          "state": {
            "_model_module": "@jupyter-widgets/controls",
            "_model_module_version": "1.5.0",
            "_model_name": "ProgressStyleModel",
            "_view_count": null,
            "_view_module": "@jupyter-widgets/base",
            "_view_module_version": "1.2.0",
            "_view_name": "StyleView",
            "bar_color": null,
            "description_width": ""
          }
        },
        "b3803961ce6f492e8002f22a2ccd1c2c": {
          "model_module": "@jupyter-widgets/base",
          "model_name": "LayoutModel",
          "model_module_version": "1.2.0",
          "state": {
            "_model_module": "@jupyter-widgets/base",
            "_model_module_version": "1.2.0",
            "_model_name": "LayoutModel",
            "_view_count": null,
            "_view_module": "@jupyter-widgets/base",
            "_view_module_version": "1.2.0",
            "_view_name": "LayoutView",
            "align_content": null,
            "align_items": null,
            "align_self": null,
            "border": null,
            "bottom": null,
            "display": null,
            "flex": null,
            "flex_flow": null,
            "grid_area": null,
            "grid_auto_columns": null,
            "grid_auto_flow": null,
            "grid_auto_rows": null,
            "grid_column": null,
            "grid_gap": null,
            "grid_row": null,
            "grid_template_areas": null,
            "grid_template_columns": null,
            "grid_template_rows": null,
            "height": null,
            "justify_content": null,
            "justify_items": null,
            "left": null,
            "margin": null,
            "max_height": null,
            "max_width": null,
            "min_height": null,
            "min_width": null,
            "object_fit": null,
            "object_position": null,
            "order": null,
            "overflow": null,
            "overflow_x": null,
            "overflow_y": null,
            "padding": null,
            "right": null,
            "top": null,
            "visibility": null,
            "width": null
          }
        },
        "29aba0b5795d4ab1b2c82bd71b104b66": {
          "model_module": "@jupyter-widgets/controls",
          "model_name": "DescriptionStyleModel",
          "model_module_version": "1.5.0",
          "state": {
            "_model_module": "@jupyter-widgets/controls",
            "_model_module_version": "1.5.0",
            "_model_name": "DescriptionStyleModel",
            "_view_count": null,
            "_view_module": "@jupyter-widgets/base",
            "_view_module_version": "1.2.0",
            "_view_name": "StyleView",
            "description_width": ""
          }
        },
        "79818eb0047445419215619cb21dd622": {
          "model_module": "@jupyter-widgets/controls",
          "model_name": "HBoxModel",
          "model_module_version": "1.5.0",
          "state": {
            "_dom_classes": [],
            "_model_module": "@jupyter-widgets/controls",
            "_model_module_version": "1.5.0",
            "_model_name": "HBoxModel",
            "_view_count": null,
            "_view_module": "@jupyter-widgets/controls",
            "_view_module_version": "1.5.0",
            "_view_name": "HBoxView",
            "box_style": "",
            "children": [
              "IPY_MODEL_71450af7626046b9bf56251a83939cd5",
              "IPY_MODEL_4d66ad4b15e24658a4c20d97302eef5d",
              "IPY_MODEL_9092a06b51724c65a3bdf0b0cabfee22"
            ],
            "layout": "IPY_MODEL_ba6b6be1d6ff49e49d28b0e9c07364cd"
          }
        },
        "71450af7626046b9bf56251a83939cd5": {
          "model_module": "@jupyter-widgets/controls",
          "model_name": "HTMLModel",
          "model_module_version": "1.5.0",
          "state": {
            "_dom_classes": [],
            "_model_module": "@jupyter-widgets/controls",
            "_model_module_version": "1.5.0",
            "_model_name": "HTMLModel",
            "_view_count": null,
            "_view_module": "@jupyter-widgets/controls",
            "_view_module_version": "1.5.0",
            "_view_name": "HTMLView",
            "description": "",
            "description_tooltip": null,
            "layout": "IPY_MODEL_0c1b252a33d44cba83854d2f80c3b6aa",
            "placeholder": "​",
            "style": "IPY_MODEL_d853b0e87a9943eda58ed40b6c30f519",
            "value": "Shuffling /root/tensorflow_datasets/cifar10/3.0.2.incompleteH4WL3N/cifar10-train.tfrecord*...:  84%"
          }
        },
        "4d66ad4b15e24658a4c20d97302eef5d": {
          "model_module": "@jupyter-widgets/controls",
          "model_name": "FloatProgressModel",
          "model_module_version": "1.5.0",
          "state": {
            "_dom_classes": [],
            "_model_module": "@jupyter-widgets/controls",
            "_model_module_version": "1.5.0",
            "_model_name": "FloatProgressModel",
            "_view_count": null,
            "_view_module": "@jupyter-widgets/controls",
            "_view_module_version": "1.5.0",
            "_view_name": "ProgressView",
            "bar_style": "",
            "description": "",
            "description_tooltip": null,
            "layout": "IPY_MODEL_539f48b7be984a09acb5e14c6d860855",
            "max": 50000,
            "min": 0,
            "orientation": "horizontal",
            "style": "IPY_MODEL_69265f95454142259dfd4986a1b9d68f",
            "value": 50000
          }
        },
        "9092a06b51724c65a3bdf0b0cabfee22": {
          "model_module": "@jupyter-widgets/controls",
          "model_name": "HTMLModel",
          "model_module_version": "1.5.0",
          "state": {
            "_dom_classes": [],
            "_model_module": "@jupyter-widgets/controls",
            "_model_module_version": "1.5.0",
            "_model_name": "HTMLModel",
            "_view_count": null,
            "_view_module": "@jupyter-widgets/controls",
            "_view_module_version": "1.5.0",
            "_view_name": "HTMLView",
            "description": "",
            "description_tooltip": null,
            "layout": "IPY_MODEL_401126ae64b84bba821485868f12581a",
            "placeholder": "​",
            "style": "IPY_MODEL_f32833d4e0e14a68b6f47d8814c2411f",
            "value": " 41806/50000 [00:00&lt;00:00, 153833.23 examples/s]"
          }
        },
        "ba6b6be1d6ff49e49d28b0e9c07364cd": {
          "model_module": "@jupyter-widgets/base",
          "model_name": "LayoutModel",
          "model_module_version": "1.2.0",
          "state": {
            "_model_module": "@jupyter-widgets/base",
            "_model_module_version": "1.2.0",
            "_model_name": "LayoutModel",
            "_view_count": null,
            "_view_module": "@jupyter-widgets/base",
            "_view_module_version": "1.2.0",
            "_view_name": "LayoutView",
            "align_content": null,
            "align_items": null,
            "align_self": null,
            "border": null,
            "bottom": null,
            "display": null,
            "flex": null,
            "flex_flow": null,
            "grid_area": null,
            "grid_auto_columns": null,
            "grid_auto_flow": null,
            "grid_auto_rows": null,
            "grid_column": null,
            "grid_gap": null,
            "grid_row": null,
            "grid_template_areas": null,
            "grid_template_columns": null,
            "grid_template_rows": null,
            "height": null,
            "justify_content": null,
            "justify_items": null,
            "left": null,
            "margin": null,
            "max_height": null,
            "max_width": null,
            "min_height": null,
            "min_width": null,
            "object_fit": null,
            "object_position": null,
            "order": null,
            "overflow": null,
            "overflow_x": null,
            "overflow_y": null,
            "padding": null,
            "right": null,
            "top": null,
            "visibility": "hidden",
            "width": null
          }
        },
        "0c1b252a33d44cba83854d2f80c3b6aa": {
          "model_module": "@jupyter-widgets/base",
          "model_name": "LayoutModel",
          "model_module_version": "1.2.0",
          "state": {
            "_model_module": "@jupyter-widgets/base",
            "_model_module_version": "1.2.0",
            "_model_name": "LayoutModel",
            "_view_count": null,
            "_view_module": "@jupyter-widgets/base",
            "_view_module_version": "1.2.0",
            "_view_name": "LayoutView",
            "align_content": null,
            "align_items": null,
            "align_self": null,
            "border": null,
            "bottom": null,
            "display": null,
            "flex": null,
            "flex_flow": null,
            "grid_area": null,
            "grid_auto_columns": null,
            "grid_auto_flow": null,
            "grid_auto_rows": null,
            "grid_column": null,
            "grid_gap": null,
            "grid_row": null,
            "grid_template_areas": null,
            "grid_template_columns": null,
            "grid_template_rows": null,
            "height": null,
            "justify_content": null,
            "justify_items": null,
            "left": null,
            "margin": null,
            "max_height": null,
            "max_width": null,
            "min_height": null,
            "min_width": null,
            "object_fit": null,
            "object_position": null,
            "order": null,
            "overflow": null,
            "overflow_x": null,
            "overflow_y": null,
            "padding": null,
            "right": null,
            "top": null,
            "visibility": null,
            "width": null
          }
        },
        "d853b0e87a9943eda58ed40b6c30f519": {
          "model_module": "@jupyter-widgets/controls",
          "model_name": "DescriptionStyleModel",
          "model_module_version": "1.5.0",
          "state": {
            "_model_module": "@jupyter-widgets/controls",
            "_model_module_version": "1.5.0",
            "_model_name": "DescriptionStyleModel",
            "_view_count": null,
            "_view_module": "@jupyter-widgets/base",
            "_view_module_version": "1.2.0",
            "_view_name": "StyleView",
            "description_width": ""
          }
        },
        "539f48b7be984a09acb5e14c6d860855": {
          "model_module": "@jupyter-widgets/base",
          "model_name": "LayoutModel",
          "model_module_version": "1.2.0",
          "state": {
            "_model_module": "@jupyter-widgets/base",
            "_model_module_version": "1.2.0",
            "_model_name": "LayoutModel",
            "_view_count": null,
            "_view_module": "@jupyter-widgets/base",
            "_view_module_version": "1.2.0",
            "_view_name": "LayoutView",
            "align_content": null,
            "align_items": null,
            "align_self": null,
            "border": null,
            "bottom": null,
            "display": null,
            "flex": null,
            "flex_flow": null,
            "grid_area": null,
            "grid_auto_columns": null,
            "grid_auto_flow": null,
            "grid_auto_rows": null,
            "grid_column": null,
            "grid_gap": null,
            "grid_row": null,
            "grid_template_areas": null,
            "grid_template_columns": null,
            "grid_template_rows": null,
            "height": null,
            "justify_content": null,
            "justify_items": null,
            "left": null,
            "margin": null,
            "max_height": null,
            "max_width": null,
            "min_height": null,
            "min_width": null,
            "object_fit": null,
            "object_position": null,
            "order": null,
            "overflow": null,
            "overflow_x": null,
            "overflow_y": null,
            "padding": null,
            "right": null,
            "top": null,
            "visibility": null,
            "width": null
          }
        },
        "69265f95454142259dfd4986a1b9d68f": {
          "model_module": "@jupyter-widgets/controls",
          "model_name": "ProgressStyleModel",
          "model_module_version": "1.5.0",
          "state": {
            "_model_module": "@jupyter-widgets/controls",
            "_model_module_version": "1.5.0",
            "_model_name": "ProgressStyleModel",
            "_view_count": null,
            "_view_module": "@jupyter-widgets/base",
            "_view_module_version": "1.2.0",
            "_view_name": "StyleView",
            "bar_color": null,
            "description_width": ""
          }
        },
        "401126ae64b84bba821485868f12581a": {
          "model_module": "@jupyter-widgets/base",
          "model_name": "LayoutModel",
          "model_module_version": "1.2.0",
          "state": {
            "_model_module": "@jupyter-widgets/base",
            "_model_module_version": "1.2.0",
            "_model_name": "LayoutModel",
            "_view_count": null,
            "_view_module": "@jupyter-widgets/base",
            "_view_module_version": "1.2.0",
            "_view_name": "LayoutView",
            "align_content": null,
            "align_items": null,
            "align_self": null,
            "border": null,
            "bottom": null,
            "display": null,
            "flex": null,
            "flex_flow": null,
            "grid_area": null,
            "grid_auto_columns": null,
            "grid_auto_flow": null,
            "grid_auto_rows": null,
            "grid_column": null,
            "grid_gap": null,
            "grid_row": null,
            "grid_template_areas": null,
            "grid_template_columns": null,
            "grid_template_rows": null,
            "height": null,
            "justify_content": null,
            "justify_items": null,
            "left": null,
            "margin": null,
            "max_height": null,
            "max_width": null,
            "min_height": null,
            "min_width": null,
            "object_fit": null,
            "object_position": null,
            "order": null,
            "overflow": null,
            "overflow_x": null,
            "overflow_y": null,
            "padding": null,
            "right": null,
            "top": null,
            "visibility": null,
            "width": null
          }
        },
        "f32833d4e0e14a68b6f47d8814c2411f": {
          "model_module": "@jupyter-widgets/controls",
          "model_name": "DescriptionStyleModel",
          "model_module_version": "1.5.0",
          "state": {
            "_model_module": "@jupyter-widgets/controls",
            "_model_module_version": "1.5.0",
            "_model_name": "DescriptionStyleModel",
            "_view_count": null,
            "_view_module": "@jupyter-widgets/base",
            "_view_module_version": "1.2.0",
            "_view_name": "StyleView",
            "description_width": ""
          }
        },
        "f7f7624184e04bd48522687eb987d91a": {
          "model_module": "@jupyter-widgets/controls",
          "model_name": "HBoxModel",
          "model_module_version": "1.5.0",
          "state": {
            "_dom_classes": [],
            "_model_module": "@jupyter-widgets/controls",
            "_model_module_version": "1.5.0",
            "_model_name": "HBoxModel",
            "_view_count": null,
            "_view_module": "@jupyter-widgets/controls",
            "_view_module_version": "1.5.0",
            "_view_name": "HBoxView",
            "box_style": "",
            "children": [
              "IPY_MODEL_82b0f4d768aa4ee4ab8f6179eedc3ed8",
              "IPY_MODEL_fc7a2613f1904248acc5bfffd1f6506b",
              "IPY_MODEL_937f2caa738241e9bbe8153a517210df"
            ],
            "layout": "IPY_MODEL_e66e8873560e4af58880566e53a2e354"
          }
        },
        "82b0f4d768aa4ee4ab8f6179eedc3ed8": {
          "model_module": "@jupyter-widgets/controls",
          "model_name": "HTMLModel",
          "model_module_version": "1.5.0",
          "state": {
            "_dom_classes": [],
            "_model_module": "@jupyter-widgets/controls",
            "_model_module_version": "1.5.0",
            "_model_name": "HTMLModel",
            "_view_count": null,
            "_view_module": "@jupyter-widgets/controls",
            "_view_module_version": "1.5.0",
            "_view_name": "HTMLView",
            "description": "",
            "description_tooltip": null,
            "layout": "IPY_MODEL_0ed67d2270394f23916fd23380938740",
            "placeholder": "​",
            "style": "IPY_MODEL_ea655496e31f482d986c35a36ae43956",
            "value": "Generating test examples...:  94%"
          }
        },
        "fc7a2613f1904248acc5bfffd1f6506b": {
          "model_module": "@jupyter-widgets/controls",
          "model_name": "FloatProgressModel",
          "model_module_version": "1.5.0",
          "state": {
            "_dom_classes": [],
            "_model_module": "@jupyter-widgets/controls",
            "_model_module_version": "1.5.0",
            "_model_name": "FloatProgressModel",
            "_view_count": null,
            "_view_module": "@jupyter-widgets/controls",
            "_view_module_version": "1.5.0",
            "_view_name": "ProgressView",
            "bar_style": "",
            "description": "",
            "description_tooltip": null,
            "layout": "IPY_MODEL_8aa76c6a7ccd497caf228bd9b4ea10da",
            "max": 10000,
            "min": 0,
            "orientation": "horizontal",
            "style": "IPY_MODEL_641648397bc94e6aa6b0a914d8ddcf91",
            "value": 10000
          }
        },
        "937f2caa738241e9bbe8153a517210df": {
          "model_module": "@jupyter-widgets/controls",
          "model_name": "HTMLModel",
          "model_module_version": "1.5.0",
          "state": {
            "_dom_classes": [],
            "_model_module": "@jupyter-widgets/controls",
            "_model_module_version": "1.5.0",
            "_model_name": "HTMLModel",
            "_view_count": null,
            "_view_module": "@jupyter-widgets/controls",
            "_view_module_version": "1.5.0",
            "_view_name": "HTMLView",
            "description": "",
            "description_tooltip": null,
            "layout": "IPY_MODEL_53ead4bc7d404fd5aa637d9e5807b5a9",
            "placeholder": "​",
            "style": "IPY_MODEL_7a3cdb179a2e46a39f80d6c05f94fe59",
            "value": " 9434/10000 [00:08&lt;00:00, 1223.84 examples/s]"
          }
        },
        "e66e8873560e4af58880566e53a2e354": {
          "model_module": "@jupyter-widgets/base",
          "model_name": "LayoutModel",
          "model_module_version": "1.2.0",
          "state": {
            "_model_module": "@jupyter-widgets/base",
            "_model_module_version": "1.2.0",
            "_model_name": "LayoutModel",
            "_view_count": null,
            "_view_module": "@jupyter-widgets/base",
            "_view_module_version": "1.2.0",
            "_view_name": "LayoutView",
            "align_content": null,
            "align_items": null,
            "align_self": null,
            "border": null,
            "bottom": null,
            "display": null,
            "flex": null,
            "flex_flow": null,
            "grid_area": null,
            "grid_auto_columns": null,
            "grid_auto_flow": null,
            "grid_auto_rows": null,
            "grid_column": null,
            "grid_gap": null,
            "grid_row": null,
            "grid_template_areas": null,
            "grid_template_columns": null,
            "grid_template_rows": null,
            "height": null,
            "justify_content": null,
            "justify_items": null,
            "left": null,
            "margin": null,
            "max_height": null,
            "max_width": null,
            "min_height": null,
            "min_width": null,
            "object_fit": null,
            "object_position": null,
            "order": null,
            "overflow": null,
            "overflow_x": null,
            "overflow_y": null,
            "padding": null,
            "right": null,
            "top": null,
            "visibility": "hidden",
            "width": null
          }
        },
        "0ed67d2270394f23916fd23380938740": {
          "model_module": "@jupyter-widgets/base",
          "model_name": "LayoutModel",
          "model_module_version": "1.2.0",
          "state": {
            "_model_module": "@jupyter-widgets/base",
            "_model_module_version": "1.2.0",
            "_model_name": "LayoutModel",
            "_view_count": null,
            "_view_module": "@jupyter-widgets/base",
            "_view_module_version": "1.2.0",
            "_view_name": "LayoutView",
            "align_content": null,
            "align_items": null,
            "align_self": null,
            "border": null,
            "bottom": null,
            "display": null,
            "flex": null,
            "flex_flow": null,
            "grid_area": null,
            "grid_auto_columns": null,
            "grid_auto_flow": null,
            "grid_auto_rows": null,
            "grid_column": null,
            "grid_gap": null,
            "grid_row": null,
            "grid_template_areas": null,
            "grid_template_columns": null,
            "grid_template_rows": null,
            "height": null,
            "justify_content": null,
            "justify_items": null,
            "left": null,
            "margin": null,
            "max_height": null,
            "max_width": null,
            "min_height": null,
            "min_width": null,
            "object_fit": null,
            "object_position": null,
            "order": null,
            "overflow": null,
            "overflow_x": null,
            "overflow_y": null,
            "padding": null,
            "right": null,
            "top": null,
            "visibility": null,
            "width": null
          }
        },
        "ea655496e31f482d986c35a36ae43956": {
          "model_module": "@jupyter-widgets/controls",
          "model_name": "DescriptionStyleModel",
          "model_module_version": "1.5.0",
          "state": {
            "_model_module": "@jupyter-widgets/controls",
            "_model_module_version": "1.5.0",
            "_model_name": "DescriptionStyleModel",
            "_view_count": null,
            "_view_module": "@jupyter-widgets/base",
            "_view_module_version": "1.2.0",
            "_view_name": "StyleView",
            "description_width": ""
          }
        },
        "8aa76c6a7ccd497caf228bd9b4ea10da": {
          "model_module": "@jupyter-widgets/base",
          "model_name": "LayoutModel",
          "model_module_version": "1.2.0",
          "state": {
            "_model_module": "@jupyter-widgets/base",
            "_model_module_version": "1.2.0",
            "_model_name": "LayoutModel",
            "_view_count": null,
            "_view_module": "@jupyter-widgets/base",
            "_view_module_version": "1.2.0",
            "_view_name": "LayoutView",
            "align_content": null,
            "align_items": null,
            "align_self": null,
            "border": null,
            "bottom": null,
            "display": null,
            "flex": null,
            "flex_flow": null,
            "grid_area": null,
            "grid_auto_columns": null,
            "grid_auto_flow": null,
            "grid_auto_rows": null,
            "grid_column": null,
            "grid_gap": null,
            "grid_row": null,
            "grid_template_areas": null,
            "grid_template_columns": null,
            "grid_template_rows": null,
            "height": null,
            "justify_content": null,
            "justify_items": null,
            "left": null,
            "margin": null,
            "max_height": null,
            "max_width": null,
            "min_height": null,
            "min_width": null,
            "object_fit": null,
            "object_position": null,
            "order": null,
            "overflow": null,
            "overflow_x": null,
            "overflow_y": null,
            "padding": null,
            "right": null,
            "top": null,
            "visibility": null,
            "width": null
          }
        },
        "641648397bc94e6aa6b0a914d8ddcf91": {
          "model_module": "@jupyter-widgets/controls",
          "model_name": "ProgressStyleModel",
          "model_module_version": "1.5.0",
          "state": {
            "_model_module": "@jupyter-widgets/controls",
            "_model_module_version": "1.5.0",
            "_model_name": "ProgressStyleModel",
            "_view_count": null,
            "_view_module": "@jupyter-widgets/base",
            "_view_module_version": "1.2.0",
            "_view_name": "StyleView",
            "bar_color": null,
            "description_width": ""
          }
        },
        "53ead4bc7d404fd5aa637d9e5807b5a9": {
          "model_module": "@jupyter-widgets/base",
          "model_name": "LayoutModel",
          "model_module_version": "1.2.0",
          "state": {
            "_model_module": "@jupyter-widgets/base",
            "_model_module_version": "1.2.0",
            "_model_name": "LayoutModel",
            "_view_count": null,
            "_view_module": "@jupyter-widgets/base",
            "_view_module_version": "1.2.0",
            "_view_name": "LayoutView",
            "align_content": null,
            "align_items": null,
            "align_self": null,
            "border": null,
            "bottom": null,
            "display": null,
            "flex": null,
            "flex_flow": null,
            "grid_area": null,
            "grid_auto_columns": null,
            "grid_auto_flow": null,
            "grid_auto_rows": null,
            "grid_column": null,
            "grid_gap": null,
            "grid_row": null,
            "grid_template_areas": null,
            "grid_template_columns": null,
            "grid_template_rows": null,
            "height": null,
            "justify_content": null,
            "justify_items": null,
            "left": null,
            "margin": null,
            "max_height": null,
            "max_width": null,
            "min_height": null,
            "min_width": null,
            "object_fit": null,
            "object_position": null,
            "order": null,
            "overflow": null,
            "overflow_x": null,
            "overflow_y": null,
            "padding": null,
            "right": null,
            "top": null,
            "visibility": null,
            "width": null
          }
        },
        "7a3cdb179a2e46a39f80d6c05f94fe59": {
          "model_module": "@jupyter-widgets/controls",
          "model_name": "DescriptionStyleModel",
          "model_module_version": "1.5.0",
          "state": {
            "_model_module": "@jupyter-widgets/controls",
            "_model_module_version": "1.5.0",
            "_model_name": "DescriptionStyleModel",
            "_view_count": null,
            "_view_module": "@jupyter-widgets/base",
            "_view_module_version": "1.2.0",
            "_view_name": "StyleView",
            "description_width": ""
          }
        },
        "1f68312c2e8042cd956cb992551cd426": {
          "model_module": "@jupyter-widgets/controls",
          "model_name": "HBoxModel",
          "model_module_version": "1.5.0",
          "state": {
            "_dom_classes": [],
            "_model_module": "@jupyter-widgets/controls",
            "_model_module_version": "1.5.0",
            "_model_name": "HBoxModel",
            "_view_count": null,
            "_view_module": "@jupyter-widgets/controls",
            "_view_module_version": "1.5.0",
            "_view_name": "HBoxView",
            "box_style": "",
            "children": [
              "IPY_MODEL_3e49a40c5eeb4a5baa7d5dc8f8f7139d",
              "IPY_MODEL_98e135f4829a40f7ab3f5468221094a4",
              "IPY_MODEL_d9a7165f55c84eb9895811d75207778d"
            ],
            "layout": "IPY_MODEL_d224273a862a43609607487cdbb89a04"
          }
        },
        "3e49a40c5eeb4a5baa7d5dc8f8f7139d": {
          "model_module": "@jupyter-widgets/controls",
          "model_name": "HTMLModel",
          "model_module_version": "1.5.0",
          "state": {
            "_dom_classes": [],
            "_model_module": "@jupyter-widgets/controls",
            "_model_module_version": "1.5.0",
            "_model_name": "HTMLModel",
            "_view_count": null,
            "_view_module": "@jupyter-widgets/controls",
            "_view_module_version": "1.5.0",
            "_view_name": "HTMLView",
            "description": "",
            "description_tooltip": null,
            "layout": "IPY_MODEL_db5c26242e6e41fbb5b4504840bff18e",
            "placeholder": "​",
            "style": "IPY_MODEL_ace7b29d2df647448c00ff21f945e270",
            "value": "Shuffling /root/tensorflow_datasets/cifar10/3.0.2.incompleteH4WL3N/cifar10-test.tfrecord*...:   0%"
          }
        },
        "98e135f4829a40f7ab3f5468221094a4": {
          "model_module": "@jupyter-widgets/controls",
          "model_name": "FloatProgressModel",
          "model_module_version": "1.5.0",
          "state": {
            "_dom_classes": [],
            "_model_module": "@jupyter-widgets/controls",
            "_model_module_version": "1.5.0",
            "_model_name": "FloatProgressModel",
            "_view_count": null,
            "_view_module": "@jupyter-widgets/controls",
            "_view_module_version": "1.5.0",
            "_view_name": "ProgressView",
            "bar_style": "",
            "description": "",
            "description_tooltip": null,
            "layout": "IPY_MODEL_e3a954b0f8494a419a14cd6cc077a1d5",
            "max": 10000,
            "min": 0,
            "orientation": "horizontal",
            "style": "IPY_MODEL_ce2a89a5a9a94602b76b092dab410703",
            "value": 10000
          }
        },
        "d9a7165f55c84eb9895811d75207778d": {
          "model_module": "@jupyter-widgets/controls",
          "model_name": "HTMLModel",
          "model_module_version": "1.5.0",
          "state": {
            "_dom_classes": [],
            "_model_module": "@jupyter-widgets/controls",
            "_model_module_version": "1.5.0",
            "_model_name": "HTMLModel",
            "_view_count": null,
            "_view_module": "@jupyter-widgets/controls",
            "_view_module_version": "1.5.0",
            "_view_name": "HTMLView",
            "description": "",
            "description_tooltip": null,
            "layout": "IPY_MODEL_55b51107c4ca45f3ba985a0a33803a11",
            "placeholder": "​",
            "style": "IPY_MODEL_4563994cb67f45c9b5769c75919ee1e8",
            "value": " 0/10000 [00:00&lt;?, ? examples/s]"
          }
        },
        "d224273a862a43609607487cdbb89a04": {
          "model_module": "@jupyter-widgets/base",
          "model_name": "LayoutModel",
          "model_module_version": "1.2.0",
          "state": {
            "_model_module": "@jupyter-widgets/base",
            "_model_module_version": "1.2.0",
            "_model_name": "LayoutModel",
            "_view_count": null,
            "_view_module": "@jupyter-widgets/base",
            "_view_module_version": "1.2.0",
            "_view_name": "LayoutView",
            "align_content": null,
            "align_items": null,
            "align_self": null,
            "border": null,
            "bottom": null,
            "display": null,
            "flex": null,
            "flex_flow": null,
            "grid_area": null,
            "grid_auto_columns": null,
            "grid_auto_flow": null,
            "grid_auto_rows": null,
            "grid_column": null,
            "grid_gap": null,
            "grid_row": null,
            "grid_template_areas": null,
            "grid_template_columns": null,
            "grid_template_rows": null,
            "height": null,
            "justify_content": null,
            "justify_items": null,
            "left": null,
            "margin": null,
            "max_height": null,
            "max_width": null,
            "min_height": null,
            "min_width": null,
            "object_fit": null,
            "object_position": null,
            "order": null,
            "overflow": null,
            "overflow_x": null,
            "overflow_y": null,
            "padding": null,
            "right": null,
            "top": null,
            "visibility": "hidden",
            "width": null
          }
        },
        "db5c26242e6e41fbb5b4504840bff18e": {
          "model_module": "@jupyter-widgets/base",
          "model_name": "LayoutModel",
          "model_module_version": "1.2.0",
          "state": {
            "_model_module": "@jupyter-widgets/base",
            "_model_module_version": "1.2.0",
            "_model_name": "LayoutModel",
            "_view_count": null,
            "_view_module": "@jupyter-widgets/base",
            "_view_module_version": "1.2.0",
            "_view_name": "LayoutView",
            "align_content": null,
            "align_items": null,
            "align_self": null,
            "border": null,
            "bottom": null,
            "display": null,
            "flex": null,
            "flex_flow": null,
            "grid_area": null,
            "grid_auto_columns": null,
            "grid_auto_flow": null,
            "grid_auto_rows": null,
            "grid_column": null,
            "grid_gap": null,
            "grid_row": null,
            "grid_template_areas": null,
            "grid_template_columns": null,
            "grid_template_rows": null,
            "height": null,
            "justify_content": null,
            "justify_items": null,
            "left": null,
            "margin": null,
            "max_height": null,
            "max_width": null,
            "min_height": null,
            "min_width": null,
            "object_fit": null,
            "object_position": null,
            "order": null,
            "overflow": null,
            "overflow_x": null,
            "overflow_y": null,
            "padding": null,
            "right": null,
            "top": null,
            "visibility": null,
            "width": null
          }
        },
        "ace7b29d2df647448c00ff21f945e270": {
          "model_module": "@jupyter-widgets/controls",
          "model_name": "DescriptionStyleModel",
          "model_module_version": "1.5.0",
          "state": {
            "_model_module": "@jupyter-widgets/controls",
            "_model_module_version": "1.5.0",
            "_model_name": "DescriptionStyleModel",
            "_view_count": null,
            "_view_module": "@jupyter-widgets/base",
            "_view_module_version": "1.2.0",
            "_view_name": "StyleView",
            "description_width": ""
          }
        },
        "e3a954b0f8494a419a14cd6cc077a1d5": {
          "model_module": "@jupyter-widgets/base",
          "model_name": "LayoutModel",
          "model_module_version": "1.2.0",
          "state": {
            "_model_module": "@jupyter-widgets/base",
            "_model_module_version": "1.2.0",
            "_model_name": "LayoutModel",
            "_view_count": null,
            "_view_module": "@jupyter-widgets/base",
            "_view_module_version": "1.2.0",
            "_view_name": "LayoutView",
            "align_content": null,
            "align_items": null,
            "align_self": null,
            "border": null,
            "bottom": null,
            "display": null,
            "flex": null,
            "flex_flow": null,
            "grid_area": null,
            "grid_auto_columns": null,
            "grid_auto_flow": null,
            "grid_auto_rows": null,
            "grid_column": null,
            "grid_gap": null,
            "grid_row": null,
            "grid_template_areas": null,
            "grid_template_columns": null,
            "grid_template_rows": null,
            "height": null,
            "justify_content": null,
            "justify_items": null,
            "left": null,
            "margin": null,
            "max_height": null,
            "max_width": null,
            "min_height": null,
            "min_width": null,
            "object_fit": null,
            "object_position": null,
            "order": null,
            "overflow": null,
            "overflow_x": null,
            "overflow_y": null,
            "padding": null,
            "right": null,
            "top": null,
            "visibility": null,
            "width": null
          }
        },
        "ce2a89a5a9a94602b76b092dab410703": {
          "model_module": "@jupyter-widgets/controls",
          "model_name": "ProgressStyleModel",
          "model_module_version": "1.5.0",
          "state": {
            "_model_module": "@jupyter-widgets/controls",
            "_model_module_version": "1.5.0",
            "_model_name": "ProgressStyleModel",
            "_view_count": null,
            "_view_module": "@jupyter-widgets/base",
            "_view_module_version": "1.2.0",
            "_view_name": "StyleView",
            "bar_color": null,
            "description_width": ""
          }
        },
        "55b51107c4ca45f3ba985a0a33803a11": {
          "model_module": "@jupyter-widgets/base",
          "model_name": "LayoutModel",
          "model_module_version": "1.2.0",
          "state": {
            "_model_module": "@jupyter-widgets/base",
            "_model_module_version": "1.2.0",
            "_model_name": "LayoutModel",
            "_view_count": null,
            "_view_module": "@jupyter-widgets/base",
            "_view_module_version": "1.2.0",
            "_view_name": "LayoutView",
            "align_content": null,
            "align_items": null,
            "align_self": null,
            "border": null,
            "bottom": null,
            "display": null,
            "flex": null,
            "flex_flow": null,
            "grid_area": null,
            "grid_auto_columns": null,
            "grid_auto_flow": null,
            "grid_auto_rows": null,
            "grid_column": null,
            "grid_gap": null,
            "grid_row": null,
            "grid_template_areas": null,
            "grid_template_columns": null,
            "grid_template_rows": null,
            "height": null,
            "justify_content": null,
            "justify_items": null,
            "left": null,
            "margin": null,
            "max_height": null,
            "max_width": null,
            "min_height": null,
            "min_width": null,
            "object_fit": null,
            "object_position": null,
            "order": null,
            "overflow": null,
            "overflow_x": null,
            "overflow_y": null,
            "padding": null,
            "right": null,
            "top": null,
            "visibility": null,
            "width": null
          }
        },
        "4563994cb67f45c9b5769c75919ee1e8": {
          "model_module": "@jupyter-widgets/controls",
          "model_name": "DescriptionStyleModel",
          "model_module_version": "1.5.0",
          "state": {
            "_model_module": "@jupyter-widgets/controls",
            "_model_module_version": "1.5.0",
            "_model_name": "DescriptionStyleModel",
            "_view_count": null,
            "_view_module": "@jupyter-widgets/base",
            "_view_module_version": "1.2.0",
            "_view_name": "StyleView",
            "description_width": ""
          }
        }
      }
    },
    "accelerator": "GPU"
  },
  "cells": [
    {
      "cell_type": "code",
      "execution_count": 1,
      "metadata": {
        "id": "GF6wktkYUb4s"
      },
      "outputs": [],
      "source": [
        "import tensorflow as tf\n",
        "from tensorflow import keras\n",
        "from keras import layers\n",
        "import tensorflow_datasets as tfds\n",
        "import matplotlib.pyplot as plt"
      ]
    },
    {
      "cell_type": "code",
      "source": [
        "(ds_train, ds_test), ds_info = tfds. load (\n",
        "    \"cifar10\",\n",
        "    split=[\"train\", \"test\"],\n",
        "    shuffle_files=True,\n",
        "    as_supervised=True,\n",
        "    with_info=True,\n",
        "\n",
        ")"
      ],
      "metadata": {
        "id": "u9Sm0GYgWV3k",
        "colab": {
          "base_uri": "https://localhost:8080/",
          "height": 169,
          "referenced_widgets": [
            "32d554bbbbc04c68bcf2c1f0139bdc8f",
            "2d6e165bfe7945e88f4ed31bd007e010",
            "1221c7f0b0d44bd58f6a3528574393e0",
            "32351fb4308f441b8ce2f869b624fadc",
            "01744da62a2d4d7a80802b347bc1e929",
            "587a3bb71eb64f72a9da23bc388eed60",
            "fb66937d04da4831882790aefcfc99ca",
            "c75b810187e24f2f8d5524f471324462",
            "eae11ba8cec74a269095a6e0ae15f943",
            "e691519a932047c29e4e26113c8db3dd",
            "b3a5b2d7de3645c8b1c89c0555c16817",
            "1270f93f8ad247ba800b1de0ca51858b",
            "17ca36f6d55a47f4991f4d7f63f90b4e",
            "dce8d0f39912490bbce99e76573c156e",
            "40cc9da6b190428381ec44f124b00896",
            "e80a67ebf25a4481a4de0adf0dfd7992",
            "b99fd613cd8b4c009dcfd13399765ade",
            "fb8dc6209c614e33a83efb9d75905a43",
            "4d1397c37d1744c0b7a5130ffc8d7f59",
            "6afa23bda96f4a789809865e9269eb3a",
            "90cf63a02c5445c2a0e70edbdbb2f15a",
            "7ce8d4f119c54b909f6efe852fa35ea8",
            "e588b21a56bd452c9dd2305c568983c1",
            "46ac8903a79c44edaf89f3e1b72b93c8",
            "58cad67f1c5b4a2680d192fc24f02533",
            "62fbd1bd727c4d9db6f1fd4972144b25",
            "ef5d043dc6ad47259d893118393468f1",
            "f03dc4dd56664d2e9568425ec1fa164b",
            "b04c58e58a204a8985349682b4c52e8b",
            "a30885423707474389710b9969720435",
            "edfc75c0fc5845bc9eefd001370722b2",
            "680de8b7fbb640c6ae2e2870c1426d34",
            "2d9f919074844619bd6199583f9e6e6f",
            "04662fe9f43d4f7596d5d0088618b3cd",
            "c31aa46994254a12b64bfcec9c6381fc",
            "cb36c45661a240afab1f793a5daf2ca2",
            "731f87587c6c470282ddb33061ee49af",
            "4385cfd172fa42568080c8504c2b9aa8",
            "f185b105407446e0929d4bc33066b522",
            "787ecea4bc66427d9d011dcd16eca147",
            "0a47509f4bdb46df8a6870e31bf18927",
            "64d6113a3a6442378c30c35a63b32a37",
            "5608fbc6598c4e1b93731303b9c1e094",
            "a11bf9445bfd45a0b2dd5025274ef0f3",
            "07fbd6e13881435ca458b88dcc6993a2",
            "1b751e18609a4b4baa27f853271f1e7f",
            "818f01a516344fe4b39a73cfae40e383",
            "e2f19fd5d56341118ecabe1589b88210",
            "bafcde581e3643448d290d7a278ac34f",
            "59c951719a734087b9e0578145faddc7",
            "4cc5b8bc0f07407491fd633f9e78ce7d",
            "0c304b0c372248888d8fb239dfd987d2",
            "420d8445e36e471e97c414b571f2fd2c",
            "b3803961ce6f492e8002f22a2ccd1c2c",
            "29aba0b5795d4ab1b2c82bd71b104b66",
            "79818eb0047445419215619cb21dd622",
            "71450af7626046b9bf56251a83939cd5",
            "4d66ad4b15e24658a4c20d97302eef5d",
            "9092a06b51724c65a3bdf0b0cabfee22",
            "ba6b6be1d6ff49e49d28b0e9c07364cd",
            "0c1b252a33d44cba83854d2f80c3b6aa",
            "d853b0e87a9943eda58ed40b6c30f519",
            "539f48b7be984a09acb5e14c6d860855",
            "69265f95454142259dfd4986a1b9d68f",
            "401126ae64b84bba821485868f12581a",
            "f32833d4e0e14a68b6f47d8814c2411f",
            "f7f7624184e04bd48522687eb987d91a",
            "82b0f4d768aa4ee4ab8f6179eedc3ed8",
            "fc7a2613f1904248acc5bfffd1f6506b",
            "937f2caa738241e9bbe8153a517210df",
            "e66e8873560e4af58880566e53a2e354",
            "0ed67d2270394f23916fd23380938740",
            "ea655496e31f482d986c35a36ae43956",
            "8aa76c6a7ccd497caf228bd9b4ea10da",
            "641648397bc94e6aa6b0a914d8ddcf91",
            "53ead4bc7d404fd5aa637d9e5807b5a9",
            "7a3cdb179a2e46a39f80d6c05f94fe59",
            "1f68312c2e8042cd956cb992551cd426",
            "3e49a40c5eeb4a5baa7d5dc8f8f7139d",
            "98e135f4829a40f7ab3f5468221094a4",
            "d9a7165f55c84eb9895811d75207778d",
            "d224273a862a43609607487cdbb89a04",
            "db5c26242e6e41fbb5b4504840bff18e",
            "ace7b29d2df647448c00ff21f945e270",
            "e3a954b0f8494a419a14cd6cc077a1d5",
            "ce2a89a5a9a94602b76b092dab410703",
            "55b51107c4ca45f3ba985a0a33803a11",
            "4563994cb67f45c9b5769c75919ee1e8"
          ]
        },
        "outputId": "6c9f5f4f-a38b-4014-e41a-3e29197321bd"
      },
      "execution_count": 2,
      "outputs": [
        {
          "output_type": "stream",
          "name": "stdout",
          "text": [
            "Downloading and preparing dataset 162.17 MiB (download: 162.17 MiB, generated: 132.40 MiB, total: 294.58 MiB) to /root/tensorflow_datasets/cifar10/3.0.2...\n"
          ]
        },
        {
          "output_type": "display_data",
          "data": {
            "text/plain": [
              "Dl Completed...: 0 url [00:00, ? url/s]"
            ],
            "application/vnd.jupyter.widget-view+json": {
              "version_major": 2,
              "version_minor": 0,
              "model_id": "32d554bbbbc04c68bcf2c1f0139bdc8f"
            }
          },
          "metadata": {}
        },
        {
          "output_type": "display_data",
          "data": {
            "text/plain": [
              "Dl Size...: 0 MiB [00:00, ? MiB/s]"
            ],
            "application/vnd.jupyter.widget-view+json": {
              "version_major": 2,
              "version_minor": 0,
              "model_id": "1270f93f8ad247ba800b1de0ca51858b"
            }
          },
          "metadata": {}
        },
        {
          "output_type": "display_data",
          "data": {
            "text/plain": [
              "Extraction completed...: 0 file [00:00, ? file/s]"
            ],
            "application/vnd.jupyter.widget-view+json": {
              "version_major": 2,
              "version_minor": 0,
              "model_id": "e588b21a56bd452c9dd2305c568983c1"
            }
          },
          "metadata": {}
        },
        {
          "output_type": "display_data",
          "data": {
            "text/plain": [
              "Generating splits...:   0%|          | 0/2 [00:00<?, ? splits/s]"
            ],
            "application/vnd.jupyter.widget-view+json": {
              "version_major": 2,
              "version_minor": 0,
              "model_id": "04662fe9f43d4f7596d5d0088618b3cd"
            }
          },
          "metadata": {}
        },
        {
          "output_type": "display_data",
          "data": {
            "text/plain": [
              "Generating train examples...:   0%|          | 0/50000 [00:00<?, ? examples/s]"
            ],
            "application/vnd.jupyter.widget-view+json": {
              "version_major": 2,
              "version_minor": 0,
              "model_id": "07fbd6e13881435ca458b88dcc6993a2"
            }
          },
          "metadata": {}
        },
        {
          "output_type": "display_data",
          "data": {
            "text/plain": [
              "Shuffling /root/tensorflow_datasets/cifar10/3.0.2.incompleteH4WL3N/cifar10-train.tfrecord*...:   0%|          …"
            ],
            "application/vnd.jupyter.widget-view+json": {
              "version_major": 2,
              "version_minor": 0,
              "model_id": "79818eb0047445419215619cb21dd622"
            }
          },
          "metadata": {}
        },
        {
          "output_type": "display_data",
          "data": {
            "text/plain": [
              "Generating test examples...:   0%|          | 0/10000 [00:00<?, ? examples/s]"
            ],
            "application/vnd.jupyter.widget-view+json": {
              "version_major": 2,
              "version_minor": 0,
              "model_id": "f7f7624184e04bd48522687eb987d91a"
            }
          },
          "metadata": {}
        },
        {
          "output_type": "display_data",
          "data": {
            "text/plain": [
              "Shuffling /root/tensorflow_datasets/cifar10/3.0.2.incompleteH4WL3N/cifar10-test.tfrecord*...:   0%|          |…"
            ],
            "application/vnd.jupyter.widget-view+json": {
              "version_major": 2,
              "version_minor": 0,
              "model_id": "1f68312c2e8042cd956cb992551cd426"
            }
          },
          "metadata": {}
        },
        {
          "output_type": "stream",
          "name": "stdout",
          "text": [
            "Dataset cifar10 downloaded and prepared to /root/tensorflow_datasets/cifar10/3.0.2. Subsequent calls will reuse this data.\n"
          ]
        }
      ]
    },
    {
      "cell_type": "code",
      "source": [
        "def normalize_image(image, label):\n",
        "  return tf.cast(image, tf.float32)/255.0, label"
      ],
      "metadata": {
        "id": "S-DJ7wTZWW0o"
      },
      "execution_count": 3,
      "outputs": []
    },
    {
      "cell_type": "code",
      "source": [
        "def augment (image, label):\n",
        "  new_height = new_width = 32\n",
        "\n",
        "  image = tf.image.resize(image,(new_height, new_width))\n",
        "\n",
        "  if tf.random.uniform((), minval=0, maxval=1) < 0.1:\n",
        "    image = tf.image.rgb_to_grayscale (image)\n",
        "    image=tf.tile(image, [1,1,3])\n",
        "  image = tf.image.random_brightness(image, max_delta=0.1)\n",
        "  image = tf. image. random_contrast (image, lower=0.1, upper=0.2)\n",
        "  image = tf.image.random_flip_left_right (image)\n",
        "  return image, label"
      ],
      "metadata": {
        "id": "gApI0bW5WhVU"
      },
      "execution_count": 4,
      "outputs": []
    },
    {
      "cell_type": "code",
      "source": [
        "AUTOTUNE=tf.data.experimental.AUTOTUNE #tf allow us to give this to set automatically\n",
        "BATCH_SIZE=32\n",
        "\n",
        "ds_train=ds_train.map(normalize_image, num_parallel_calls=AUTOTUNE) # in normalize function these is no sequence so\n",
        "#process can be done paralelly\n",
        "ds_train= ds_train.cache() #it keep next data in memory so it will be fast\n",
        "ds_train=ds_train.shuffle(ds_info.splits['train'].num_examples) #we can give 1000 so it will see 1000 datat points but\n",
        "#it depends on records in a file so take from that\n",
        "\n",
        "\n",
        "#ds_train=ds_train.map(augment, num_parallel_calls=AUTOTUNE)\n",
        "\n",
        "\n",
        "\n",
        "ds_train=ds_train.batch(BATCH_SIZE)\n",
        "ds_train=ds_train.prefetch(AUTOTUNE) #it keeps 64 examples ready when running on gpu the current one"
      ],
      "metadata": {
        "id": "FPtbERxDWsP7"
      },
      "execution_count": 5,
      "outputs": []
    },
    {
      "cell_type": "code",
      "source": [
        "ds_test=ds_test.map(normalize_image, num_parallel_calls=AUTOTUNE)\n",
        "ds_test=ds_test.batch(128)\n",
        "ds_test=ds_test.prefetch(AUTOTUNE)"
      ],
      "metadata": {
        "id": "M975Sv8sWuLa"
      },
      "execution_count": 6,
      "outputs": []
    },
    {
      "cell_type": "code",
      "source": [
        "class_names = [\n",
        "\"Airplane\",\n",
        "\"Autmobile\",\n",
        "\"Bird\",\n",
        "\"Cat\",\n",
        "\"Deep\",\n",
        "\"Dog\",\n",
        "\"Frog\",\n",
        "\"Horse\"\n",
        "\"Ship\",\n",
        "\"Truck\"\n",
        "]"
      ],
      "metadata": {
        "id": "slygdvbhWwfU"
      },
      "execution_count": 7,
      "outputs": []
    },
    {
      "cell_type": "code",
      "source": [
        "def get_model() :\n",
        "  model = keras. Sequential (\n",
        "      [\n",
        "          layers. Input ((32, 32, 3)),\n",
        "          layers. Conv2D(8, 3, padding =\"same\", activation=\"relu\"),\n",
        "          layers. Conv2D(16, 3, padding=\"same\", activation=\"relu\"),\n",
        "          layers. MaxPooling2D((2, 2)),\n",
        "          layers .Flatten (),\n",
        "          layers. Dense (64, activation=\"relu\"),\n",
        "          layers.Dropout (0.1),\n",
        "          layers. Dense (10),\n",
        "]\n",
        "  )\n",
        "  return model"
      ],
      "metadata": {
        "id": "vZD-QqNrW3gX"
      },
      "execution_count": 8,
      "outputs": []
    },
    {
      "cell_type": "code",
      "source": [
        "#Using tensorboard using callbacks for logging data\n",
        "model = get_model ()\n",
        "\n",
        "model. compile(\n",
        "    optimizer=keras.optimizers.Adam(lr=0.001),\n",
        "    loss=keras.losses.SparseCategoricalCrossentropy(from_logits=True),\n",
        "    metrics=[\"accuracy\"]\n",
        ")\n",
        "\n",
        "tensorboard_callback = keras.callbacks.TensorBoard(\n",
        "    log_dir= 'tb_callbacks_dir', #where we want to keep track all logs\n",
        "    histogram_freq=1, #for distribution plots of gradients\n",
        ")"
      ],
      "metadata": {
        "colab": {
          "base_uri": "https://localhost:8080/"
        },
        "id": "vF-db61WY9_M",
        "outputId": "102b83dc-7294-4628-d9b9-aff58270ed54"
      },
      "execution_count": 9,
      "outputs": [
        {
          "output_type": "stream",
          "name": "stderr",
          "text": [
            "WARNING:absl:`lr` is deprecated in Keras optimizer, please use `learning_rate` or use the legacy optimizer, e.g.,tf.keras.optimizers.legacy.Adam.\n"
          ]
        }
      ]
    },
    {
      "cell_type": "code",
      "source": [
        "#for running tensorboard from colab\n",
        "#we dont need to do all this when doing on system\n",
        "\n",
        "#loading tensorboard\n",
        "%load_ext tensorboard\n",
        "\n",
        "#The tensorboard extension is already loaded. To reload it, use:\n",
        "#%reload_ext tensorboard\n",
        "\n",
        "#remove log folder\n",
        "!rm -rf ./tb_callbacks_dir/\n",
        "\n",
        "import datetime\n",
        "log_ = \"tb_callbacks_dir/modelFit/\" + datetime.datetime.now().strftime(\"%d-%m-%Y-%H%M%S\")\n",
        "\n",
        "\n",
        "tensorboard_callback = keras.callbacks. TensorBoard(\n",
        "    log_dir= log_,\n",
        "    histogram_freq=1,\n",
        ")"
      ],
      "metadata": {
        "id": "ZwRqZ0sDdbTl"
      },
      "execution_count": 10,
      "outputs": []
    },
    {
      "cell_type": "code",
      "source": [
        "model.fit(\n",
        "    ds_train,\n",
        "    epochs=2,\n",
        "    validation_data=ds_test,\n",
        "    callbacks=[tensorboard_callback],\n",
        "    verbose=2,\n",
        ")"
      ],
      "metadata": {
        "colab": {
          "base_uri": "https://localhost:8080/"
        },
        "id": "WDNOIOL2bSjs",
        "outputId": "4ba23c77-cd63-4f20-978f-021bc0c123ca"
      },
      "execution_count": 11,
      "outputs": [
        {
          "output_type": "stream",
          "name": "stdout",
          "text": [
            "Epoch 1/2\n",
            "1563/1563 - 27s - loss: 1.5476 - accuracy: 0.4415 - val_loss: 1.3420 - val_accuracy: 0.5147 - 27s/epoch - 17ms/step\n",
            "Epoch 2/2\n",
            "1563/1563 - 6s - loss: 1.2429 - accuracy: 0.5574 - val_loss: 1.1577 - val_accuracy: 0.5883 - 6s/epoch - 4ms/step\n"
          ]
        },
        {
          "output_type": "execute_result",
          "data": {
            "text/plain": [
              "<keras.src.callbacks.History at 0x7f2d480ebe50>"
            ]
          },
          "metadata": {},
          "execution_count": 11
        }
      ]
    },
    {
      "cell_type": "code",
      "source": [
        "#when doing on colab then we use tensorboard extension\n",
        "\n",
        "# %tensorboard --logdir tb_callbacks_dir/modelFit/"
      ],
      "metadata": {
        "id": "oTk5-TV4ecxF",
        "collapsed": true
      },
      "execution_count": 12,
      "outputs": []
    },
    {
      "cell_type": "code",
      "source": [
        "#this we do in command line when working on system\n",
        "\n",
        "#tensorboard --logdir tb_callbacks_dir"
      ],
      "metadata": {
        "id": "LSVF7GGqbpWY"
      },
      "execution_count": 13,
      "outputs": []
    },
    {
      "cell_type": "code",
      "source": [
        "#scalar show train val accuracy loss\n",
        "#graph show the structure of model\n",
        "#histogram show distribution of parameters"
      ],
      "metadata": {
        "id": "71JBSJWkb_HO"
      },
      "execution_count": 14,
      "outputs": []
    },
    {
      "cell_type": "code",
      "source": [
        "#custom traning and as it gives more flexibity\n",
        "#here we are creating logs in custom training and using tensorboard\n",
        "\n",
        "model = get_model ()\n",
        "num_epochs = 5\n",
        "loss_fn = keras. losses. SparseCategoricalCrossentropy (from_logits=True)\n",
        "optimizer = keras.optimizers.Adam (lr=0.001)\n",
        "acc_metric = keras .metrics. SparseCategoricalAccuracy ()\n",
        "\n",
        "#these are writers to write things\n",
        "train_writer = tf.summary.create_file_writer (\"logs/train/\")\n",
        "test_writer = tf.summary. create_file_writer (\"logs/test/\")\n",
        "train_step = test_step = 0 #for train and test both will be tracked at every step"
      ],
      "metadata": {
        "colab": {
          "base_uri": "https://localhost:8080/"
        },
        "id": "98exjLUAXVLb",
        "outputId": "a1f2d0d3-c915-4a8f-85a4-73015cf6b67c"
      },
      "execution_count": 15,
      "outputs": [
        {
          "output_type": "stream",
          "name": "stderr",
          "text": [
            "WARNING:absl:`lr` is deprecated in Keras optimizer, please use `learning_rate` or use the legacy optimizer, e.g.,tf.keras.optimizers.legacy.Adam.\n"
          ]
        }
      ]
    },
    {
      "cell_type": "code",
      "source": [
        "for epoch in range (num_epochs) :\n",
        "  # Iterate through training set\n",
        "  for batch_idx, (x, y) in enumerate (ds_train) :\n",
        "\n",
        "    with tf. GradientTape () as tape:\n",
        "      y_pred = model (x, training=True)\n",
        "      loss = loss_fn(y, y_pred)\n",
        "\n",
        "    gradients = tape.gradient(loss, model.trainable_weights)\n",
        "    optimizer.apply_gradients(zip(gradients, model.trainable_weights))\n",
        "    acc_metric.update_state(y, y_pred)\n",
        "\n",
        "  with train_writer.as_default():\n",
        "    tf.summary.scalar('Loss', loss, step=epoch) #here we are giving loss of last batch instead we have to make a list append all and give mean of that\n",
        "    tf.summary.scalar('Accuracy', acc_metric.result(), step=epoch) #it got reset for every epoch for train and test\n",
        "\n",
        "  # Reset accuracy in between epochs (and for testing and test)\n",
        "  acc_metric.reset_states ()\n",
        "\n",
        "\n",
        "  # Iterate through test set\n",
        "  for batch_idx, (x,y) in enumerate (ds_test):\n",
        "    y_pred = model(x, training=False)\n",
        "    loss = loss_fn(y, y_pred)\n",
        "    acc_metric.update_state (y, y_pred)\n",
        "\n",
        "  with test_writer.as_default():\n",
        "    tf.summary.scalar('Loss', loss, step=epoch) #here we are giving loss of last batch instead we have to make a list append all and give mean of that\n",
        "    tf.summary.scalar('Accuracy', acc_metric.result(), step=epoch) #it got reset for every epoch for train and test\n",
        "\n",
        "\n",
        "  acc_metric.reset_states ()"
      ],
      "metadata": {
        "colab": {
          "base_uri": "https://localhost:8080/"
        },
        "id": "qeRlO33XX9Il",
        "outputId": "3f5c4a5f-ba6c-49fb-cb12-1665b0d894eb"
      },
      "execution_count": 16,
      "outputs": [
        {
          "output_type": "stream",
          "name": "stderr",
          "text": [
            "WARNING:tensorflow:5 out of the last 5 calls to <function _BaseOptimizer._update_step_xla at 0x7f2d4817f640> triggered tf.function retracing. Tracing is expensive and the excessive number of tracings could be due to (1) creating @tf.function repeatedly in a loop, (2) passing tensors with different shapes, (3) passing Python objects instead of tensors. For (1), please define your @tf.function outside of the loop. For (2), @tf.function has reduce_retracing=True option that can avoid unnecessary retracing. For (3), please refer to https://www.tensorflow.org/guide/function#controlling_retracing and https://www.tensorflow.org/api_docs/python/tf/function for  more details.\n",
            "WARNING:tensorflow:6 out of the last 6 calls to <function _BaseOptimizer._update_step_xla at 0x7f2d4817f640> triggered tf.function retracing. Tracing is expensive and the excessive number of tracings could be due to (1) creating @tf.function repeatedly in a loop, (2) passing tensors with different shapes, (3) passing Python objects instead of tensors. For (1), please define your @tf.function outside of the loop. For (2), @tf.function has reduce_retracing=True option that can avoid unnecessary retracing. For (3), please refer to https://www.tensorflow.org/guide/function#controlling_retracing and https://www.tensorflow.org/api_docs/python/tf/function for  more details.\n"
          ]
        }
      ]
    },
    {
      "cell_type": "code",
      "source": [
        "# %reload_ext tensorboard\n",
        "# %tensorboard --logdir logs/"
      ],
      "metadata": {
        "id": "mgS4PnM1kQuM",
        "collapsed": true
      },
      "execution_count": 17,
      "outputs": []
    },
    {
      "cell_type": "code",
      "source": [
        "#we can also log things for every batch so graph will be more smoother"
      ],
      "metadata": {
        "id": "XRO52G3kkuGK"
      },
      "execution_count": 18,
      "outputs": []
    },
    {
      "cell_type": "code",
      "source": [
        "#we can do hyperparameter tuning with custom looping\n",
        "#here doing grid search\n",
        "\n",
        "for lr in [1e-1, 1e-2, 1e-3, 1e-4]:\n",
        "  train_writer = tf.summary.create_file_writer (\"logs/train/\"+str(lr))\n",
        "  test_writer = tf.summary. create_file_writer (\"logs/test/\"+str(lr))\n",
        "  train_step = test_step = 0\n",
        "  model = get_model ()\n",
        "  optimizer = keras.optimizers.Adam (lr=lr)\n",
        "\n",
        "  for epoch in range (num_epochs) :\n",
        "    # Iterate through training set\n",
        "    for batch_idx, (x, y) in enumerate (ds_train) :\n",
        "\n",
        "      with tf. GradientTape () as tape:\n",
        "        y_pred = model (x, training=True)\n",
        "        loss = loss_fn(y, y_pred)\n",
        "\n",
        "      gradients = tape.gradient(loss, model.trainable_weights)\n",
        "      optimizer.apply_gradients (zip (gradients, model.trainable_weights))\n",
        "      acc_metric.update_state (y, y_pred)\n",
        "\n",
        "      with train_writer.as_default():\n",
        "        tf.summary.scalar('Loss', loss, step=train_step)  #for every batch we are doing\n",
        "        tf.summary.scalar('Accuracy', acc_metric.result(), step=train_step)\n",
        "        train_step+=1\n",
        "\n",
        "    # Reset accuracy in between epochs (and for testing and test)\n",
        "    acc_metric.reset_states ()\n",
        "\n",
        "\n",
        "    # Iterate through test set\n",
        "    for batch_idx, (x,y) in enumerate (ds_test):\n",
        "      y_pred = model(x, training=False)\n",
        "      loss = loss_fn(y, y_pred)\n",
        "      acc_metric.update_state (y, y_pred)\n",
        "\n",
        "      with test_writer.as_default():\n",
        "        tf.summary.scalar('Loss', loss, step=test_step)\n",
        "        tf.summary.scalar('Accuracy', acc_metric.result(), step=test_step)\n",
        "        test_step+=1\n",
        "\n",
        "\n",
        "    acc_metric.reset_states ()"
      ],
      "metadata": {
        "colab": {
          "base_uri": "https://localhost:8080/"
        },
        "id": "uNB_0y3RlgAI",
        "outputId": "a9ece0ff-d5f6-4ddd-bb00-ee61def55de2"
      },
      "execution_count": null,
      "outputs": [
        {
          "output_type": "stream",
          "name": "stderr",
          "text": [
            "WARNING:absl:`lr` is deprecated in Keras optimizer, please use `learning_rate` or use the legacy optimizer, e.g.,tf.keras.optimizers.legacy.Adam.\n",
            "WARNING:absl:`lr` is deprecated in Keras optimizer, please use `learning_rate` or use the legacy optimizer, e.g.,tf.keras.optimizers.legacy.Adam.\n",
            "WARNING:absl:`lr` is deprecated in Keras optimizer, please use `learning_rate` or use the legacy optimizer, e.g.,tf.keras.optimizers.legacy.Adam.\n"
          ]
        }
      ]
    },
    {
      "cell_type": "code",
      "source": [
        "# %reload_ext tensorboard\n",
        "# %tensorboard --logdir logs/"
      ],
      "metadata": {
        "id": "LjHhPwxen40N",
        "collapsed": true
      },
      "execution_count": null,
      "outputs": []
    },
    {
      "cell_type": "markdown",
      "source": [
        "### Visualizing images"
      ],
      "metadata": {
        "id": "ySYLox2n3eqB"
      }
    },
    {
      "cell_type": "code",
      "source": [
        "#visualizing images"
      ],
      "metadata": {
        "id": "2hozsjI3rdzs"
      },
      "execution_count": null,
      "outputs": []
    },
    {
      "cell_type": "code",
      "source": [
        "def augment (image, label):\n",
        "  new_height = new_width = 32\n",
        "\n",
        "  image = tf.image.resize(image,(new_height, new_width))\n",
        "\n",
        "  if tf.random.uniform((), minval=0, maxval=1) < 0.1:\n",
        "    image = tf.image.rgb_to_grayscale (image)\n",
        "    image=tf.tile(image, [1,1,3])\n",
        "  image = tf.image.random_brightness(image, max_delta=0.1)\n",
        "  image = tf. image. random_contrast (image, lower=0.1, upper=0.2)\n",
        "  image = tf.image.random_flip_left_right (image)\n",
        "\n",
        "  #matplotlib wants value between 0 and 1\n",
        "  #though we nomalize image but doing augmentation can happen that values are not in [0,1]\n",
        "  image=tf.clip_by_value(image, clip_value_min=0, clip_value_max=1)\n",
        "\n",
        "  return image, label"
      ],
      "metadata": {
        "id": "G-1aklvKiimC"
      },
      "execution_count": null,
      "outputs": []
    },
    {
      "cell_type": "code",
      "source": [
        "AUTOTUNE=tf.data.experimental.AUTOTUNE\n",
        "BATCH_SIZE=32\n",
        "\n",
        "ds_train=ds_train.map(normalize_image, num_parallel_calls=AUTOTUNE)\n",
        "ds_train= ds_train.cache()\n",
        "ds_train=ds_train.shuffle(ds_info.splits['train'].num_examples)\n",
        "ds_train=ds_train.map(augment, num_parallel_calls=AUTOTUNE)\n",
        "ds_train=ds_train.batch(BATCH_SIZE)\n",
        "ds_train=ds_train.prefetch(AUTOTUNE)\n",
        "\n",
        "ds_test=ds_test.map(normalize_image, num_parallel_calls=AUTOTUNE)\n",
        "ds_test=ds_test.batch(128)\n",
        "ds_test=ds_test.prefetch(AUTOTUNE)\n",
        "\n",
        "class_names = [\n",
        "\"Airplane\",\n",
        "\"Autmobile\",\n",
        "\"Bird\",\n",
        "\"Cat\",\n",
        "\"Deep\",\n",
        "\"Dog\",\n",
        "\"Frog\",\n",
        "\"Horse\",\n",
        "\"Ship\",\n",
        "\"Truck\"\n",
        "]"
      ],
      "metadata": {
        "id": "74HrGQyXjZUM"
      },
      "execution_count": null,
      "outputs": []
    },
    {
      "cell_type": "code",
      "source": [
        "!rm -rf ./image_logs/"
      ],
      "metadata": {
        "id": "f_XIee16wc1Q"
      },
      "execution_count": null,
      "outputs": []
    },
    {
      "cell_type": "code",
      "source": [
        "model = get_model ()\n",
        "num_epochs = 1\n",
        "loss_fn = keras. losses. SparseCategoricalCrossentropy (from_logits=True)\n",
        "optimizer = keras.optimizers.Adam (lr=0.001)\n",
        "acc_metric = keras .metrics. SparseCategoricalAccuracy ()\n",
        "\n",
        "writer = tf.summary.create_file_writer (\"/content/image_logs/\")\n",
        "step = 0"
      ],
      "metadata": {
        "id": "OLtgqntkjZ8T"
      },
      "execution_count": null,
      "outputs": []
    },
    {
      "cell_type": "code",
      "source": [
        "#plot_to_image and image_grid should be defined in utils.py\n",
        "import matplotlib.pyplot as plt\n",
        "import tensorflow as tf\n",
        "from tensorflow import keras\n",
        "import numpy as np\n",
        "import io\n",
        "import sklearn.metrics\n",
        "from tensorboard.plugins import projector\n",
        "import cv2\n",
        "import os\n",
        "import shutil\n",
        "\n",
        "def plot_to_image(figure):\n",
        "  \"\"\"Converts the matplotlib plot specified by 'figure' to a PNG image and\n",
        "  returns it. The supplied figure is closed and inaccessible after this call.\"\"\"\n",
        "  # Save the plot to a PNG in memory.\n",
        "  buf = io.BytesIO()\n",
        "  plt.savefig(buf, format='png')\n",
        "  # Closing the figure prevents it from being displayed directly inside\n",
        "  # the notebook.\n",
        "  plt.close(figure)\n",
        "  buf.seek(0)\n",
        "  # Convert PNG buffer to TF image\n",
        "  image = tf.image.decode_png(buf.getvalue(), channels=4)\n",
        "  # Add the batch dimension\n",
        "  image = tf.expand_dims(image, 0)\n",
        "  return image\n",
        "\n",
        "\n",
        "def image_grid(data, labels, class_names):\n",
        "\n",
        "  #data should be in BATCH_SIZE*H*W*C form\n",
        "  assert data.ndim==4\n",
        "\n",
        "  \"\"\"Return a 5x5 grid as a matplotlib figure.\"\"\"\n",
        "\n",
        "  # Create a figure to contain the plot.\n",
        "  figure = plt.figure(figsize=(10,10))\n",
        "\n",
        "  num_images=data.shape[0]\n",
        "  size=int(np.ceil(np.sqrt(num_images)))\n",
        "\n",
        "  for i in range(num_images):\n",
        "    # Start next subplot.\n",
        "    plt.subplot(size,size, i+1, title=class_names[labels[i]])\n",
        "    plt.xticks([])\n",
        "    plt.yticks([])\n",
        "    plt.grid(False)\n",
        "\n",
        "    if data.shape[3]==1:\n",
        "      plt.imshow(data[i], cmap=plt.cm.binary)\n",
        "    else:\n",
        "      plt.imshow(data[i], cmap=plt.cm.binary)\n",
        "\n",
        "  return figure"
      ],
      "metadata": {
        "id": "poxfhOnwk2ah"
      },
      "execution_count": null,
      "outputs": []
    },
    {
      "cell_type": "code",
      "source": [
        "sampled_train = ds_train.take(5)"
      ],
      "metadata": {
        "id": "SWsWQem7g_WZ"
      },
      "execution_count": null,
      "outputs": []
    },
    {
      "cell_type": "code",
      "source": [
        "for epoch in range (num_epochs) :\n",
        "  # Iterate through training set\n",
        "  for batch_idx, (x, y) in enumerate (sampled_train) :\n",
        "\n",
        "    figure = image_grid(x, y, class_names)\n",
        "    with writer.as_default() :\n",
        "      tf.summary.image (\"Visualize Images\", plot_to_image (figure), step=step,)\n",
        "    step += 1"
      ],
      "metadata": {
        "id": "dJ2rt65CkkfO"
      },
      "execution_count": null,
      "outputs": []
    },
    {
      "cell_type": "code",
      "source": [
        "# %reload_ext tensorboard\n",
        "# %tensorboard --logdir image_logs/"
      ],
      "metadata": {
        "id": "3fp1cRhQqwJ_",
        "collapsed": true
      },
      "execution_count": null,
      "outputs": []
    },
    {
      "cell_type": "markdown",
      "source": [
        "### Confusion matrix"
      ],
      "metadata": {
        "id": "t0HfOpr-3joq"
      }
    },
    {
      "cell_type": "code",
      "source": [
        "#confusion matrix"
      ],
      "metadata": {
        "id": "MmVPvX_CsCUQ"
      },
      "execution_count": null,
      "outputs": []
    },
    {
      "cell_type": "code",
      "source": [
        "#create get_confusion_matrix and plot_confusion_matrix in utils.py\n",
        "import numpy as np\n",
        "from sklearn import metrics\n",
        "def get_confusion_matrix (y_labels, logits, class_names):\n",
        "  preds=np.argmax(logits, axis=1)\n",
        "  cm= metrics.confusion_matrix(\n",
        "      y_labels, preds, labels=np.arange(len(class_names)) #we write labels as in batch can happen that some classes not theere\n",
        "      #so it will destroy whole matrix\n",
        "  )\n",
        "  return cm\n",
        "def plot_confusion_matrix(cm, class_names) :\n",
        "\n",
        "  size = len (class_names)\n",
        "  figure = plt.figure(figsize=(size, size))\n",
        "  plt.imshow (cm, interpolation=\"nearest\", cmap=plt.cm.Blues)\n",
        "  plt.title (\"Confusion Matrix\")\n",
        "  indices = np.arange (len (class_names))\n",
        "  plt.xticks (indices, class_names, rotation=45)\n",
        "  plt.yticks (indices, class_names)\n",
        "\n",
        "  # Normalize Confusion Matrix\n",
        "  cm = np. around (\n",
        "      cm.astype (\"float\") / cm.sum (axis=1) [:, np. newaxis], decimals=3,\n",
        "      )\n",
        "  threshold = cm.max() / 2.0\n",
        "  for i in range (size):\n",
        "    for j in range (size) :\n",
        "      color = \"white\" if cm[i,j] > threshold else \"black\"\n",
        "      plt.text(\n",
        "          i, j, cm[i, j], horizontalalignment=\"center\", color=color,\n",
        "      )\n",
        "  plt.tight_layout ()\n",
        "  plt.xlabel(\"True Label\")\n",
        "  plt.ylabel(\"Predicted label\")\n",
        "  cm_image = plot_to_image (figure)\n",
        "  return cm_image"
      ],
      "metadata": {
        "id": "CBdGyCIGu6n_"
      },
      "execution_count": null,
      "outputs": []
    },
    {
      "cell_type": "code",
      "source": [
        "!rm -rf ./confusionMat_logs/"
      ],
      "metadata": {
        "id": "7gSFk9dx3YB6"
      },
      "execution_count": null,
      "outputs": []
    },
    {
      "cell_type": "code",
      "source": [
        "model = get_model ()\n",
        "num_epochs = 1\n",
        "loss_fn = keras. losses. SparseCategoricalCrossentropy (from_logits=True)\n",
        "optimizer = keras.optimizers.Adam (lr=0.001)\n",
        "acc_metric = keras .metrics. SparseCategoricalAccuracy ()\n",
        "\n",
        "train_writer = tf.summary.create_file_writer (\"confusionMat_logs/train/\")\n",
        "test_writer = tf.summary. create_file_writer (\"confusionMat_logs/test/\")\n",
        "train_step= test_step = 0\n",
        "\n",
        "\n",
        "#at every batch we will be updating confusion matrix\n",
        "for epoch in range (num_epochs) :\n",
        "  confusion=np.zeros((len(class_names), len(class_names)))\n",
        "\n",
        "  for batch_idx, (x, y) in enumerate (sampled_train) :\n",
        "\n",
        "    with tf. GradientTape () as tape:\n",
        "      y_pred = model (x, training=True)\n",
        "      loss = loss_fn(y, y_pred)\n",
        "\n",
        "    gradients = tape.gradient(loss, model.trainable_weights)\n",
        "    optimizer.apply_gradients (zip (gradients, model.trainable_weights))\n",
        "    acc_metric.update_state (y, y_pred)\n",
        "\n",
        "    confusion +=get_confusion_matrix(y, y_pred, class_names)\n",
        "\n",
        "    with train_writer.as_default() :\n",
        "      tf.summary. image (\"Confusion Matrix\",\n",
        "                         plot_confusion_matrix(confusion/batch_idx, class_names), #because we want\n",
        "                         #average at every epoch so divide by batch idx\n",
        "                         step=epoch,)\n",
        "\n",
        "  acc_metric.reset_states ()"
      ],
      "metadata": {
        "id": "DCMHuyhZsD77"
      },
      "execution_count": null,
      "outputs": []
    },
    {
      "cell_type": "code",
      "source": [
        "# %reload_ext tensorboard\n",
        "# %tensorboard --logdir confusionMat_logs/"
      ],
      "metadata": {
        "id": "88gi4rj10zZW",
        "collapsed": true
      },
      "execution_count": null,
      "outputs": []
    },
    {
      "cell_type": "markdown",
      "source": [
        "### Visulaizing graphs"
      ],
      "metadata": {
        "id": "EKCzSLPt3pRY"
      }
    },
    {
      "cell_type": "code",
      "source": [
        "#graph vis"
      ],
      "metadata": {
        "id": "jnjAqzPh2QgJ"
      },
      "execution_count": null,
      "outputs": []
    },
    {
      "cell_type": "code",
      "source": [
        "!rm -rf ./logs/"
      ],
      "metadata": {
        "id": "XMkMQqInlAgR"
      },
      "execution_count": null,
      "outputs": []
    },
    {
      "cell_type": "code",
      "source": [
        "from tensorflow import keras\n",
        "from tensorflow.keras import layers\n",
        "\n",
        "\n",
        "writer = tf. summary. create_file_writer (\"logs/graphs_vis\")"
      ],
      "metadata": {
        "id": "ZIZjHOz1gnEz"
      },
      "execution_count": null,
      "outputs": []
    },
    {
      "cell_type": "code",
      "source": [
        "model=get_model()"
      ],
      "metadata": {
        "id": "SkPcoNb4lwcv"
      },
      "execution_count": null,
      "outputs": []
    },
    {
      "cell_type": "code",
      "source": [
        "model.summary()"
      ],
      "metadata": {
        "id": "2h6Oyt_8lx--"
      },
      "execution_count": null,
      "outputs": []
    },
    {
      "cell_type": "code",
      "source": [
        "@tf.function #for telling that make this part of static graph\n",
        "def my_func(x, y) :\n",
        "  return tf.nn.relu(tf .matmul (x, y))\n",
        "\n",
        "x = tf.random. uniform ( (3, 3))\n",
        "y = tf.random. uniform ( (3, 3))\n",
        "\n",
        "tf.summary.trace_on(graph=True, profiler=True)\n",
        "out=my_func(x,y)"
      ],
      "metadata": {
        "id": "s8IWI3EOjeq2"
      },
      "execution_count": null,
      "outputs": []
    },
    {
      "cell_type": "code",
      "source": [
        "with writer.as_default():\n",
        "  tf.summary.trace_export (\n",
        "      name=\"function_trace\",\n",
        "      step=0,\n",
        "      profiler_outdir=\"logs/graphs_vis/\"\n",
        "  )"
      ],
      "metadata": {
        "id": "89wM6_E4j9Kd"
      },
      "execution_count": null,
      "outputs": []
    },
    {
      "cell_type": "code",
      "source": [
        "# %reload_ext tensorboard\n",
        "# %tensorboard --logdir logs/"
      ],
      "metadata": {
        "collapsed": true,
        "id": "ijLqTrAwkkoh"
      },
      "execution_count": null,
      "outputs": []
    },
    {
      "cell_type": "markdown",
      "source": [
        "### Hyperparameter"
      ],
      "metadata": {
        "id": "wVkrt3oT3tB4"
      }
    },
    {
      "cell_type": "code",
      "source": [
        "#Hyperparameter"
      ],
      "metadata": {
        "id": "v_VTM1-ilMEa"
      },
      "execution_count": null,
      "outputs": []
    },
    {
      "cell_type": "code",
      "source": [
        "import tensorflow as tf\n",
        "from tensorflow import keras\n",
        "from keras import layers\n",
        "import tensorflow_datasets as tfds\n",
        "import matplotlib.pyplot as plt\n",
        "import numpy as np\n",
        "\n",
        "\n",
        "from tensorboard.plugins.hparams import api as hp"
      ],
      "metadata": {
        "id": "psmrex2Qmpnz"
      },
      "execution_count": null,
      "outputs": []
    },
    {
      "cell_type": "code",
      "source": [
        "(ds_train, ds_test), ds_info = tfds. load (\n",
        "    \"cifar10\",\n",
        "    split=[\"train\", \"test\"],\n",
        "    shuffle_files=True,\n",
        "    as_supervised=True,\n",
        "    with_info=True,\n",
        "\n",
        ")\n",
        "def normalize_image(image, label):\n",
        "  return tf.cast(image, tf.float32)/255.0, label\n",
        "def augment (image, label):\n",
        "  new_height = new_width = 32\n",
        "\n",
        "  image = tf.image.resize(image,(new_height, new_width))\n",
        "\n",
        "  if tf.random.uniform((), minval=0, maxval=1) < 0.1:\n",
        "    image = tf.image.rgb_to_grayscale (image)\n",
        "    image=tf.tile(image, [1,1,3])\n",
        "  image = tf.image.random_brightness(image, max_delta=0.1)\n",
        "  image = tf. image. random_contrast (image, lower=0.1, upper=0.2)\n",
        "  image = tf.image.random_flip_left_right (image)\n",
        "  return image, label\n",
        "\n",
        "AUTOTUNE=tf.data.experimental.AUTOTUNE #tf allow us to give this to set automatically\n",
        "BATCH_SIZE=32\n",
        "\n",
        "ds_train=ds_train.map(normalize_image, num_parallel_calls=AUTOTUNE) # in normalize function these is no sequence so\n",
        "#process can be done paralelly\n",
        "ds_train= ds_train.cache() #it keep next data in memory so it will be fast\n",
        "ds_train=ds_train.shuffle(ds_info.splits['train'].num_examples) #we can give 1000 so it will see 1000 datat points but\n",
        "#it depends on records in a file so take from that\n",
        "\n",
        "\n",
        "#ds_train=ds_train.map(augment, num_parallel_calls=AUTOTUNE)\n",
        "\n",
        "\n",
        "\n",
        "ds_train=ds_train.batch(BATCH_SIZE)\n",
        "ds_train=ds_train.prefetch(AUTOTUNE) #it keeps 64 examples ready when running on gpu the current one\n",
        "\n",
        "ds_test=ds_test.map(normalize_image, num_parallel_calls=AUTOTUNE)\n",
        "ds_test=ds_test.batch(128)\n",
        "ds_test=ds_test.prefetch(AUTOTUNE)\n",
        "\n",
        "class_names = [\n",
        "\"Airplane\",\n",
        "\"Autmobile\",\n",
        "\"Bird\",\n",
        "\"Cat\",\n",
        "\"Deep\",\n",
        "\"Dog\",\n",
        "\"Frog\",\n",
        "\"Horse\"\n",
        "\"Ship\",\n",
        "\"Truck\"\n",
        "]"
      ],
      "metadata": {
        "id": "h2y2mMdE3yz1"
      },
      "execution_count": null,
      "outputs": []
    },
    {
      "cell_type": "code",
      "source": [
        "d_train=ds_train.take(10)"
      ],
      "metadata": {
        "id": "vb2Qcaey9sOj"
      },
      "execution_count": null,
      "outputs": []
    },
    {
      "cell_type": "code",
      "source": [
        "def train_model_one_epoch(hparams) :\n",
        "\n",
        "  units = hparams[HP_NUM_UNITS]\n",
        "  drop_rate = hparams[HP_DROPOUT]\n",
        "  learning_rate = hparams[HP_LR]\n",
        "  optimizer = keras.optimizers.Adam(lr=learning_rate)\n",
        "\n",
        "  model = keras. Sequential (\n",
        "      [\n",
        "          layers. Input ((32, 32, 3)),\n",
        "          layers. Conv2D(8, 3, padding =\"same\", activation=\"relu\"),\n",
        "          layers. Conv2D(16, 3, padding=\"same\", activation=\"relu\"),\n",
        "          layers. MaxPooling2D((2, 2)),\n",
        "          layers .Flatten (),\n",
        "          layers. Dense (units, activation=\"relu\"),\n",
        "          layers.Dropout (drop_rate),\n",
        "          layers. Dense (10),\n",
        "          ]\n",
        "      )\n",
        "\n",
        "  for batch_idx, (x, y) in enumerate (d_train) :\n",
        "    with tf.GradientTape () as tape:\n",
        "      y_pred = model (x, training=True)\n",
        "      loss = loss_fn(y, y_pred)\n",
        "    gradients = tape.gradient (loss, model.trainable_weights)\n",
        "    optimizer.apply_gradients(zip (gradients, model.trainable_weights))\n",
        "    acc_metric.update_state(y, y_pred)\n",
        "\n",
        "  #write to TB\n",
        "  run_dir = (\n",
        "  \"logs/train/\"\n",
        "  +str (units)\n",
        "  +\"units \" + str(drop_rate)\n",
        "  +\"dropout_\" + str(learning_rate)\n",
        "  +\"learning_rate\"\n",
        "  )\n",
        "\n",
        "  with tf.summary. create_file_writer(run_dir) .as_default ():\n",
        "    hp.hparams (hparams)\n",
        "    accuracy = acc_metric.result ()\n",
        "    tf.summary. scalar (\"accuracy\", accuracy, step=1)\n",
        "  acc_metric.reset_states ()"
      ],
      "metadata": {
        "id": "6vt2GFgD4BEB"
      },
      "execution_count": null,
      "outputs": []
    },
    {
      "cell_type": "code",
      "source": [
        "loss_fn = keras.losses.SparseCategoricalCrossentropy(from_logits=True)\n",
        "optimizer = keras.optimizers.Adam (lr=0.001)\n",
        "acc_metric = keras.metrics. SparseCategoricalAccuracy ()\n",
        "HP_NUM_UNITS = hp.HParam(\"num Units\", hp.Discrete([32, 64, 128]))\n",
        "HP_DROPOUT = hp.HParam(\"dropout\", hp.Discrete([0.1, 0.2, 0.3, 0.5]))\n",
        "HP_LR = hp. HParam(\"learning_rate\", hp.Discrete([1e-3, 1e-4, 1e-5]))"
      ],
      "metadata": {
        "id": "STZCSuEj4Ev1"
      },
      "execution_count": null,
      "outputs": []
    },
    {
      "cell_type": "code",
      "source": [
        "for lr in HP_LR.domain.values:\n",
        "  for units in HP_NUM_UNITS.domain.values:\n",
        "    for rate in HP_DROPOUT.domain.values:\n",
        "      #we can put loop for number of epochs here\n",
        "      hparams = {\n",
        "          HP_LR : lr,\n",
        "          HP_NUM_UNITS: units,\n",
        "          HP_DROPOUT : rate,\n",
        "      }\n",
        "      train_model_one_epoch(hparams)"
      ],
      "metadata": {
        "id": "92rYdzv-7Xel"
      },
      "execution_count": null,
      "outputs": []
    },
    {
      "cell_type": "code",
      "source": [
        "# %load_ext tensorboard\n",
        "# %tensorboard --logdir logs/"
      ],
      "metadata": {
        "collapsed": true,
        "id": "are7tu9V9F3X"
      },
      "execution_count": null,
      "outputs": []
    },
    {
      "cell_type": "code",
      "source": [],
      "metadata": {
        "id": "zcmYWcP2-DbU"
      },
      "execution_count": null,
      "outputs": []
    },
    {
      "cell_type": "markdown",
      "source": [
        "### Projector"
      ],
      "metadata": {
        "id": "iNAJ9E87-ZDk"
      }
    },
    {
      "cell_type": "code",
      "source": [
        "#in this we sent X, y batch and X feature vector so that using technique like tsne it prject that on dimension\n",
        "#and show us the image where it is lying in the space"
      ],
      "metadata": {
        "id": "Dbo7H-mi-e7x"
      },
      "execution_count": null,
      "outputs": []
    },
    {
      "cell_type": "code",
      "source": [
        "#donot divide by 255 the pixel as not visible"
      ],
      "metadata": {
        "id": "BqZEC3n3JSaq"
      },
      "execution_count": null,
      "outputs": []
    },
    {
      "cell_type": "code",
      "source": [
        "!rm -rf ./proj/"
      ],
      "metadata": {
        "id": "rkhhlW8MKbBE"
      },
      "execution_count": null,
      "outputs": []
    },
    {
      "cell_type": "code",
      "source": [
        "(ds_train, ds_test), ds_info = tfds. load (\n",
        "    \"cifar10\",\n",
        "    split=[\"train\", \"test\"],\n",
        "    shuffle_files=True,\n",
        "    as_supervised=True,\n",
        "    with_info=True,\n",
        "\n",
        ")\n",
        "def normalize_image(image, label):\n",
        "  return tf.cast(image, tf.float32), label\n",
        "def augment (image, label):\n",
        "  new_height = new_width = 32\n",
        "\n",
        "  image = tf.image.resize(image,(new_height, new_width))\n",
        "\n",
        "  if tf.random.uniform((), minval=0, maxval=1) < 0.1:\n",
        "    image = tf.image.rgb_to_grayscale (image)\n",
        "    image=tf.tile(image, [1,1,3])\n",
        "  image = tf.image.random_brightness(image, max_delta=0.1)\n",
        "  image = tf. image. random_contrast (image, lower=0.1, upper=0.2)\n",
        "  image = tf.image.random_flip_left_right (image)\n",
        "  return image, label\n",
        "\n",
        "AUTOTUNE=tf.data.experimental.AUTOTUNE #tf allow us to give this to set automatically\n",
        "BATCH_SIZE=500\n",
        "\n",
        "ds_train=ds_train.map(normalize_image, num_parallel_calls=AUTOTUNE) # in normalize function these is no sequence so\n",
        "#process can be done paralelly\n",
        "ds_train= ds_train.cache() #it keep next data in memory so it will be fast\n",
        "ds_train=ds_train.shuffle(ds_info.splits['train'].num_examples) #we can give 1000 so it will see 1000 datat points but\n",
        "#it depends on records in a file so take from that\n",
        "\n",
        "\n",
        "#ds_train=ds_train.map(augment, num_parallel_calls=AUTOTUNE)\n",
        "\n",
        "\n",
        "\n",
        "ds_train=ds_train.batch(BATCH_SIZE)\n",
        "ds_train=ds_train.prefetch(AUTOTUNE) #it keeps 64 examples ready when running on gpu the current one\n",
        "\n",
        "ds_test=ds_test.map(normalize_image, num_parallel_calls=AUTOTUNE)\n",
        "ds_test=ds_test.batch(128)\n",
        "ds_test=ds_test.prefetch(AUTOTUNE)\n",
        "\n",
        "class_names = [\n",
        "\"Airplane\",\n",
        "\"Autmobile\",\n",
        "\"Bird\",\n",
        "\"Cat\",\n",
        "\"Deep\",\n",
        "\"Dog\",\n",
        "\"Frog\",\n",
        "\"Horse\"\n",
        "\"Ship\",\n",
        "\"Truck\",\n",
        "\"sdsd\"\n",
        "]"
      ],
      "metadata": {
        "id": "Xl2ddnD3HqL2"
      },
      "execution_count": null,
      "outputs": []
    },
    {
      "cell_type": "code",
      "source": [
        "import os\n",
        "import cv2\n",
        "import shutil\n",
        "from tensorboard.plugins import projector"
      ],
      "metadata": {
        "id": "ilLWRBRQBW9m"
      },
      "execution_count": null,
      "outputs": []
    },
    {
      "cell_type": "code",
      "source": [
        "def create_sprite (data) :\n",
        "# For B&W or greyscale images\n",
        "  if len (data.shape) == 3:\n",
        "    data = np.tile(data[..., np.newaxis], (1, 1, 1, 3))\n",
        "\n",
        "  n = int(np.ceil (np.sqrt (data.shape [0])))\n",
        "  padding = ((0, n ** 2 - data. shape [0]), (0, 0), (0, 0), (0, 0))\n",
        "  data = np.pad (data, padding, mode=\"constant\", constant_values=0)\n",
        "  # Tile images into sprite\n",
        "  data = data.reshape ((n, n) + data.shape [1:]).transpose ((0, 2, 1, 3, 4))\n",
        "  # print (data.shape) => (n, image_height, n, image_width, 3)\n",
        "\n",
        "  data = data.reshape (\n",
        "      (n * data. shape [1], n * data.shape [3]) + data. shape [4:]\n",
        "      )\n",
        "  # print (data .shape) => (n * image_height, n * image_width, 3)\n",
        "  return data"
      ],
      "metadata": {
        "id": "QuvDGXs0_UM_"
      },
      "execution_count": null,
      "outputs": []
    },
    {
      "cell_type": "code",
      "source": [
        "def plot_to_projector(\n",
        "    x, feature_vector, y, class_names, log_dir=\"default_log_dir\", meta_file=\"metadata.tsv\",\n",
        "    ) :\n",
        "  assert x.ndim == 4 # (BATCH, H, W, C)\n",
        "  if os.path.isdir(log_dir):\n",
        "    shutil.rmtree (log_dir)\n",
        "  #creating a folder\n",
        "  os.mkdir (log_dir)\n",
        "\n",
        "  SPRITES_FILE = os.path. join(log_dir, \"sprites.png\")\n",
        "  sprite = create_sprite (x)\n",
        "  cv2.imwrite (SPRITES_FILE, sprite)\n",
        "\n",
        "  # Generate label names\n",
        "  labels = [class_names[y[i]] for i in range(int(y.shape[0]))]\n",
        "  with open(os.path. join(log_dir, meta_file), \"w\") as f:\n",
        "    for label in labels:\n",
        "      f.write (\" {} \\n\" . format (label))\n",
        "\n",
        "  if feature_vector.ndim != 2:\n",
        "    print(\"NOTE: Feature vector is not of form (BATCH, FEATURES)\"\n",
        "    \" reshaping to try and get it to this form!\")\n",
        "    feature_vector = tf. reshape (\n",
        "    feature_vector, [feature_vector. shape[0], -1]\n",
        "    )\n",
        "    feature_vector = tf. Variable (feature_vector)\n",
        "    checkpoint = tf. train.Checkpoint (embedding=feature_vector)\n",
        "    checkpoint.save(os.path. join(log_dir, \"embeddings.ckpt\"))\n",
        "\n",
        "\n",
        "  # Set up config\n",
        "  config = projector. ProjectorConfig ()\n",
        "  embedding = config.embeddings.add()\n",
        "  embedding. tensor_name = \"embedding/.ATTRIBUTES/VARIABLE_VALUE\"\n",
        "  embedding.metadata_path = meta_file\n",
        "\n",
        "\n",
        "  embedding.sprite.image_path = \"sprites.png\"\n",
        "  embedding.sprite.single_image_dim.extend ((x.shape [1], x. shape [2]))\n",
        "  projector. visualize_embeddings(log_dir, config)"
      ],
      "metadata": {
        "id": "GBEQ2lapATtu"
      },
      "execution_count": null,
      "outputs": []
    },
    {
      "cell_type": "code",
      "source": [
        "x_batch, y_batch = next(iter(ds_train))\n",
        "plot_to_projector(x_batch, x_batch, y_batch, class_names, log_dir=\"proj\")"
      ],
      "metadata": {
        "id": "apF134iGE39D"
      },
      "execution_count": null,
      "outputs": []
    },
    {
      "cell_type": "code",
      "source": [
        "# %load_ext tensorboard\n",
        "# %tensorboard --logdir proj/"
      ],
      "metadata": {
        "id": "T_BtAIq8HYru"
      },
      "execution_count": null,
      "outputs": []
    },
    {
      "cell_type": "markdown",
      "source": [
        "### profiler"
      ],
      "metadata": {
        "id": "2AjSl7E2yZyQ"
      }
    },
    {
      "cell_type": "code",
      "source": [
        "#in tensorflow 2 we have profiler that can do many things"
      ],
      "metadata": {
        "id": "bwAURqtqH7BM"
      },
      "execution_count": null,
      "outputs": []
    },
    {
      "cell_type": "code",
      "source": [
        "tf.__version__"
      ],
      "metadata": {
        "id": "aapLBe1NLZG6"
      },
      "execution_count": null,
      "outputs": []
    },
    {
      "cell_type": "code",
      "source": [
        "from datetime import datetime\n",
        "from packaging import version\n",
        "import os"
      ],
      "metadata": {
        "id": "H5N3PJS8Lb9T"
      },
      "execution_count": null,
      "outputs": []
    },
    {
      "cell_type": "code",
      "source": [
        "!pip install -U tensorboard-plugin-profile"
      ],
      "metadata": {
        "id": "1A9Qxf_ZytkT"
      },
      "execution_count": null,
      "outputs": []
    },
    {
      "cell_type": "code",
      "source": [
        "import tensorflow as tf"
      ],
      "metadata": {
        "id": "1d9GV2nGyvRN"
      },
      "execution_count": null,
      "outputs": []
    },
    {
      "cell_type": "code",
      "source": [
        "import tensorflow_datasets as tfds\n",
        "(ds_train, ds_test), ds_info = tfds.load(\n",
        "    'mnist',\n",
        "    split=['train',\n",
        "           'test'], shuffle_files=True, as_supervised=True, with_info=True,\n",
        ")"
      ],
      "metadata": {
        "id": "aSgsg273y04x"
      },
      "execution_count": null,
      "outputs": []
    },
    {
      "cell_type": "code",
      "source": [
        "def normalize_img (image, label):\n",
        "  return tf.cast(image, tf.float32)/255.0 , label\n",
        "\n",
        "AUTOTUNE = tf.data.experimental.AUTOTUNE\n",
        "ds_train = ds_train.map (normalize_img)\n",
        "ds_train = ds_train.batch(128)\n",
        "ds_test = ds_test. map (normalize_img)\n",
        "ds_test = ds_test.batch(128)\n",
        "\n",
        "model = tf. keras. models. Sequential ([\n",
        "    tf.keras.layers. Flatten (input_shape= (28, 28, 1)),\n",
        "    tf. keras. layers. Dense (128, activation='relu'),\n",
        "    tf. keras.layers. Dense (10, activation='softmax')\n",
        "])\n",
        "model.compile (loss='sparse_categorical_crossentropy', optimizer=tf.keras.optimizers.Adam (0.001), metrics= ['accuracy'])"
      ],
      "metadata": {
        "id": "HRpS_xjtzDxc"
      },
      "execution_count": null,
      "outputs": []
    },
    {
      "cell_type": "code",
      "source": [
        "# Create a TensorBoard callback\n",
        "logs = \"logs/\" + datetime.now ().strftime (\"&Y&m§d-§H&M&S\")\n",
        "\n",
        "tensorboard_callback = tf.keras.callbacks.TensorBoard (log_dir = logs,\n",
        "                                                       histogram_freq = 1,\n",
        "                                                       profile_batch = '500, 520')\n",
        "model.fit(ds_train,\n",
        "          epochs=2,\n",
        "          validation_data=ds_test,\n",
        "          callbacks = [tensorboard_callback])"
      ],
      "metadata": {
        "id": "_RbxTvN8zvda"
      },
      "execution_count": null,
      "outputs": []
    },
    {
      "cell_type": "code",
      "source": [
        "# %load_ext tensorboard\n",
        "# %tensorboard --logdir logs/"
      ],
      "metadata": {
        "id": "buAN_WfC4J00"
      },
      "execution_count": null,
      "outputs": []
    },
    {
      "cell_type": "code",
      "source": [],
      "metadata": {
        "id": "12Q0i9tb6WEo"
      },
      "execution_count": null,
      "outputs": []
    }
  ]
}