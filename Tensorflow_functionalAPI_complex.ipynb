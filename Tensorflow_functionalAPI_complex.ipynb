{
  "cells": [
    {
      "cell_type": "code",
      "execution_count": 1,
      "metadata": {
        "id": "TN1u6Vlq8dKF"
      },
      "outputs": [],
      "source": [
        "!mkdir -p ~/.kaggle\n",
        "!cp kaggle.json ~/.kaggle/"
      ]
    },
    {
      "cell_type": "code",
      "execution_count": 2,
      "metadata": {
        "colab": {
          "base_uri": "https://localhost:8080/"
        },
        "id": "gxIBN2a284d2",
        "outputId": "deebb263-8b62-4a35-ea55-88ccad568e55"
      },
      "outputs": [
        {
          "output_type": "stream",
          "name": "stdout",
          "text": [
            "Warning: Your Kaggle API key is readable by other users on this system! To fix this, you can run 'chmod 600 /root/.kaggle/kaggle.json'\n",
            "Downloading mnist-two-digit.zip to /content\n",
            " 76% 40.0M/52.3M [00:00<00:00, 130MB/s]\n",
            "100% 52.3M/52.3M [00:00<00:00, 127MB/s]\n"
          ]
        }
      ],
      "source": [
        "!kaggle datasets download -d danukhan/mnist-two-digit"
      ]
    },
    {
      "cell_type": "code",
      "execution_count": 3,
      "metadata": {
        "id": "50ib7sD5OC0E"
      },
      "outputs": [],
      "source": [
        "import zipfile\n",
        "zip_ref = zipfile.ZipFile('/content/mnist-two-digit.zip', 'r')\n",
        "zip_ref.extractall('/content')\n",
        "zip_ref.close()"
      ]
    },
    {
      "cell_type": "code",
      "execution_count": 4,
      "metadata": {
        "id": "XqKhtSa6MKhP"
      },
      "outputs": [],
      "source": [
        "import tensorflow as tf\n",
        "from tensorflow import keras\n",
        "from tensorflow. keras import layers, regularizers\n",
        "import os\n",
        "import pandas as pd"
      ]
    },
    {
      "cell_type": "code",
      "execution_count": 5,
      "metadata": {
        "id": "TL8-0PEgRjrp"
      },
      "outputs": [],
      "source": [
        "BATCH_SIZE=64\n",
        "WEIGHT_DECAY=0.001\n",
        "LEARNING_RATE=0.001"
      ]
    },
    {
      "cell_type": "code",
      "execution_count": 6,
      "metadata": {
        "id": "P7PFmQ5MQI0v"
      },
      "outputs": [],
      "source": [
        "train_df = pd.read_csv (\"train.csv\")\n",
        "test_df = pd.read_csv(\"test.csv\")\n",
        "train_images = os.getcwd() + \"/train_images/\" + train_df. iloc[:, 0]. values\n",
        "test_images = os.getcwd() + \"/test_images/\" + test_df. iloc[:, 0]. values\n",
        "train_labels = train_df. iloc[:, 1:]. values\n",
        "test_labels = test_df.iloc[:, 1:]. values"
      ]
    },
    {
      "cell_type": "code",
      "execution_count": 7,
      "metadata": {
        "id": "gLCoYjaaQZd4"
      },
      "outputs": [],
      "source": [
        "def read_image (image_path, label):\n",
        "  image = tf.io.read_file (image_path)\n",
        "  image = tf. image. decode_image (image, channels=1, dtype=tf.float32)\n",
        "  # In older versions you need to set shape in order to avoid error\n",
        "  # on newer (2.3.0+) the following 3 lines can safely be removed\n",
        "  image. set_shape ((64, 64, 1))\n",
        "  label[0].set_shape ([])\n",
        "  label[1].set_shape ([])\n",
        "  labels = {\"first_num\": label[0], \"second_num\": label[1]}\n",
        "  return image, labels"
      ]
    },
    {
      "cell_type": "code",
      "execution_count": 8,
      "metadata": {
        "id": "R6YdFphWQdZs"
      },
      "outputs": [],
      "source": [
        "AUTOTUNE = tf .data.experimental.AUTOTUNE\n",
        "\n",
        "train_dataset = tf.data.Dataset.from_tensor_slices (\n",
        "    (train_images, train_labels)\n",
        ")\n",
        "\n",
        "train_dataset = (\n",
        "    train_dataset.shuffle(buffer_size=len(train_labels))\n",
        "    .map(read_image)\n",
        "    .batch(batch_size=BATCH_SIZE)\n",
        "    .prefetch(buffer_size=AUTOTUNE)\n",
        ")"
      ]
    },
    {
      "cell_type": "code",
      "execution_count": 9,
      "metadata": {
        "id": "n2Vz8YhAQy41"
      },
      "outputs": [],
      "source": [
        "test_dataset = tf .data. Dataset.from_tensor_slices ((test_images, test_labels))\n",
        "test_dataset = (test_dataset\n",
        "                .map (read_image)\n",
        "                .batch (batch_size=BATCH_SIZE)\n",
        "                .prefetch (buffer_size=AUTOTUNE)\n",
        ")"
      ]
    },
    {
      "cell_type": "code",
      "execution_count": 10,
      "metadata": {
        "id": "dizJEjfCI8T4"
      },
      "outputs": [],
      "source": [
        "inputs=layers.Input(shape=(64,64,1))\n",
        "x=layers.Conv2D(filters=64,\n",
        "                 kernel_size=3,\n",
        "                 padding='same',\n",
        "                 kernel_regularizer=regularizers.l2(WEIGHT_DECAY)\n",
        "                 )(inputs)\n",
        "x=layers.BatchNormalization()(x)\n",
        "x=keras.activations.relu(x)\n",
        "\n",
        "x=layers.Conv2D(filters=64,\n",
        "                 kernel_size=3,\n",
        "                 padding='same',\n",
        "                 kernel_regularizer=regularizers.l2(WEIGHT_DECAY)\n",
        "                 )(x)\n",
        "x=layers.BatchNormalization()(x)\n",
        "x=keras.activations.relu(x)\n",
        "x=layers.MaxPool2D()(x)\n",
        "\n",
        "x=layers.Conv2D(filters=64,\n",
        "                 kernel_size=3,\n",
        "                 padding='same',\n",
        "                 kernel_regularizer=regularizers.l2(WEIGHT_DECAY),\n",
        "                 activation='relu'\n",
        "                 )(x)\n",
        "\n",
        "x=layers.Conv2D(filters=128,\n",
        "                 kernel_size=3,\n",
        "                 padding='same',\n",
        "                 kernel_regularizer=regularizers.l2(WEIGHT_DECAY),\n",
        "                 activation='relu'\n",
        "                 )(x)\n",
        "x=layers.MaxPool2D()(x)\n",
        "\n",
        "x=layers.Flatten()(x)\n",
        "x=layers.Dense(128,activation='relu')(x)\n",
        "x=layers.Dropout(0.5)(x)\n",
        "x=layers.Dense(64,activation='relu')(x)\n",
        "\n",
        "output1=layers.Dense(10,name='first_num')(x) #if we are using labels as list of dict then name here should be same\n",
        "                                              # as dict in labels name\n",
        "output2=layers.Dense(10,name='second_num')(x)\n",
        "\n",
        "model=keras.Model(inputs=inputs, outputs=[output1,output2])"
      ]
    },
    {
      "cell_type": "code",
      "execution_count": 11,
      "metadata": {
        "id": "0fiMrropLVJM"
      },
      "outputs": [],
      "source": [
        "model.compile(optimizer=keras.optimizers.Adam(LEARNING_RATE),\n",
        "              loss=[keras.losses.SparseCategoricalCrossentropy(from_logits=True), keras.losses.SparseCategoricalCrossentropy(from_logits=True)],\n",
        "              metrics=['accuracy'])"
      ]
    },
    {
      "cell_type": "code",
      "execution_count": 12,
      "metadata": {
        "colab": {
          "base_uri": "https://localhost:8080/"
        },
        "id": "seR8fR5nMiJp",
        "outputId": "654c9469-e306-450d-e19b-ab03497860d9"
      },
      "outputs": [
        {
          "output_type": "stream",
          "name": "stdout",
          "text": [
            "Epoch 1/10\n",
            "1000/1000 - 47s - loss: 1.8482 - first_num_loss: 0.8623 - second_num_loss: 0.8367 - first_num_accuracy: 0.6988 - second_num_accuracy: 0.7062 - 47s/epoch - 47ms/step\n",
            "Epoch 2/10\n",
            "1000/1000 - 37s - loss: 0.5201 - first_num_loss: 0.2113 - second_num_loss: 0.2071 - first_num_accuracy: 0.9328 - second_num_accuracy: 0.9336 - 37s/epoch - 37ms/step\n",
            "Epoch 3/10\n",
            "1000/1000 - 36s - loss: 0.3553 - first_num_loss: 0.1381 - second_num_loss: 0.1302 - first_num_accuracy: 0.9561 - second_num_accuracy: 0.9598 - 36s/epoch - 36ms/step\n",
            "Epoch 4/10\n",
            "1000/1000 - 37s - loss: 0.2815 - first_num_loss: 0.1059 - second_num_loss: 0.0965 - first_num_accuracy: 0.9668 - second_num_accuracy: 0.9692 - 37s/epoch - 37ms/step\n",
            "Epoch 5/10\n",
            "1000/1000 - 36s - loss: 0.2462 - first_num_loss: 0.0888 - second_num_loss: 0.0818 - first_num_accuracy: 0.9719 - second_num_accuracy: 0.9735 - 36s/epoch - 36ms/step\n",
            "Epoch 6/10\n",
            "1000/1000 - 36s - loss: 0.2236 - first_num_loss: 0.0767 - second_num_loss: 0.0733 - first_num_accuracy: 0.9755 - second_num_accuracy: 0.9771 - 36s/epoch - 36ms/step\n",
            "Epoch 7/10\n",
            "1000/1000 - 36s - loss: 0.2013 - first_num_loss: 0.0666 - second_num_loss: 0.0640 - first_num_accuracy: 0.9788 - second_num_accuracy: 0.9787 - 36s/epoch - 36ms/step\n",
            "Epoch 8/10\n",
            "1000/1000 - 36s - loss: 0.1855 - first_num_loss: 0.0592 - second_num_loss: 0.0589 - first_num_accuracy: 0.9811 - second_num_accuracy: 0.9812 - 36s/epoch - 36ms/step\n",
            "Epoch 9/10\n",
            "1000/1000 - 37s - loss: 0.1765 - first_num_loss: 0.0546 - second_num_loss: 0.0563 - first_num_accuracy: 0.9826 - second_num_accuracy: 0.9817 - 37s/epoch - 37ms/step\n",
            "Epoch 10/10\n",
            "1000/1000 - 36s - loss: 0.1638 - first_num_loss: 0.0507 - second_num_loss: 0.0489 - first_num_accuracy: 0.9839 - second_num_accuracy: 0.9841 - 36s/epoch - 36ms/step\n"
          ]
        },
        {
          "output_type": "execute_result",
          "data": {
            "text/plain": [
              "<keras.src.callbacks.History at 0x78f1e181c0a0>"
            ]
          },
          "metadata": {},
          "execution_count": 12
        }
      ],
      "source": [
        "model.fit(train_dataset,\n",
        "          epochs=10,\n",
        "          verbose=2)"
      ]
    },
    {
      "cell_type": "code",
      "execution_count": 13,
      "metadata": {
        "id": "OBj8m7c9MrlK",
        "colab": {
          "base_uri": "https://localhost:8080/"
        },
        "outputId": "f87596f3-6339-4ee4-fca2-3c2c1f0aa970"
      },
      "outputs": [
        {
          "output_type": "stream",
          "name": "stdout",
          "text": [
            "313/313 - 4s - loss: 0.7558 - first_num_loss: 0.2862 - second_num_loss: 0.4077 - first_num_accuracy: 0.9265 - second_num_accuracy: 0.8971 - 4s/epoch - 12ms/step\n"
          ]
        },
        {
          "output_type": "execute_result",
          "data": {
            "text/plain": [
              "[0.7558404207229614,\n",
              " 0.2862430810928345,\n",
              " 0.4077312648296356,\n",
              " 0.9264500141143799,\n",
              " 0.8970999717712402]"
            ]
          },
          "metadata": {},
          "execution_count": 13
        }
      ],
      "source": [
        "model.evaluate(test_dataset,\n",
        "               verbose=2)"
      ]
    },
    {
      "cell_type": "code",
      "execution_count": null,
      "metadata": {
        "id": "IgTyFZN5Pst7"
      },
      "outputs": [],
      "source": []
    }
  ],
  "metadata": {
    "colab": {
      "provenance": [],
      "gpuType": "T4"
    },
    "kernelspec": {
      "display_name": "Python 3",
      "name": "python3"
    },
    "language_info": {
      "name": "python"
    },
    "accelerator": "GPU"
  },
  "nbformat": 4,
  "nbformat_minor": 0
}