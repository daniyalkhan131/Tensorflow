{
  "nbformat": 4,
  "nbformat_minor": 0,
  "metadata": {
    "colab": {
      "provenance": []
    },
    "kernelspec": {
      "name": "python3",
      "display_name": "Python 3"
    },
    "language_info": {
      "name": "python"
    },
    "widgets": {
      "application/vnd.jupyter.widget-state+json": {
        "b4a782af724f4f7e9de2f8214b7c0db3": {
          "model_module": "@jupyter-widgets/controls",
          "model_name": "HBoxModel",
          "model_module_version": "1.5.0",
          "state": {
            "_dom_classes": [],
            "_model_module": "@jupyter-widgets/controls",
            "_model_module_version": "1.5.0",
            "_model_name": "HBoxModel",
            "_view_count": null,
            "_view_module": "@jupyter-widgets/controls",
            "_view_module_version": "1.5.0",
            "_view_name": "HBoxView",
            "box_style": "",
            "children": [
              "IPY_MODEL_114d1d969e3a4fe6bfceb1c1a60f859e",
              "IPY_MODEL_5ee47778175d45719b98d6b266c5f603",
              "IPY_MODEL_06d3eac9a851405abccf97b65ca50c44"
            ],
            "layout": "IPY_MODEL_5bec603076d2490c821eac7a2a7c1feb"
          }
        },
        "114d1d969e3a4fe6bfceb1c1a60f859e": {
          "model_module": "@jupyter-widgets/controls",
          "model_name": "HTMLModel",
          "model_module_version": "1.5.0",
          "state": {
            "_dom_classes": [],
            "_model_module": "@jupyter-widgets/controls",
            "_model_module_version": "1.5.0",
            "_model_name": "HTMLModel",
            "_view_count": null,
            "_view_module": "@jupyter-widgets/controls",
            "_view_module_version": "1.5.0",
            "_view_name": "HTMLView",
            "description": "",
            "description_tooltip": null,
            "layout": "IPY_MODEL_02e5851268f54713bdf99f88aca98290",
            "placeholder": "​",
            "style": "IPY_MODEL_8b4e3827925345d89240bd8e5e5bf7a9",
            "value": "Dl Completed...: 100%"
          }
        },
        "5ee47778175d45719b98d6b266c5f603": {
          "model_module": "@jupyter-widgets/controls",
          "model_name": "FloatProgressModel",
          "model_module_version": "1.5.0",
          "state": {
            "_dom_classes": [],
            "_model_module": "@jupyter-widgets/controls",
            "_model_module_version": "1.5.0",
            "_model_name": "FloatProgressModel",
            "_view_count": null,
            "_view_module": "@jupyter-widgets/controls",
            "_view_module_version": "1.5.0",
            "_view_name": "ProgressView",
            "bar_style": "success",
            "description": "",
            "description_tooltip": null,
            "layout": "IPY_MODEL_e95e9e619a4a4e4e92742de1e7687708",
            "max": 5,
            "min": 0,
            "orientation": "horizontal",
            "style": "IPY_MODEL_5e043a1b3fd341aea3037b898cf75f3b",
            "value": 5
          }
        },
        "06d3eac9a851405abccf97b65ca50c44": {
          "model_module": "@jupyter-widgets/controls",
          "model_name": "HTMLModel",
          "model_module_version": "1.5.0",
          "state": {
            "_dom_classes": [],
            "_model_module": "@jupyter-widgets/controls",
            "_model_module_version": "1.5.0",
            "_model_name": "HTMLModel",
            "_view_count": null,
            "_view_module": "@jupyter-widgets/controls",
            "_view_module_version": "1.5.0",
            "_view_name": "HTMLView",
            "description": "",
            "description_tooltip": null,
            "layout": "IPY_MODEL_f954575b82b944258011b59c3f4d3a65",
            "placeholder": "​",
            "style": "IPY_MODEL_d6af4a16d862487a8a8f8ec392654236",
            "value": " 5/5 [00:00&lt;00:00, 12.23 file/s]"
          }
        },
        "5bec603076d2490c821eac7a2a7c1feb": {
          "model_module": "@jupyter-widgets/base",
          "model_name": "LayoutModel",
          "model_module_version": "1.2.0",
          "state": {
            "_model_module": "@jupyter-widgets/base",
            "_model_module_version": "1.2.0",
            "_model_name": "LayoutModel",
            "_view_count": null,
            "_view_module": "@jupyter-widgets/base",
            "_view_module_version": "1.2.0",
            "_view_name": "LayoutView",
            "align_content": null,
            "align_items": null,
            "align_self": null,
            "border": null,
            "bottom": null,
            "display": null,
            "flex": null,
            "flex_flow": null,
            "grid_area": null,
            "grid_auto_columns": null,
            "grid_auto_flow": null,
            "grid_auto_rows": null,
            "grid_column": null,
            "grid_gap": null,
            "grid_row": null,
            "grid_template_areas": null,
            "grid_template_columns": null,
            "grid_template_rows": null,
            "height": null,
            "justify_content": null,
            "justify_items": null,
            "left": null,
            "margin": null,
            "max_height": null,
            "max_width": null,
            "min_height": null,
            "min_width": null,
            "object_fit": null,
            "object_position": null,
            "order": null,
            "overflow": null,
            "overflow_x": null,
            "overflow_y": null,
            "padding": null,
            "right": null,
            "top": null,
            "visibility": null,
            "width": null
          }
        },
        "02e5851268f54713bdf99f88aca98290": {
          "model_module": "@jupyter-widgets/base",
          "model_name": "LayoutModel",
          "model_module_version": "1.2.0",
          "state": {
            "_model_module": "@jupyter-widgets/base",
            "_model_module_version": "1.2.0",
            "_model_name": "LayoutModel",
            "_view_count": null,
            "_view_module": "@jupyter-widgets/base",
            "_view_module_version": "1.2.0",
            "_view_name": "LayoutView",
            "align_content": null,
            "align_items": null,
            "align_self": null,
            "border": null,
            "bottom": null,
            "display": null,
            "flex": null,
            "flex_flow": null,
            "grid_area": null,
            "grid_auto_columns": null,
            "grid_auto_flow": null,
            "grid_auto_rows": null,
            "grid_column": null,
            "grid_gap": null,
            "grid_row": null,
            "grid_template_areas": null,
            "grid_template_columns": null,
            "grid_template_rows": null,
            "height": null,
            "justify_content": null,
            "justify_items": null,
            "left": null,
            "margin": null,
            "max_height": null,
            "max_width": null,
            "min_height": null,
            "min_width": null,
            "object_fit": null,
            "object_position": null,
            "order": null,
            "overflow": null,
            "overflow_x": null,
            "overflow_y": null,
            "padding": null,
            "right": null,
            "top": null,
            "visibility": null,
            "width": null
          }
        },
        "8b4e3827925345d89240bd8e5e5bf7a9": {
          "model_module": "@jupyter-widgets/controls",
          "model_name": "DescriptionStyleModel",
          "model_module_version": "1.5.0",
          "state": {
            "_model_module": "@jupyter-widgets/controls",
            "_model_module_version": "1.5.0",
            "_model_name": "DescriptionStyleModel",
            "_view_count": null,
            "_view_module": "@jupyter-widgets/base",
            "_view_module_version": "1.2.0",
            "_view_name": "StyleView",
            "description_width": ""
          }
        },
        "e95e9e619a4a4e4e92742de1e7687708": {
          "model_module": "@jupyter-widgets/base",
          "model_name": "LayoutModel",
          "model_module_version": "1.2.0",
          "state": {
            "_model_module": "@jupyter-widgets/base",
            "_model_module_version": "1.2.0",
            "_model_name": "LayoutModel",
            "_view_count": null,
            "_view_module": "@jupyter-widgets/base",
            "_view_module_version": "1.2.0",
            "_view_name": "LayoutView",
            "align_content": null,
            "align_items": null,
            "align_self": null,
            "border": null,
            "bottom": null,
            "display": null,
            "flex": null,
            "flex_flow": null,
            "grid_area": null,
            "grid_auto_columns": null,
            "grid_auto_flow": null,
            "grid_auto_rows": null,
            "grid_column": null,
            "grid_gap": null,
            "grid_row": null,
            "grid_template_areas": null,
            "grid_template_columns": null,
            "grid_template_rows": null,
            "height": null,
            "justify_content": null,
            "justify_items": null,
            "left": null,
            "margin": null,
            "max_height": null,
            "max_width": null,
            "min_height": null,
            "min_width": null,
            "object_fit": null,
            "object_position": null,
            "order": null,
            "overflow": null,
            "overflow_x": null,
            "overflow_y": null,
            "padding": null,
            "right": null,
            "top": null,
            "visibility": null,
            "width": null
          }
        },
        "5e043a1b3fd341aea3037b898cf75f3b": {
          "model_module": "@jupyter-widgets/controls",
          "model_name": "ProgressStyleModel",
          "model_module_version": "1.5.0",
          "state": {
            "_model_module": "@jupyter-widgets/controls",
            "_model_module_version": "1.5.0",
            "_model_name": "ProgressStyleModel",
            "_view_count": null,
            "_view_module": "@jupyter-widgets/base",
            "_view_module_version": "1.2.0",
            "_view_name": "StyleView",
            "bar_color": null,
            "description_width": ""
          }
        },
        "f954575b82b944258011b59c3f4d3a65": {
          "model_module": "@jupyter-widgets/base",
          "model_name": "LayoutModel",
          "model_module_version": "1.2.0",
          "state": {
            "_model_module": "@jupyter-widgets/base",
            "_model_module_version": "1.2.0",
            "_model_name": "LayoutModel",
            "_view_count": null,
            "_view_module": "@jupyter-widgets/base",
            "_view_module_version": "1.2.0",
            "_view_name": "LayoutView",
            "align_content": null,
            "align_items": null,
            "align_self": null,
            "border": null,
            "bottom": null,
            "display": null,
            "flex": null,
            "flex_flow": null,
            "grid_area": null,
            "grid_auto_columns": null,
            "grid_auto_flow": null,
            "grid_auto_rows": null,
            "grid_column": null,
            "grid_gap": null,
            "grid_row": null,
            "grid_template_areas": null,
            "grid_template_columns": null,
            "grid_template_rows": null,
            "height": null,
            "justify_content": null,
            "justify_items": null,
            "left": null,
            "margin": null,
            "max_height": null,
            "max_width": null,
            "min_height": null,
            "min_width": null,
            "object_fit": null,
            "object_position": null,
            "order": null,
            "overflow": null,
            "overflow_x": null,
            "overflow_y": null,
            "padding": null,
            "right": null,
            "top": null,
            "visibility": null,
            "width": null
          }
        },
        "d6af4a16d862487a8a8f8ec392654236": {
          "model_module": "@jupyter-widgets/controls",
          "model_name": "DescriptionStyleModel",
          "model_module_version": "1.5.0",
          "state": {
            "_model_module": "@jupyter-widgets/controls",
            "_model_module_version": "1.5.0",
            "_model_name": "DescriptionStyleModel",
            "_view_count": null,
            "_view_module": "@jupyter-widgets/base",
            "_view_module_version": "1.2.0",
            "_view_name": "StyleView",
            "description_width": ""
          }
        }
      }
    }
  },
  "cells": [
    {
      "cell_type": "code",
      "execution_count": 1,
      "metadata": {
        "id": "JlEc949yg2ou"
      },
      "outputs": [],
      "source": [
        "#callbacks are way to customize the behaviour of model doing training or evaluation"
      ]
    },
    {
      "cell_type": "code",
      "source": [
        "import tensorflow as tf\n",
        "from tensorflow import keras\n",
        "from keras import layers\n",
        "import tensorflow_datasets as tfds\n",
        "import matplotlib.pyplot as plt"
      ],
      "metadata": {
        "id": "k3odTs6uiZik"
      },
      "execution_count": 2,
      "outputs": []
    },
    {
      "cell_type": "code",
      "source": [
        "(ds_train, ds_test), ds_info = tfds. load (\n",
        "    \"mnist\", #it is name that is in catelog of link above\n",
        "    split=[\"train\", \"test\"],\n",
        "    shuffle_files=True, #tf datasets store something in records in multiple files, for easy stream, loading simultaneously while training\n",
        "                        # so it is for shuffles dataponits in batch so not sequential\n",
        "    as_supervised=True, #it return tuple (image,label) otherwise it returns dict\n",
        "    with_info=True, #for getting info\n",
        "\n",
        ")"
      ],
      "metadata": {
        "colab": {
          "base_uri": "https://localhost:8080/",
          "height": 105,
          "referenced_widgets": [
            "b4a782af724f4f7e9de2f8214b7c0db3",
            "114d1d969e3a4fe6bfceb1c1a60f859e",
            "5ee47778175d45719b98d6b266c5f603",
            "06d3eac9a851405abccf97b65ca50c44",
            "5bec603076d2490c821eac7a2a7c1feb",
            "02e5851268f54713bdf99f88aca98290",
            "8b4e3827925345d89240bd8e5e5bf7a9",
            "e95e9e619a4a4e4e92742de1e7687708",
            "5e043a1b3fd341aea3037b898cf75f3b",
            "f954575b82b944258011b59c3f4d3a65",
            "d6af4a16d862487a8a8f8ec392654236"
          ]
        },
        "id": "gZX8svrdiaLn",
        "outputId": "95f4c300-5d6e-4db2-d7da-0cf2a63a85de"
      },
      "execution_count": 3,
      "outputs": [
        {
          "output_type": "stream",
          "name": "stdout",
          "text": [
            "Downloading and preparing dataset 11.06 MiB (download: 11.06 MiB, generated: 21.00 MiB, total: 32.06 MiB) to /root/tensorflow_datasets/mnist/3.0.1...\n"
          ]
        },
        {
          "output_type": "display_data",
          "data": {
            "text/plain": [
              "Dl Completed...:   0%|          | 0/5 [00:00<?, ? file/s]"
            ],
            "application/vnd.jupyter.widget-view+json": {
              "version_major": 2,
              "version_minor": 0,
              "model_id": "b4a782af724f4f7e9de2f8214b7c0db3"
            }
          },
          "metadata": {}
        },
        {
          "output_type": "stream",
          "name": "stdout",
          "text": [
            "Dataset mnist downloaded and prepared to /root/tensorflow_datasets/mnist/3.0.1. Subsequent calls will reuse this data.\n"
          ]
        }
      ]
    },
    {
      "cell_type": "code",
      "source": [
        "def normalize_image(image, label):\n",
        "  return tf.cast(image, tf.float32)/255.0, label"
      ],
      "metadata": {
        "id": "1PuACLe4ib9b"
      },
      "execution_count": 4,
      "outputs": []
    },
    {
      "cell_type": "code",
      "source": [
        "AUTOTUNE=tf.data.experimental.AUTOTUNE #tf allow us to give this to set automatically\n",
        "BATCH_SIZE=32\n",
        "\n",
        "ds_train=ds_train.map(normalize_image, num_parallel_calls=AUTOTUNE) # in normalize function these is no sequence so\n",
        "#process can be done paralelly\n",
        "ds_train= ds_train.cache() #it keep next data in memory so it will be fast\n",
        "ds_train=ds_train.shuffle(ds_info.splits['train'].num_examples) #we can give 1000 so it will see 1000 datat points but\n",
        "#it depends on records in a file so take from that\n",
        "ds_train=ds_train.batch(BATCH_SIZE)\n",
        "ds_train=ds_train.prefetch(AUTOTUNE) #it keeps 64 examples ready when running on gpu the current one"
      ],
      "metadata": {
        "id": "pBZuWlk_ieG5"
      },
      "execution_count": 5,
      "outputs": []
    },
    {
      "cell_type": "code",
      "source": [
        "ds_test=ds_test.map(normalize_image, num_parallel_calls=AUTOTUNE)\n",
        "ds_test=ds_test.batch(128)\n",
        "ds_test=ds_test.prefetch(AUTOTUNE)"
      ],
      "metadata": {
        "id": "X_2Ng4M9ihfj"
      },
      "execution_count": 6,
      "outputs": []
    },
    {
      "cell_type": "code",
      "source": [
        "model = keras. Sequential([\n",
        "    keras. Input ((28, 28, 1)),\n",
        "\n",
        "#   data_augmentation,\n",
        "\n",
        "    layers.Conv2D(4, 3, padding=\"same\", activation=\"relu\"),\n",
        "    layers.Flatten(),\n",
        "    layers. Dense (64, activation=\"relu\"),\n",
        "    layers. Dense (10),\n",
        "])"
      ],
      "metadata": {
        "id": "c1MxmSmTiigG"
      },
      "execution_count": 23,
      "outputs": []
    },
    {
      "cell_type": "code",
      "source": [
        "#save callbacks\n",
        "\n",
        "save_callback = keras.callbacks.ModelCheckpoint(\n",
        "    'checkpoint/', save_weights_only=True, monitor='accuracy', save_best_only=False,\n",
        ")"
      ],
      "metadata": {
        "id": "MIeAoWmruCZ4"
      },
      "execution_count": 11,
      "outputs": []
    },
    {
      "cell_type": "code",
      "source": [
        "#how epoch progresses we want to change that\n",
        "\n",
        "def scheduler (epoch, lr):\n",
        "  if epoch < 2:\n",
        "    return lr\n",
        "\n",
        "  else:\n",
        "    return lr * 0.99 #decreasing lr\n",
        "\n",
        "lr_scheduler = keras.callbacks.LearningRateScheduler(scheduler,verbose=1)"
      ],
      "metadata": {
        "id": "1Orc5tZfu4Du"
      },
      "execution_count": 15,
      "outputs": []
    },
    {
      "cell_type": "code",
      "source": [
        "model.compile(optimizer=keras.optimizers.Adam(),\n",
        "                loss=keras.losses.SparseCategoricalCrossentropy(from_logits=True),\n",
        "                metrics=[\"accuracy\"],\n",
        ")\n",
        "model.fit(ds_train,\n",
        "          epochs=5,\n",
        "          verbose=2,\n",
        "          callbacks=[save_callback, lr_scheduler])\n",
        "\n",
        "model.evaluate(ds_test, verbose=2)"
      ],
      "metadata": {
        "colab": {
          "base_uri": "https://localhost:8080/"
        },
        "id": "OyUYkJp6injh",
        "outputId": "e4ea7c06-e993-4664-f20a-34420796884c"
      },
      "execution_count": 16,
      "outputs": [
        {
          "output_type": "stream",
          "name": "stdout",
          "text": [
            "\n",
            "Epoch 1: LearningRateScheduler setting learning rate to 0.0010000000474974513.\n",
            "Epoch 1/5\n",
            "1875/1875 - 21s - loss: 0.0780 - accuracy: 0.9765 - lr: 0.0010 - 21s/epoch - 11ms/step\n",
            "\n",
            "Epoch 2: LearningRateScheduler setting learning rate to 0.0010000000474974513.\n",
            "Epoch 2/5\n",
            "1875/1875 - 24s - loss: 0.0490 - accuracy: 0.9854 - lr: 0.0010 - 24s/epoch - 13ms/step\n",
            "\n",
            "Epoch 3: LearningRateScheduler setting learning rate to 0.0009900000470224768.\n",
            "Epoch 3/5\n",
            "1875/1875 - 17s - loss: 0.0352 - accuracy: 0.9888 - lr: 9.9000e-04 - 17s/epoch - 9ms/step\n",
            "\n",
            "Epoch 4: LearningRateScheduler setting learning rate to 0.000980100086890161.\n",
            "Epoch 4/5\n",
            "1875/1875 - 18s - loss: 0.0251 - accuracy: 0.9919 - lr: 9.8010e-04 - 18s/epoch - 10ms/step\n",
            "\n",
            "Epoch 5: LearningRateScheduler setting learning rate to 0.0009702991275116801.\n",
            "Epoch 5/5\n",
            "1875/1875 - 18s - loss: 0.0182 - accuracy: 0.9942 - lr: 9.7030e-04 - 18s/epoch - 9ms/step\n",
            "79/79 - 3s - loss: 0.0629 - accuracy: 0.9810 - 3s/epoch - 35ms/step\n"
          ]
        },
        {
          "output_type": "execute_result",
          "data": {
            "text/plain": [
              "[0.06294097751379013, 0.9810000061988831]"
            ]
          },
          "metadata": {},
          "execution_count": 16
        }
      ]
    },
    {
      "cell_type": "code",
      "source": [
        "#we can create custom callbacks chnaging functionality according to your wants\n",
        "\n",
        "class CustomCallback(keras.callbacks.Callback):\n",
        "\n",
        "  def on_epoch_end (self, epoch, logs=None) : #at every epoch end it print logs keys\n",
        "    print (logs.keys ())\n",
        "    if logs.get (\"accuracy\") > 0.98:\n",
        "      print (\"Accuracy over 90%, quitting training\")\n",
        "      self.model.stop_training = True"
      ],
      "metadata": {
        "id": "XtD5xdebun77"
      },
      "execution_count": 24,
      "outputs": []
    },
    {
      "cell_type": "code",
      "source": [
        "model.compile(optimizer=keras.optimizers.Adam(),\n",
        "                loss=keras.losses.SparseCategoricalCrossentropy(from_logits=True),\n",
        "                metrics=[\"accuracy\"],\n",
        ")\n",
        "model.fit(ds_train,\n",
        "          epochs=10,\n",
        "          verbose=2,\n",
        "          callbacks=[save_callback, lr_scheduler, CustomCallback()])\n",
        "\n",
        "model.evaluate(ds_test, verbose=2)"
      ],
      "metadata": {
        "colab": {
          "base_uri": "https://localhost:8080/"
        },
        "id": "FBhTgE4rwBJx",
        "outputId": "747d8d21-6398-4690-b739-b9be051b33cc"
      },
      "execution_count": 25,
      "outputs": [
        {
          "output_type": "stream",
          "name": "stdout",
          "text": [
            "\n",
            "Epoch 1: LearningRateScheduler setting learning rate to 0.0010000000474974513.\n",
            "Epoch 1/10\n",
            "dict_keys(['loss', 'accuracy', 'lr'])\n",
            "1875/1875 - 20s - loss: 0.2088 - accuracy: 0.9395 - lr: 0.0010 - 20s/epoch - 11ms/step\n",
            "\n",
            "Epoch 2: LearningRateScheduler setting learning rate to 0.0010000000474974513.\n",
            "Epoch 2/10\n",
            "dict_keys(['loss', 'accuracy', 'lr'])\n",
            "1875/1875 - 18s - loss: 0.0719 - accuracy: 0.9778 - lr: 0.0010 - 18s/epoch - 9ms/step\n",
            "\n",
            "Epoch 3: LearningRateScheduler setting learning rate to 0.0009900000470224768.\n",
            "Epoch 3/10\n",
            "dict_keys(['loss', 'accuracy', 'lr'])\n",
            "Accuracy over 90%, quitting training\n",
            "1875/1875 - 18s - loss: 0.0470 - accuracy: 0.9853 - lr: 9.9000e-04 - 18s/epoch - 10ms/step\n",
            "79/79 - 1s - loss: 0.0638 - accuracy: 0.9799 - 1s/epoch - 17ms/step\n"
          ]
        },
        {
          "output_type": "execute_result",
          "data": {
            "text/plain": [
              "[0.06382085382938385, 0.9799000024795532]"
            ]
          },
          "metadata": {},
          "execution_count": 25
        }
      ]
    },
    {
      "cell_type": "code",
      "source": [],
      "metadata": {
        "id": "KqQkhl3_xTlv"
      },
      "execution_count": null,
      "outputs": []
    }
  ]
}