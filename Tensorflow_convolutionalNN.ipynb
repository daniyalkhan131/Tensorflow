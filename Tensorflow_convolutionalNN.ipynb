{
  "cells": [
    {
      "cell_type": "code",
      "execution_count": null,
      "metadata": {
        "id": "Ogt3rbtr2zEF"
      },
      "outputs": [],
      "source": [
        "import tensorflow as tf\n",
        "from tensorflow import keras\n",
        "from tensorflow. keras import layers\n",
        "from tensorflow. keras .datasets import cifar10"
      ]
    },
    {
      "cell_type": "code",
      "execution_count": null,
      "metadata": {
        "colab": {
          "base_uri": "https://localhost:8080/"
        },
        "id": "yF8EKqZf4LJe",
        "outputId": "61f1f29a-c9f8-4bda-e1b2-249a6ea7250f"
      },
      "outputs": [
        {
          "name": "stdout",
          "output_type": "stream",
          "text": [
            "Downloading data from https://www.cs.toronto.edu/~kriz/cifar-10-python.tar.gz\n",
            "170498071/170498071 [==============================] - 4s 0us/step\n"
          ]
        }
      ],
      "source": [
        "(x_train, y_train), (x_test, y_test) = cifar10. load_data()\n",
        "x_train = x_train.astype (\"float32\") / 255.0\n",
        "x_test = x_test.astype (\"float32\") / 255.0"
      ]
    },
    {
      "cell_type": "code",
      "execution_count": null,
      "metadata": {
        "id": "95qat53N4TK9"
      },
      "outputs": [],
      "source": [
        "model = keras.Sequential([\n",
        "    keras. Input (shape=(32, 32, 3)),\n",
        "    layers.Conv2D(32, 3, padding='valid', activation='relu'),\n",
        "    layers.MaxPooling2D(pool_size=(2,2)),\n",
        "    layers.Conv2D(64, 3, padding='valid', activation='relu'),\n",
        "    layers.MaxPooling2D(pool_size=(2,2)),\n",
        "    layers.Conv2D(128, 3, padding='valid', activation='relu'),\n",
        "    layers.MaxPooling2D(pool_size=(2,2)),\n",
        "    layers.Flatten(),\n",
        "    layers.Dense(128,activation='relu'),\n",
        "    layers.Dense(10,activation='linear')\n",
        "]\n",
        ")"
      ]
    },
    {
      "cell_type": "code",
      "execution_count": null,
      "metadata": {
        "colab": {
          "base_uri": "https://localhost:8080/"
        },
        "id": "oO7OrDar5zUc",
        "outputId": "7c837f80-c381-4552-9b99-0b40088d1843"
      },
      "outputs": [
        {
          "name": "stdout",
          "output_type": "stream",
          "text": [
            "Model: \"sequential\"\n",
            "_________________________________________________________________\n",
            " Layer (type)                Output Shape              Param #   \n",
            "=================================================================\n",
            " conv2d (Conv2D)             (None, 30, 30, 32)        896       \n",
            "                                                                 \n",
            " max_pooling2d (MaxPooling2  (None, 15, 15, 32)        0         \n",
            " D)                                                              \n",
            "                                                                 \n",
            " conv2d_1 (Conv2D)           (None, 13, 13, 64)        18496     \n",
            "                                                                 \n",
            " max_pooling2d_1 (MaxPoolin  (None, 6, 6, 64)          0         \n",
            " g2D)                                                            \n",
            "                                                                 \n",
            " conv2d_2 (Conv2D)           (None, 4, 4, 128)         73856     \n",
            "                                                                 \n",
            " max_pooling2d_2 (MaxPoolin  (None, 2, 2, 128)         0         \n",
            " g2D)                                                            \n",
            "                                                                 \n",
            " flatten (Flatten)           (None, 512)               0         \n",
            "                                                                 \n",
            " dense (Dense)               (None, 128)               65664     \n",
            "                                                                 \n",
            " dense_1 (Dense)             (None, 10)                1290      \n",
            "                                                                 \n",
            "=================================================================\n",
            "Total params: 160202 (625.79 KB)\n",
            "Trainable params: 160202 (625.79 KB)\n",
            "Non-trainable params: 0 (0.00 Byte)\n",
            "_________________________________________________________________\n"
          ]
        }
      ],
      "source": [
        "model.summary()"
      ]
    },
    {
      "cell_type": "code",
      "execution_count": null,
      "metadata": {
        "id": "7_qRwzo24_rC"
      },
      "outputs": [],
      "source": [
        "model.compile(loss=keras.losses.SparseCategoricalCrossentropy(from_logits=True),\n",
        "              optimizer=keras.optimizers.Adam(learning_rate=3e-5),\n",
        "              metrics=['Accuracy'])"
      ]
    },
    {
      "cell_type": "code",
      "execution_count": null,
      "metadata": {
        "colab": {
          "base_uri": "https://localhost:8080/"
        },
        "id": "nbNkUnDT6LPa",
        "outputId": "e7700473-1c45-40f0-8685-191a858ac281"
      },
      "outputs": [
        {
          "name": "stdout",
          "output_type": "stream",
          "text": [
            "Epoch 1/10\n",
            "782/782 - 8s - loss: 2.1362 - Accuracy: 0.2383 - 8s/epoch - 11ms/step\n",
            "Epoch 2/10\n",
            "782/782 - 7s - loss: 1.8100 - Accuracy: 0.3491 - 7s/epoch - 9ms/step\n",
            "Epoch 3/10\n",
            "782/782 - 7s - loss: 1.6873 - Accuracy: 0.3957 - 7s/epoch - 10ms/step\n",
            "Epoch 4/10\n",
            "782/782 - 7s - loss: 1.6060 - Accuracy: 0.4250 - 7s/epoch - 9ms/step\n",
            "Epoch 5/10\n",
            "782/782 - 7s - loss: 1.5470 - Accuracy: 0.4449 - 7s/epoch - 9ms/step\n",
            "Epoch 6/10\n",
            "782/782 - 7s - loss: 1.5019 - Accuracy: 0.4623 - 7s/epoch - 9ms/step\n",
            "Epoch 7/10\n",
            "782/782 - 7s - loss: 1.4635 - Accuracy: 0.4759 - 7s/epoch - 9ms/step\n",
            "Epoch 8/10\n",
            "782/782 - 7s - loss: 1.4349 - Accuracy: 0.4846 - 7s/epoch - 9ms/step\n",
            "Epoch 9/10\n",
            "782/782 - 7s - loss: 1.4087 - Accuracy: 0.4967 - 7s/epoch - 9ms/step\n",
            "Epoch 10/10\n",
            "782/782 - 7s - loss: 1.3864 - Accuracy: 0.5053 - 7s/epoch - 10ms/step\n"
          ]
        },
        {
          "data": {
            "text/plain": [
              "<keras.src.callbacks.History at 0x780d9a713e20>"
            ]
          },
          "execution_count": 6,
          "metadata": {},
          "output_type": "execute_result"
        }
      ],
      "source": [
        "model.fit(x_train,y_train,epochs=10,verbose=2,batch_size=64)"
      ]
    },
    {
      "cell_type": "code",
      "execution_count": null,
      "metadata": {
        "colab": {
          "base_uri": "https://localhost:8080/"
        },
        "id": "QYI0vVn46d6D",
        "outputId": "a6ab6ab0-38c1-4b6a-eeac-993e2e187d0d"
      },
      "outputs": [
        {
          "name": "stdout",
          "output_type": "stream",
          "text": [
            "313/313 - 1s - loss: 1.3839 - Accuracy: 0.5095 - 1s/epoch - 4ms/step\n"
          ]
        },
        {
          "data": {
            "text/plain": [
              "[1.3838802576065063, 0.5095000267028809]"
            ]
          },
          "execution_count": 7,
          "metadata": {},
          "output_type": "execute_result"
        }
      ],
      "source": [
        "model.evaluate(x_test,y_test,verbose=2,batch_size=32)"
      ]
    },
    {
      "cell_type": "code",
      "execution_count": null,
      "metadata": {
        "id": "rZr5cR7c6qKF"
      },
      "outputs": [],
      "source": [
        "#using fucntional API"
      ]
    },
    {
      "cell_type": "code",
      "execution_count": null,
      "metadata": {
        "id": "Gk7x1xp57jL3"
      },
      "outputs": [],
      "source": [
        "def my_model():\n",
        "  input=layers.Input(shape=(32,32,3))\n",
        "  x=layers.Conv2D(32,3)(input)\n",
        "  x=layers.BatchNormalization()(x)\n",
        "  x=keras.activations.relu(x)\n",
        "  x=layers.MaxPooling2D()(x)\n",
        "  x=layers.Conv2D(64,5,padding='same')(x)\n",
        "  x=layers.BatchNormalization()(x)\n",
        "  x=keras.activations.relu(x)\n",
        "  x=layers.Conv2D(128,3,padding='same')(x)\n",
        "  x=layers.BatchNormalization()(x)\n",
        "  x=keras.activations.relu(x)\n",
        "  x=layers.Flatten()(x)\n",
        "  x=layers.Dense(128,activation='relu')(x)\n",
        "  output=layers.Dense(10)(x)\n",
        "\n",
        "  return keras.Model(inputs=input,outputs=output)\n",
        "\n"
      ]
    },
    {
      "cell_type": "code",
      "execution_count": null,
      "metadata": {
        "id": "AyIyhcFb8ycv"
      },
      "outputs": [],
      "source": [
        "model=my_model()\n",
        "model.compile(loss=keras.losses.SparseCategoricalCrossentropy(from_logits=True),\n",
        "              optimizer=keras.optimizers.Adam(learning_rate=3e-5),\n",
        "              metrics=['Accuracy'])"
      ]
    },
    {
      "cell_type": "code",
      "execution_count": null,
      "metadata": {
        "colab": {
          "background_save": true,
          "base_uri": "https://localhost:8080/"
        },
        "id": "xOok-0SB87kC",
        "outputId": "ff8b751b-de47-4f1b-a4c2-782e3fd848e9"
      },
      "outputs": [
        {
          "name": "stdout",
          "output_type": "stream",
          "text": [
            "782/782 - 318s - loss: 1.4362 - Accuracy: 0.4855 - 318s/epoch - 407ms/step\n",
            "313/313 - 16s - loss: 1.1946 - Accuracy: 0.5747 - 16s/epoch - 51ms/step\n"
          ]
        },
        {
          "data": {
            "text/plain": [
              "[1.1946287155151367, 0.5746999979019165]"
            ]
          },
          "execution_count": 8,
          "metadata": {},
          "output_type": "execute_result"
        }
      ],
      "source": [
        "model.fit(x_train,y_train,epochs=10,verbose=2,batch_size=64)\n",
        "model.evaluate(x_test,y_test,verbose=2,batch_size=32)"
      ]
    },
    {
      "cell_type": "code",
      "execution_count": null,
      "metadata": {
        "id": "GT0c8o_v-bk5"
      },
      "outputs": [],
      "source": []
    }
  ],
  "metadata": {
    "accelerator": "TPU",
    "colab": {
      "gpuType": "V28",
      "provenance": []
    },
    "kernelspec": {
      "display_name": "Python 3",
      "name": "python3"
    },
    "language_info": {
      "name": "python"
    }
  },
  "nbformat": 4,
  "nbformat_minor": 0
}