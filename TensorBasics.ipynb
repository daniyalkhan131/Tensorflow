{
  "nbformat": 4,
  "nbformat_minor": 0,
  "metadata": {
    "colab": {
      "provenance": []
    },
    "kernelspec": {
      "name": "python3",
      "display_name": "Python 3"
    },
    "language_info": {
      "name": "python"
    }
  },
  "cells": [
    {
      "cell_type": "code",
      "source": [
        "#for tensorflow installation on machine\n",
        "#https://www.youtube.com/watch?v=5Ym-dOS9ssA&list=PLhhyoLH6IjfxVOdVC1P1L5z5azs0XjMsb"
      ],
      "metadata": {
        "id": "vKUhWkUuGKe7"
      },
      "execution_count": 3,
      "outputs": []
    },
    {
      "cell_type": "code",
      "execution_count": 43,
      "metadata": {
        "id": "WgS53LQPF3Q4"
      },
      "outputs": [],
      "source": [
        "# import os\n",
        "# os.environ ['TF_CPP_MIN_LOG_LEVEL' ] = '2' it is for local machine\n",
        "import tensorflow as tf\n",
        "# physical_devices = tf.config. list_physical_devices ('GPU')\n",
        "# tf.config.experimental.set_memory_growth(physical_devices[o], True)"
      ]
    },
    {
      "cell_type": "code",
      "source": [
        "tf.__version__"
      ],
      "metadata": {
        "colab": {
          "base_uri": "https://localhost:8080/",
          "height": 35
        },
        "id": "YCk4ElORF5GV",
        "outputId": "1eed88dd-0902-4c89-df89-76e23dda085d"
      },
      "execution_count": 9,
      "outputs": [
        {
          "output_type": "execute_result",
          "data": {
            "text/plain": [
              "'2.15.0'"
            ],
            "application/vnd.google.colaboratory.intrinsic+json": {
              "type": "string"
            }
          },
          "metadata": {},
          "execution_count": 9
        }
      ]
    },
    {
      "cell_type": "code",
      "source": [
        "# Initialization of Tensors\n",
        "\n",
        "x=tf.constant(4)\n",
        "print(x)\n",
        "x=tf.constant([1,2,3,4,5])\n",
        "print(x)\n",
        "x = tf.constant (4, shape= (1,1), dtype=tf.float32)\n",
        "print(x)\n",
        "x = tf.constant([[1,2,3], [4,5,6]])\n",
        "print(x)\n",
        "x = tf.ones( (3,3))\n",
        "print(x)"
      ],
      "metadata": {
        "colab": {
          "base_uri": "https://localhost:8080/"
        },
        "id": "BHod9Cp4F6t-",
        "outputId": "2620b395-7e2b-48d0-fa75-67cc8ead5891"
      },
      "execution_count": 21,
      "outputs": [
        {
          "output_type": "stream",
          "name": "stdout",
          "text": [
            "tf.Tensor(4, shape=(), dtype=int32)\n",
            "tf.Tensor([1 2 3 4 5], shape=(5,), dtype=int32)\n",
            "tf.Tensor([[4.]], shape=(1, 1), dtype=float32)\n",
            "tf.Tensor(\n",
            "[[1 2 3]\n",
            " [4 5 6]], shape=(2, 3), dtype=int32)\n",
            "tf.Tensor(\n",
            "[[1. 1. 1.]\n",
            " [1. 1. 1.]\n",
            " [1. 1. 1.]], shape=(3, 3), dtype=float32)\n"
          ]
        }
      ]
    },
    {
      "cell_type": "code",
      "source": [
        "x = tf .zeros ((2, 3))\n",
        "print(x)\n",
        "x = tf.eye (3) # I for the identity matrix (eye)\n",
        "print(x)\n",
        "#for normal distribution\n",
        "x = tf.random. normal ( (3, 3), mean=0, stddev=1)\n",
        "print(x)\n",
        "x = tf .random. uniform ((1,3), minval=0, maxval=1)\n",
        "print(x)\n",
        "x = tf.range (start=1, limit=5, delta=0.2)\n",
        "print(x)"
      ],
      "metadata": {
        "colab": {
          "base_uri": "https://localhost:8080/"
        },
        "id": "-eLRzFXCHEs4",
        "outputId": "122b063f-6b33-4b2e-c871-98d738942b15"
      },
      "execution_count": 25,
      "outputs": [
        {
          "output_type": "stream",
          "name": "stdout",
          "text": [
            "tf.Tensor(\n",
            "[[0. 0. 0.]\n",
            " [0. 0. 0.]], shape=(2, 3), dtype=float32)\n",
            "tf.Tensor(\n",
            "[[1. 0. 0.]\n",
            " [0. 1. 0.]\n",
            " [0. 0. 1.]], shape=(3, 3), dtype=float32)\n",
            "tf.Tensor(\n",
            "[[ 0.45626366 -0.46025705 -0.23991731]\n",
            " [ 0.02598654 -0.8076121   0.05979083]\n",
            " [-1.1291066   1.1416863  -0.84317046]], shape=(3, 3), dtype=float32)\n",
            "tf.Tensor([[0.66870415 0.46985793 0.3433901 ]], shape=(1, 3), dtype=float32)\n",
            "tf.Tensor(\n",
            "[1.        1.2       1.4       1.6       1.8       2.        2.2\n",
            " 2.4       2.6       2.8000002 3.        3.2       3.4       3.6000001\n",
            " 3.8       4.        4.2       4.4       4.6000004 4.8      ], shape=(20,), dtype=float32)\n"
          ]
        }
      ]
    },
    {
      "cell_type": "code",
      "source": [
        "#for converting float32 to 64 or to int or to bool\n",
        "x = tf. cast (x, dtype=tf. float64)\n",
        "print(x)\n",
        "# tf.float (16, 32,64), tf.int (8, 16, 32, 64), tf .bool"
      ],
      "metadata": {
        "colab": {
          "base_uri": "https://localhost:8080/"
        },
        "id": "bTflXWdlISec",
        "outputId": "6125dbaa-ba45-4930-f456-ca319a587649"
      },
      "execution_count": 28,
      "outputs": [
        {
          "output_type": "stream",
          "name": "stdout",
          "text": [
            "tf.Tensor([1. 1. 1. 1. 1. 2. 2. 2. 2. 2. 3. 3. 3. 3. 3. 4. 4. 4. 4. 4.], shape=(20,), dtype=float64)\n"
          ]
        }
      ]
    },
    {
      "cell_type": "code",
      "source": [
        "# Mathematical Operations\n",
        "x = tf.constant ([1,2,3])\n",
        "y = tf. constant ([9,8, 7])\n",
        "z = tf.add(x, y)\n",
        "print(z)\n",
        "z = x + y\n",
        "print(z)\n",
        "\n",
        "z = tf.subtract(x, y)\n",
        "print(z)\n",
        "z = x - y\n",
        "print(z)\n",
        "\n",
        "z = tf.multiply(x, y)\n",
        "print(z)\n",
        "z = x * y\n",
        "print(z)\n",
        "\n",
        "z = tf.divide(x, y)\n",
        "print(z)\n",
        "z = x / y\n",
        "print(z)\n",
        "\n",
        "#for dot product\n",
        "z=tf.tensordot(x,y,axes=1)\n",
        "print(z)\n",
        "z=tf.reduce_sum(x*y,axis=0)\n",
        "print(z)\n",
        "\n",
        "z=x**5\n",
        "print(z)\n",
        "\n",
        "#matrix multiply\n",
        "x = tf.random. normal ((2, 3))\n",
        "y = tf .random. normal ((3, 4))\n",
        "z = tf. matmul(x, y)\n",
        "print (z)\n",
        "z = x @ y\n",
        "print (z)"
      ],
      "metadata": {
        "colab": {
          "base_uri": "https://localhost:8080/"
        },
        "id": "cZbh-6liIg_h",
        "outputId": "c228753f-8bfd-4be4-f50e-486024d2a38f"
      },
      "execution_count": 48,
      "outputs": [
        {
          "output_type": "stream",
          "name": "stdout",
          "text": [
            "tf.Tensor([10 10 10], shape=(3,), dtype=int32)\n",
            "tf.Tensor([10 10 10], shape=(3,), dtype=int32)\n",
            "tf.Tensor([-8 -6 -4], shape=(3,), dtype=int32)\n",
            "tf.Tensor([-8 -6 -4], shape=(3,), dtype=int32)\n",
            "tf.Tensor([ 9 16 21], shape=(3,), dtype=int32)\n",
            "tf.Tensor([ 9 16 21], shape=(3,), dtype=int32)\n",
            "tf.Tensor([0.11111111 0.25       0.42857143], shape=(3,), dtype=float64)\n",
            "tf.Tensor([0.11111111 0.25       0.42857143], shape=(3,), dtype=float64)\n",
            "tf.Tensor(46, shape=(), dtype=int32)\n",
            "tf.Tensor(46, shape=(), dtype=int32)\n",
            "tf.Tensor([  1  32 243], shape=(3,), dtype=int32)\n",
            "tf.Tensor(\n",
            "[[-1.0516622   1.9677544  -0.5262141  -0.98212224]\n",
            " [-1.3551259   0.87477225 -1.4450108  -1.6159738 ]], shape=(2, 4), dtype=float32)\n",
            "tf.Tensor(\n",
            "[[-1.0516622   1.9677544  -0.5262141  -0.98212224]\n",
            " [-1.3551259   0.87477225 -1.4450108  -1.6159738 ]], shape=(2, 4), dtype=float32)\n"
          ]
        }
      ]
    },
    {
      "cell_type": "code",
      "source": [
        "#indexing\n",
        "\n",
        "x = tf. constant([0, 1, 1, 2, 3, 1, 2, 3])\n",
        "print(x[:])\n",
        "print(x[1:1])\n",
        "print(x[1:3])\n",
        "print (x[::2])\n",
        "print(x[::-1])\n",
        "\n",
        "#for getting perticular indices values\n",
        "indices = tf .constant([0, 3])\n",
        "x_ind = tf. gather(x, indices)\n",
        "print (x_ind)\n",
        "\n",
        "x = tf. constant([[1, 2],\n",
        "[3, 4],\n",
        "[5, 6]])\n",
        "print (x[0,:])\n",
        "print(x[0:2,:])"
      ],
      "metadata": {
        "colab": {
          "base_uri": "https://localhost:8080/"
        },
        "id": "Jky3jY_dLgOW",
        "outputId": "b956cfc0-f7f2-404b-ae8b-a347013d662f"
      },
      "execution_count": 54,
      "outputs": [
        {
          "output_type": "stream",
          "name": "stdout",
          "text": [
            "tf.Tensor([0 1 1 2 3 1 2 3], shape=(8,), dtype=int32)\n",
            "tf.Tensor([], shape=(0,), dtype=int32)\n",
            "tf.Tensor([1 1], shape=(2,), dtype=int32)\n",
            "tf.Tensor([0 1 3 2], shape=(4,), dtype=int32)\n",
            "tf.Tensor([3 2 1 3 2 1 1 0], shape=(8,), dtype=int32)\n",
            "tf.Tensor([0 2], shape=(2,), dtype=int32)\n",
            "tf.Tensor([1 2], shape=(2,), dtype=int32)\n",
            "tf.Tensor(\n",
            "[[1 2]\n",
            " [3 4]], shape=(2, 2), dtype=int32)\n"
          ]
        }
      ]
    },
    {
      "cell_type": "code",
      "source": [
        "#reshaping\n",
        "\n",
        "x = tf.range(9)\n",
        "print(x)\n",
        "x = tf.reshape(x, (3,3))\n",
        "print(x)\n",
        "x = tf. transpose (x, perm= [1,0])#perm is for telling which axis to swap as it is tensor so here 1 and 0\n",
        "print(x)"
      ],
      "metadata": {
        "colab": {
          "base_uri": "https://localhost:8080/"
        },
        "id": "hreZODD4LuCH",
        "outputId": "6f4352bd-2148-44b7-8a11-fa31de781549"
      },
      "execution_count": 59,
      "outputs": [
        {
          "output_type": "stream",
          "name": "stdout",
          "text": [
            "tf.Tensor([0 1 2 3 4 5 6 7 8], shape=(9,), dtype=int32)\n",
            "tf.Tensor(\n",
            "[[0 1 2]\n",
            " [3 4 5]\n",
            " [6 7 8]], shape=(3, 3), dtype=int32)\n",
            "tf.Tensor(\n",
            "[[0 3 6]\n",
            " [1 4 7]\n",
            " [2 5 8]], shape=(3, 3), dtype=int32)\n"
          ]
        }
      ]
    },
    {
      "cell_type": "code",
      "source": [],
      "metadata": {
        "id": "cV45LKfDMyKX"
      },
      "execution_count": null,
      "outputs": []
    }
  ]
}