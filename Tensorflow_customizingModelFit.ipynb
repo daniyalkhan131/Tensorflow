{
  "nbformat": 4,
  "nbformat_minor": 0,
  "metadata": {
    "colab": {
      "provenance": []
    },
    "kernelspec": {
      "name": "python3",
      "display_name": "Python 3"
    },
    "language_info": {
      "name": "python"
    }
  },
  "cells": [
    {
      "cell_type": "code",
      "execution_count": 4,
      "metadata": {
        "id": "9kugQ0ybyZVL"
      },
      "outputs": [],
      "source": [
        "import tensorflow as tf\n",
        "from tensorflow import keras\n",
        "from keras import layers\n",
        "from keras.datasets import mnist\n",
        "import matplotlib.pyplot as plt"
      ]
    },
    {
      "cell_type": "code",
      "source": [
        "(x_train, y_train), (_test, y_test) = mnist. load_data()\n",
        "x_train = x_train.reshape (-1, 28, 28, 1) .astype (\"float32\") / 255.0\n",
        "x_test = _test. reshape (-1, 28, 28, 1) .astype (\"float32\") / 255.0"
      ],
      "metadata": {
        "colab": {
          "base_uri": "https://localhost:8080/"
        },
        "id": "gA_T659jzy8t",
        "outputId": "3e6f1f47-d285-4212-a028-afd11c990072"
      },
      "execution_count": 5,
      "outputs": [
        {
          "output_type": "stream",
          "name": "stdout",
          "text": [
            "Downloading data from https://storage.googleapis.com/tensorflow/tf-keras-datasets/mnist.npz\n",
            "11490434/11490434 [==============================] - 0s 0us/step\n"
          ]
        }
      ]
    },
    {
      "cell_type": "code",
      "source": [
        "model = keras. Sequential([\n",
        "    keras. Input ((28, 28, 1)),\n",
        "\n",
        "#   data_augmentation,\n",
        "\n",
        "    layers.Conv2D(4, 3, padding=\"same\", activation=\"relu\"),\n",
        "    layers.Flatten(),\n",
        "    layers. Dense (64, activation=\"relu\"),\n",
        "    layers. Dense (10),\n",
        "],\n",
        "                          name= 'model')"
      ],
      "metadata": {
        "id": "Ttpt9IBSz9Xb"
      },
      "execution_count": 6,
      "outputs": []
    },
    {
      "cell_type": "code",
      "source": [
        "class CustomFit (keras.Model):\n",
        "\n",
        "  def __init__ (self, model):\n",
        "    super (CustomFit, self).__init__()\n",
        "    self.model = model\n",
        "\n",
        "  def train_step (self, data):\n",
        "    x, y = data\n",
        "    with tf. GradientTape() as tape: #in this we do forward prop and loss calc, so that it can keep track and do backprop\n",
        "      y_pred = self.model(x, training=True)\n",
        "      loss=self.compiled_loss(y, y_pred) #this compiled loss is using sparsecatentrop. from compile\n",
        "\n",
        "    trainable_vars=self.trainable_variables #these are from parent class so dont bother\n",
        "    gradients=tape.gradient(loss, trainable_vars) #calculating loss with respect to trainable variables\n",
        "\n",
        "    #now to gradient decent step for optimizing\n",
        "    self.optimizer.apply_gradients(zip(gradients, trainable_vars))\n",
        "    self.compiled_metrics.update_state(y, y_pred) #this is for accuracy\n",
        "\n",
        "    return {m.name: m.result() for m in self.metrics}\n"
      ],
      "metadata": {
        "id": "QSu_Jb6u0FdR"
      },
      "execution_count": 10,
      "outputs": []
    },
    {
      "cell_type": "code",
      "source": [
        "training= CustomFit(model)\n",
        "\n",
        "training.compile(optimizer=keras.optimizers.Adam(),\n",
        "                loss=keras.losses.SparseCategoricalCrossentropy(from_logits=True),\n",
        "                metrics=[\"accuracy\"],\n",
        ")\n",
        "\n",
        "training.fit(x_train, y_train,\n",
        "          epochs=5,\n",
        "          verbose=2)"
      ],
      "metadata": {
        "colab": {
          "base_uri": "https://localhost:8080/"
        },
        "id": "GeaKEPww1gl6",
        "outputId": "7891be36-d472-4008-d972-ccef4775849e"
      },
      "execution_count": 12,
      "outputs": [
        {
          "output_type": "stream",
          "name": "stdout",
          "text": [
            "Epoch 1/5\n",
            "1875/1875 - 17s - loss: 0.0278 - accuracy: 0.9909 - 17s/epoch - 9ms/step\n",
            "Epoch 2/5\n",
            "1875/1875 - 16s - loss: 0.0197 - accuracy: 0.9936 - 16s/epoch - 8ms/step\n",
            "Epoch 3/5\n",
            "1875/1875 - 19s - loss: 0.0159 - accuracy: 0.9948 - 19s/epoch - 10ms/step\n",
            "Epoch 4/5\n",
            "1875/1875 - 16s - loss: 0.0128 - accuracy: 0.9959 - 16s/epoch - 9ms/step\n",
            "Epoch 5/5\n",
            "1875/1875 - 22s - loss: 0.0112 - accuracy: 0.9963 - 22s/epoch - 12ms/step\n"
          ]
        },
        {
          "output_type": "execute_result",
          "data": {
            "text/plain": [
              "<keras.src.callbacks.History at 0x7f5f685f3a90>"
            ]
          },
          "metadata": {},
          "execution_count": 12
        }
      ]
    },
    {
      "cell_type": "code",
      "source": [
        "#we can do our own compile also\n",
        "\n",
        "class CustomFit (keras.Model):\n",
        "\n",
        "  def __init__ (self, model):\n",
        "    super (CustomFit, self).__init__()\n",
        "    self.model = model\n",
        "\n",
        "  def compile(self, loss, optimizer):\n",
        "    super(CustomFit, self).compile()\n",
        "    self.optimizer=optimizer\n",
        "    self.loss=loss\n",
        "\n",
        "  def train_step (self, data):\n",
        "    x, y = data\n",
        "    with tf. GradientTape() as tape:\n",
        "      y_pred = self.model(x, training=True)\n",
        "      loss=self.loss(y, y_pred)\n",
        "\n",
        "    trainable_vars=self.trainable_variables\n",
        "    gradients=tape.gradient(loss, trainable_vars)\n",
        "\n",
        "\n",
        "    self.optimizer.apply_gradients(zip(gradients, trainable_vars))\n",
        "\n",
        "    acc_metric.update_state(y, y_pred)#this is for accuracy\n",
        "\n",
        "    return {'loss': loss, 'accuracy': acc_metric.result()}\n",
        "\n",
        "  def test_step(self, data):\n",
        "    x, y = data\n",
        "    y_pred = self .model(x, training=False)\n",
        "    loss = self.loss (y, y_pred)\n",
        "    acc_metric.update_state(y, y_pred)\n",
        "\n",
        "    return {'Loss': loss, \"accuracy\": acc_metric.result()}\n"
      ],
      "metadata": {
        "id": "p4tr3E6c328o"
      },
      "execution_count": 22,
      "outputs": []
    },
    {
      "cell_type": "code",
      "source": [
        "acc_metric=keras.metrics.SparseCategoricalAccuracy(name='accuracy')"
      ],
      "metadata": {
        "id": "sroSOLA-5ssc"
      },
      "execution_count": 23,
      "outputs": []
    },
    {
      "cell_type": "code",
      "source": [
        "training= CustomFit(model)\n",
        "\n",
        "training.compile(optimizer=keras.optimizers.Adam(),\n",
        "                loss=keras.losses.SparseCategoricalCrossentropy(from_logits=True),\n",
        ")\n",
        "\n",
        "training.fit(x_train, y_train,\n",
        "          epochs=5,\n",
        "          verbose=2)"
      ],
      "metadata": {
        "colab": {
          "base_uri": "https://localhost:8080/"
        },
        "id": "DjAfdX2m5QwC",
        "outputId": "22c1f41a-e7a7-4c2d-82cd-7bdbe0ac2a76"
      },
      "execution_count": 24,
      "outputs": [
        {
          "output_type": "stream",
          "name": "stdout",
          "text": [
            "Epoch 1/5\n",
            "1875/1875 - 21s - loss: 1.1581e-05 - accuracy: 0.9982 - 21s/epoch - 11ms/step\n",
            "Epoch 2/5\n",
            "1875/1875 - 15s - loss: 6.9759e-05 - accuracy: 0.9986 - 15s/epoch - 8ms/step\n",
            "Epoch 3/5\n",
            "1875/1875 - 16s - loss: 4.1396e-05 - accuracy: 0.9986 - 16s/epoch - 8ms/step\n",
            "Epoch 4/5\n",
            "1875/1875 - 16s - loss: 8.4388e-04 - accuracy: 0.9986 - 16s/epoch - 9ms/step\n",
            "Epoch 5/5\n",
            "1875/1875 - 16s - loss: 1.2704e-05 - accuracy: 0.9986 - 16s/epoch - 8ms/step\n"
          ]
        },
        {
          "output_type": "execute_result",
          "data": {
            "text/plain": [
              "<keras.src.callbacks.History at 0x7f5f68acc160>"
            ]
          },
          "metadata": {},
          "execution_count": 24
        }
      ]
    },
    {
      "cell_type": "code",
      "source": [
        "training.evaluate(x_test, y_test)"
      ],
      "metadata": {
        "colab": {
          "base_uri": "https://localhost:8080/"
        },
        "id": "VufxeROw5Tdh",
        "outputId": "61dd15be-0b06-444b-db3d-5be7dfe904ff"
      },
      "execution_count": 25,
      "outputs": [
        {
          "output_type": "stream",
          "name": "stdout",
          "text": [
            "313/313 [==============================] - 1s 4ms/step - Loss: 0.1226 - accuracy: 0.9983\n"
          ]
        },
        {
          "output_type": "execute_result",
          "data": {
            "text/plain": [
              "[3.725289943190546e-08, 0.9981064796447754]"
            ]
          },
          "metadata": {},
          "execution_count": 25
        }
      ]
    },
    {
      "cell_type": "code",
      "source": [],
      "metadata": {
        "id": "jISLS1YI6vAm"
      },
      "execution_count": null,
      "outputs": []
    }
  ]
}