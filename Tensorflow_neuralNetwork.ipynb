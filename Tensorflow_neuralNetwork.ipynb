{
  "nbformat": 4,
  "nbformat_minor": 0,
  "metadata": {
    "colab": {
      "provenance": []
    },
    "kernelspec": {
      "name": "python3",
      "display_name": "Python 3"
    },
    "language_info": {
      "name": "python"
    }
  },
  "cells": [
    {
      "cell_type": "code",
      "execution_count": 3,
      "metadata": {
        "id": "J6RUd3HrUDt_"
      },
      "outputs": [],
      "source": [
        "# import os\n",
        "# os.environ['TF[CPP_MIN_LOG_LEVEL '] = '2'\n",
        "import tensorflow as tf\n",
        "from tensorflow import keras\n",
        "from tensorflow.keras import layers\n",
        "from tensorflow.keras.datasets import mnist\n",
        "# physical_devices = tf.config.list_physical_devices ('GPU')\n",
        "# tf.config.experimental.set_memory_growth (physical_devices [0], True)"
      ]
    },
    {
      "cell_type": "code",
      "source": [
        "(x_train, y_train), (x_test, y_test) = mnist.load_data()\n",
        "print(type(x_train))\n",
        "x_train = x_train.reshape (-1, 28*28) .astype(\"float32\") / 255.0 #it is numpy array\n",
        "#we reshape it convert to lesser float ie 32 and normalize pixel values\n",
        "x_test = x_test.reshape (-1, 28*28) . astype (\"float32\") / 255.0\n",
        "print(type(x_train))"
      ],
      "metadata": {
        "colab": {
          "base_uri": "https://localhost:8080/"
        },
        "id": "iBOBNW29UNBG",
        "outputId": "4808ab9c-fe88-4427-bfbb-9bb97144f52f"
      },
      "execution_count": 6,
      "outputs": [
        {
          "output_type": "stream",
          "name": "stdout",
          "text": [
            "<class 'numpy.ndarray'>\n",
            "<class 'numpy.ndarray'>\n"
          ]
        }
      ]
    },
    {
      "cell_type": "code",
      "source": [
        "# X_train = tf. convert_to_tensor (x_train)\n",
        "# print(type(X_train))\n",
        "#we dont need to do this as tensorflow can handle numpy"
      ],
      "metadata": {
        "id": "sXsrNXYGUwYK"
      },
      "execution_count": 9,
      "outputs": []
    },
    {
      "cell_type": "code",
      "source": [
        "# Sequential API (Very convenient, not very flexible)\n",
        "\n",
        "model = keras. Sequential (\n",
        "[\n",
        "  layers.Input(shape=(28*28)),\n",
        "  layers. Dense (512, activation='relu'),\n",
        "  layers. Dense (256, activation='relu'),\n",
        "  layers. Dense (10)\n",
        "]\n",
        ")\n",
        "model. compile(\n",
        "  loss=keras.losses.SparseCategoricalCrossentropy (from_logits=True),\n",
        "  optimizer=keras.optimizers.Adam (lr=0.001), metrics=[\"accuracy\"]\n",
        ")"
      ],
      "metadata": {
        "colab": {
          "base_uri": "https://localhost:8080/"
        },
        "id": "FhJaP3IRVI8F",
        "outputId": "6da4101e-b882-45e5-d583-7a728c734fbf"
      },
      "execution_count": 15,
      "outputs": [
        {
          "output_type": "stream",
          "name": "stderr",
          "text": [
            "WARNING:absl:`lr` is deprecated in Keras optimizer, please use `learning_rate` or use the legacy optimizer, e.g.,tf.keras.optimizers.legacy.Adam.\n"
          ]
        }
      ]
    },
    {
      "cell_type": "code",
      "source": [
        "model.summary()"
      ],
      "metadata": {
        "colab": {
          "base_uri": "https://localhost:8080/"
        },
        "id": "ZVXWbAvGWXJR",
        "outputId": "6adbf272-8a80-4c71-f57b-cef1385d07cc"
      },
      "execution_count": 16,
      "outputs": [
        {
          "output_type": "stream",
          "name": "stdout",
          "text": [
            "Model: \"sequential_3\"\n",
            "_________________________________________________________________\n",
            " Layer (type)                Output Shape              Param #   \n",
            "=================================================================\n",
            " dense_9 (Dense)             (None, 512)               401920    \n",
            "                                                                 \n",
            " dense_10 (Dense)            (None, 256)               131328    \n",
            "                                                                 \n",
            " dense_11 (Dense)            (None, 10)                2570      \n",
            "                                                                 \n",
            "=================================================================\n",
            "Total params: 535818 (2.04 MB)\n",
            "Trainable params: 535818 (2.04 MB)\n",
            "Non-trainable params: 0 (0.00 Byte)\n",
            "_________________________________________________________________\n"
          ]
        }
      ]
    },
    {
      "cell_type": "code",
      "source": [
        "#can also do like\n",
        "\n",
        "model = keras.Sequential ()\n",
        "model.add (keras. Input (shape= (784)))\n",
        "model. add (layers.Dense (512, activation='relu'))\n",
        "print (model.summary ()) #for debugging\n",
        "model.add (layers. Dense (256, activation='relu'))\n",
        "model.add (layers. Dense (10))\n",
        "print (model.summary ())"
      ],
      "metadata": {
        "colab": {
          "base_uri": "https://localhost:8080/"
        },
        "id": "moEvZHPCWuFo",
        "outputId": "00bf89b3-13ac-42ea-ca58-ae4a5662009e"
      },
      "execution_count": 19,
      "outputs": [
        {
          "output_type": "stream",
          "name": "stdout",
          "text": [
            "Model: \"sequential_6\"\n",
            "_________________________________________________________________\n",
            " Layer (type)                Output Shape              Param #   \n",
            "=================================================================\n",
            " dense_15 (Dense)            (None, 512)               401920    \n",
            "                                                                 \n",
            "=================================================================\n",
            "Total params: 401920 (1.53 MB)\n",
            "Trainable params: 401920 (1.53 MB)\n",
            "Non-trainable params: 0 (0.00 Byte)\n",
            "_________________________________________________________________\n",
            "None\n",
            "Model: \"sequential_6\"\n",
            "_________________________________________________________________\n",
            " Layer (type)                Output Shape              Param #   \n",
            "=================================================================\n",
            " dense_15 (Dense)            (None, 512)               401920    \n",
            "                                                                 \n",
            " dense_16 (Dense)            (None, 256)               131328    \n",
            "                                                                 \n",
            " dense_17 (Dense)            (None, 10)                2570      \n",
            "                                                                 \n",
            "=================================================================\n",
            "Total params: 535818 (2.04 MB)\n",
            "Trainable params: 535818 (2.04 MB)\n",
            "Non-trainable params: 0 (0.00 Byte)\n",
            "_________________________________________________________________\n",
            "None\n"
          ]
        }
      ]
    },
    {
      "cell_type": "code",
      "source": [
        "model.fit(x_train, y_train, batch_size=32, epochs=5, verbose=2)\n",
        "model. evaluate (x_test, y_test, batch_size=32, verbose=2)"
      ],
      "metadata": {
        "colab": {
          "base_uri": "https://localhost:8080/"
        },
        "id": "T0VVpX-oV6-4",
        "outputId": "bee03517-662a-48d6-e23d-b87d49b76480"
      },
      "execution_count": 14,
      "outputs": [
        {
          "output_type": "stream",
          "name": "stdout",
          "text": [
            "Epoch 1/5\n",
            "1875/1875 - 16s - loss: 0.1852 - accuracy: 0.9433 - 16s/epoch - 8ms/step\n",
            "Epoch 2/5\n",
            "1875/1875 - 14s - loss: 0.0796 - accuracy: 0.9750 - 14s/epoch - 8ms/step\n",
            "Epoch 3/5\n",
            "1875/1875 - 15s - loss: 0.0549 - accuracy: 0.9827 - 15s/epoch - 8ms/step\n",
            "Epoch 4/5\n",
            "1875/1875 - 21s - loss: 0.0428 - accuracy: 0.9859 - 21s/epoch - 11ms/step\n",
            "Epoch 5/5\n",
            "1875/1875 - 14s - loss: 0.0320 - accuracy: 0.9895 - 14s/epoch - 8ms/step\n",
            "313/313 - 1s - loss: 0.0852 - accuracy: 0.9780 - 914ms/epoch - 3ms/step\n"
          ]
        },
        {
          "output_type": "execute_result",
          "data": {
            "text/plain": [
              "[0.08517710864543915, 0.9779999852180481]"
            ]
          },
          "metadata": {},
          "execution_count": 14
        }
      ]
    },
    {
      "cell_type": "code",
      "source": [
        "#functional API"
      ],
      "metadata": {
        "id": "zRLD8hF4XLJt"
      },
      "execution_count": 20,
      "outputs": []
    },
    {
      "cell_type": "code",
      "source": [
        "inputs = keras. Input (shape=(784))\n",
        "x = layers. Dense (512, activation='relu') (inputs)\n",
        "x = layers. Dense (256, activation='relu')(x)\n",
        "outputs = layers. Dense (10, activation= 'softmax') (x)\n",
        "model = keras. Model(inputs=inputs, outputs=outputs)"
      ],
      "metadata": {
        "id": "NNwkLoIzWHd1"
      },
      "execution_count": 21,
      "outputs": []
    },
    {
      "cell_type": "code",
      "source": [
        "model. compile(\n",
        "  loss=keras.losses.SparseCategoricalCrossentropy (from_logits=False), #logits must be false as we put softmax\n",
        "  #in last layer\n",
        "  optimizer=keras.optimizers.Adam (lr=0.001), metrics=[\"accuracy\"]\n",
        ")"
      ],
      "metadata": {
        "colab": {
          "base_uri": "https://localhost:8080/"
        },
        "id": "dhNHr_NlXU9J",
        "outputId": "498f15ed-6c6b-491c-9e80-8f06b6514fb8"
      },
      "execution_count": 22,
      "outputs": [
        {
          "output_type": "stream",
          "name": "stderr",
          "text": [
            "WARNING:absl:`lr` is deprecated in Keras optimizer, please use `learning_rate` or use the legacy optimizer, e.g.,tf.keras.optimizers.legacy.Adam.\n"
          ]
        }
      ]
    },
    {
      "cell_type": "code",
      "source": [
        "model.fit(x_train, y_train, batch_size=32, epochs=1, verbose=2)\n",
        "model. evaluate (x_test, y_test, batch_size=32, verbose=2)"
      ],
      "metadata": {
        "colab": {
          "base_uri": "https://localhost:8080/"
        },
        "id": "NxMo4SaIXPPP",
        "outputId": "789f5a89-097e-495f-f7c7-1c2fcfac8ef0"
      },
      "execution_count": 23,
      "outputs": [
        {
          "output_type": "stream",
          "name": "stdout",
          "text": [
            "1875/1875 - 16s - loss: 0.1858 - accuracy: 0.9441 - 16s/epoch - 8ms/step\n",
            "313/313 - 1s - loss: 0.0922 - accuracy: 0.9710 - 877ms/epoch - 3ms/step\n"
          ]
        },
        {
          "output_type": "execute_result",
          "data": {
            "text/plain": [
              "[0.09218482673168182, 0.9710000157356262]"
            ]
          },
          "metadata": {},
          "execution_count": 23
        }
      ]
    },
    {
      "cell_type": "code",
      "source": [
        "#for debugging we can also do like\n",
        "\n",
        "model = keras.Sequential ()\n",
        "model.add (keras. Input (shape= (784)))\n",
        "model. add (layers.Dense (512, activation='relu'))\n",
        "model.add (layers. Dense (256, activation='relu'))\n",
        "model.add (layers. Dense (10))\n",
        "\n",
        "model = keras.Model(inputs=model.inputs,\n",
        "outputs=[model.layers [-2].output]) #for 2nd last layer\n",
        "feature = model.predict (x_train)\n",
        "\n",
        "print(feature.shape)\n",
        "\n",
        "#or can give name\n",
        "model = keras.Sequential ()\n",
        "model.add (keras. Input (shape= (784)))\n",
        "model. add (layers.Dense (512, activation='relu'))\n",
        "model.add (layers. Dense (256, activation='relu', name=\"layer-2nd-last\"))\n",
        "model.add (layers. Dense (10))\n",
        "\n",
        "model = keras.Model(inputs=model.inputs,\n",
        "outputs=[model.get_layer(\"layer-2nd-last\").output]) #for 2nd last layer\n",
        "feature = model.predict (x_train)\n",
        "\n",
        "print(feature.shape)"
      ],
      "metadata": {
        "colab": {
          "base_uri": "https://localhost:8080/"
        },
        "id": "gpNBqWVhXbuv",
        "outputId": "9f940db7-18e3-4f5c-98a8-cf1bd7fe62d9"
      },
      "execution_count": 26,
      "outputs": [
        {
          "output_type": "stream",
          "name": "stdout",
          "text": [
            "1875/1875 [==============================] - 7s 4ms/step\n",
            "(60000, 256)\n",
            "1875/1875 [==============================] - 5s 3ms/step\n",
            "(60000, 256)\n"
          ]
        }
      ]
    },
    {
      "cell_type": "code",
      "source": [
        "#for getting for alll layers\n",
        "\n",
        "model = keras. Model(inputs=model.inputs,\n",
        "outputs=[layer.output for layer in model. layers])\n",
        "features = model.predict (x_train)\n",
        "\n",
        "for i in features:\n",
        "  print(i.shape)"
      ],
      "metadata": {
        "colab": {
          "base_uri": "https://localhost:8080/"
        },
        "id": "qjNPzc6EX-ua",
        "outputId": "1245c2ce-7f92-4157-baee-9082face23a6"
      },
      "execution_count": 27,
      "outputs": [
        {
          "output_type": "stream",
          "name": "stdout",
          "text": [
            "1875/1875 [==============================] - 7s 4ms/step\n",
            "(60000, 784)\n",
            "(60000, 512)\n",
            "(60000, 256)\n"
          ]
        }
      ]
    },
    {
      "cell_type": "code",
      "source": [],
      "metadata": {
        "id": "49E9-iGXY7_K"
      },
      "execution_count": null,
      "outputs": []
    }
  ]
}