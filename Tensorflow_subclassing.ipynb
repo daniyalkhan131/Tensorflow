{
  "nbformat": 4,
  "nbformat_minor": 0,
  "metadata": {
    "colab": {
      "provenance": [],
      "gpuType": "T4"
    },
    "kernelspec": {
      "name": "python3",
      "display_name": "Python 3"
    },
    "language_info": {
      "name": "python"
    },
    "accelerator": "GPU"
  },
  "cells": [
    {
      "cell_type": "code",
      "source": [
        "import tensorflow as tf\n",
        "from tensorflow import keras\n",
        "from tensorflow. keras import layers, regularizers\n",
        "import os\n",
        "import pandas as pd\n",
        "from tensorflow.keras.datasets import mnist"
      ],
      "metadata": {
        "id": "-d413cdkTFrd"
      },
      "execution_count": 1,
      "outputs": []
    },
    {
      "cell_type": "code",
      "execution_count": 2,
      "metadata": {
        "colab": {
          "base_uri": "https://localhost:8080/"
        },
        "id": "npXDgEp7S7uo",
        "outputId": "f826bc13-a218-4184-a6a0-c4e37d856bd2"
      },
      "outputs": [
        {
          "output_type": "stream",
          "name": "stdout",
          "text": [
            "Downloading data from https://storage.googleapis.com/tensorflow/tf-keras-datasets/mnist.npz\n",
            "11490434/11490434 [==============================] - 1s 0us/step\n"
          ]
        }
      ],
      "source": [
        "(x_train, y_train), (x_test, y_test) = mnist. load_data()\n",
        "x_train = x_train. reshape (-1, 28, 28, 1) .astype (\"float32\") / 255.0\n",
        "x_test = x_test. reshape (-1, 28, 28, 1) .astype (\"float32\") / 255.0"
      ]
    },
    {
      "cell_type": "code",
      "source": [
        "#CNN batchnorm relu for this structure we can make a block for this\n",
        "\n",
        "#it makes debugging very easy"
      ],
      "metadata": {
        "id": "3o86HhqoTH5I"
      },
      "execution_count": 3,
      "outputs": []
    },
    {
      "cell_type": "code",
      "source": [
        "class CNNBlock(layers.Layer):\n",
        "\n",
        "  def __init__(self, out_channels, kernel_size=3):\n",
        "    super (CNNBlock, self).__init__()\n",
        "    self.conv = layers. Conv2D(out_channels, kernel_size, padding='same')\n",
        "    self.bn = layers. BatchNormalization ()\n",
        "\n",
        "  def call (self, input_tensor, training=False) : #in call method we give tensor input, bascically define the path of data to go from where to where\n",
        "    x = self. conv (input_tensor)\n",
        "    x = self.bn(x, training=training)\n",
        "    x = tf.nn. relu(x)\n",
        "    return x"
      ],
      "metadata": {
        "id": "SfPYWJhLURIn"
      },
      "execution_count": 4,
      "outputs": []
    },
    {
      "cell_type": "code",
      "source": [
        "model = keras. Sequential(\n",
        "[\n",
        "    CNNBlock (32),\n",
        "    CNNBlock (64) ,\n",
        "    CNNBlock (128),\n",
        "    layers .Flatten (),\n",
        "    layers. Dense (10),\n",
        "]\n",
        ")"
      ],
      "metadata": {
        "id": "4HyaCzI6U45G"
      },
      "execution_count": 5,
      "outputs": []
    },
    {
      "cell_type": "code",
      "source": [
        "model. compile (optimizer=keras.optimizers. Adam (),\n",
        "                loss=keras.losses.SparseCategoricalCrossentropy(from_logits=True),\n",
        "                metrics= [\"accuracy\"],\n",
        ")\n",
        "model.fit (x_train, y_train, batch_size=64, epochs=3, verbose=2)\n",
        "model. evaluate (x_test, y_test, batch_size=64, verbose=2)"
      ],
      "metadata": {
        "colab": {
          "base_uri": "https://localhost:8080/"
        },
        "id": "p4p-4T_rVPo_",
        "outputId": "e9c9e8ea-2ed8-4ed4-a641-ff723091199a"
      },
      "execution_count": 6,
      "outputs": [
        {
          "output_type": "stream",
          "name": "stdout",
          "text": [
            "Epoch 1/3\n",
            "938/938 - 18s - loss: 0.5850 - accuracy: 0.9463 - 18s/epoch - 19ms/step\n",
            "Epoch 2/3\n",
            "938/938 - 11s - loss: 0.0862 - accuracy: 0.9822 - 11s/epoch - 11ms/step\n",
            "Epoch 3/3\n",
            "938/938 - 11s - loss: 0.0333 - accuracy: 0.9901 - 11s/epoch - 11ms/step\n",
            "157/157 - 1s - loss: 0.0462 - accuracy: 0.9861 - 1s/epoch - 7ms/step\n"
          ]
        },
        {
          "output_type": "execute_result",
          "data": {
            "text/plain": [
              "[0.04615749791264534, 0.9861000180244446]"
            ]
          },
          "metadata": {},
          "execution_count": 6
        }
      ]
    },
    {
      "cell_type": "code",
      "source": [
        "#building similar to resnet"
      ],
      "metadata": {
        "id": "GDjG-B0DVw4s"
      },
      "execution_count": 7,
      "outputs": []
    },
    {
      "cell_type": "code",
      "source": [
        "class ResBlock(layers.Layer):\n",
        "  def __init__(self,channel):\n",
        "    super(ResBlock,self).__init__()\n",
        "    self.cnn1=CNNBlock(channel[0])\n",
        "    self.cnn2=CNNBlock(channel[1])\n",
        "    self.cnn3=CNNBlock(channel[2])\n",
        "    self.pooling=layers.MaxPooling2D()\n",
        "\n",
        "    #we create identity mapping fir skip connections\n",
        "    self.identity_mapping=layers.Conv2D(channel[1],\n",
        "                                        kernel_size=1, #we are not doing any convo here but only want to change shape so that can be added\n",
        "                                        padding='valid')\n",
        "\n",
        "  def call(self, input_tensor, training=False):\n",
        "    x=self.cnn1(input_tensor, training=training)\n",
        "    x=self.cnn2(x,training=training)\n",
        "    x=self.cnn3(\n",
        "        x+self.identity_mapping(input_tensor), #adding can only be done when shape is same, so need to take care of that before adding\n",
        "        training=training)\n",
        "    return self.pooling(x)\n"
      ],
      "metadata": {
        "id": "5Q1aGpGIWKKQ"
      },
      "execution_count": 8,
      "outputs": []
    },
    {
      "cell_type": "code",
      "source": [
        "class ResNetLike(keras.Model):\n",
        "  def __init__(self,num_classes=10):\n",
        "    super(ResNetLike,self).__init__()\n",
        "    self.block1=ResBlock([32,32,64])\n",
        "    self.block2=ResBlock([64,64,128])\n",
        "    self.block3=ResBlock([128,128,256])\n",
        "\n",
        "    self.pooling=layers.GlobalAveragePooling2D()\n",
        "    self.classifier=layers.Dense(num_classes)\n",
        "\n",
        "  def call(self, input_tensor, training=False): #when we training or fit it make training=True and when evaluate then False\n",
        "    x=self.block1(input_tensor, training=training)\n",
        "    x=self.block2(x, training=training)\n",
        "    x=self.block3(x, training=training)\n",
        "    x=self.pooling(x)\n",
        "    x=self.classifier(x)\n",
        "\n",
        "    return x"
      ],
      "metadata": {
        "id": "UtgG-nTlYEiR"
      },
      "execution_count": 9,
      "outputs": []
    },
    {
      "cell_type": "code",
      "source": [
        "model=ResNetLike(num_classes=10)\n",
        "# model.summary() cannot as not specified input shape, we can only see summary after giving first input"
      ],
      "metadata": {
        "id": "k5voxvg-cPlg"
      },
      "execution_count": 10,
      "outputs": []
    },
    {
      "cell_type": "code",
      "source": [
        "model. compile (optimizer=keras.optimizers. Adam (),\n",
        "                loss=keras.losses.SparseCategoricalCrossentropy(from_logits=True),\n",
        "                metrics= [\"accuracy\"],\n",
        ")\n",
        "model.fit (x_train, y_train, batch_size=64, epochs=10, verbose=2)\n",
        "model. evaluate (x_test, y_test, batch_size=64, verbose=2)"
      ],
      "metadata": {
        "colab": {
          "base_uri": "https://localhost:8080/"
        },
        "id": "2MgwD1_IcDQR",
        "outputId": "6f839b5b-c3e1-4f5d-a8f9-a87713efe98f"
      },
      "execution_count": 18,
      "outputs": [
        {
          "output_type": "stream",
          "name": "stdout",
          "text": [
            "Epoch 1/10\n",
            "938/938 - 21s - loss: 0.0836 - accuracy: 0.9760 - 21s/epoch - 22ms/step\n",
            "Epoch 2/10\n",
            "938/938 - 14s - loss: 0.0323 - accuracy: 0.9900 - 14s/epoch - 14ms/step\n",
            "Epoch 3/10\n",
            "938/938 - 13s - loss: 0.0257 - accuracy: 0.9917 - 13s/epoch - 14ms/step\n",
            "Epoch 4/10\n",
            "938/938 - 13s - loss: 0.0211 - accuracy: 0.9935 - 13s/epoch - 14ms/step\n",
            "Epoch 5/10\n",
            "938/938 - 13s - loss: 0.0187 - accuracy: 0.9942 - 13s/epoch - 14ms/step\n",
            "Epoch 6/10\n",
            "938/938 - 13s - loss: 0.0162 - accuracy: 0.9952 - 13s/epoch - 14ms/step\n",
            "Epoch 7/10\n",
            "938/938 - 13s - loss: 0.0144 - accuracy: 0.9954 - 13s/epoch - 14ms/step\n",
            "Epoch 8/10\n",
            "938/938 - 14s - loss: 0.0133 - accuracy: 0.9958 - 14s/epoch - 14ms/step\n",
            "Epoch 9/10\n",
            "938/938 - 13s - loss: 0.0115 - accuracy: 0.9963 - 13s/epoch - 14ms/step\n",
            "Epoch 10/10\n",
            "938/938 - 14s - loss: 0.0096 - accuracy: 0.9968 - 14s/epoch - 14ms/step\n",
            "157/157 - 1s - loss: 0.0224 - accuracy: 0.9928 - 1s/epoch - 7ms/step\n"
          ]
        },
        {
          "output_type": "execute_result",
          "data": {
            "text/plain": [
              "[0.022405853495001793, 0.9927999973297119]"
            ]
          },
          "metadata": {},
          "execution_count": 18
        }
      ]
    },
    {
      "cell_type": "code",
      "source": [
        "model.summary()"
      ],
      "metadata": {
        "colab": {
          "base_uri": "https://localhost:8080/"
        },
        "id": "pxCqZJJmc1Xr",
        "outputId": "35593034-f0be-41ae-8aa9-298e79e304dd"
      },
      "execution_count": 12,
      "outputs": [
        {
          "output_type": "stream",
          "name": "stdout",
          "text": [
            "Model: \"res_net_like\"\n",
            "_________________________________________________________________\n",
            " Layer (type)                Output Shape              Param #   \n",
            "=================================================================\n",
            " res_block (ResBlock)        multiple                  28640     \n",
            "                                                                 \n",
            " res_block_1 (ResBlock)      multiple                  152896    \n",
            "                                                                 \n",
            " res_block_2 (ResBlock)      multiple                  608896    \n",
            "                                                                 \n",
            " global_average_pooling2d (  multiple                  0         \n",
            " GlobalAveragePooling2D)                                         \n",
            "                                                                 \n",
            " dense_1 (Dense)             multiple                  2570      \n",
            "                                                                 \n",
            "=================================================================\n",
            "Total params: 793002 (3.03 MB)\n",
            "Trainable params: 791210 (3.02 MB)\n",
            "Non-trainable params: 1792 (7.00 KB)\n",
            "_________________________________________________________________\n"
          ]
        }
      ]
    },
    {
      "cell_type": "code",
      "source": [
        "#summary is giving multiple so need to correct that"
      ],
      "metadata": {
        "id": "8iwgFQ2Cc24D"
      },
      "execution_count": 13,
      "outputs": []
    },
    {
      "cell_type": "code",
      "source": [
        "class ResNetLike(keras.Model):\n",
        "  def __init__(self,num_classes=10):\n",
        "    super(ResNetLike,self).__init__()\n",
        "    self.block1=ResBlock([32,32,64])\n",
        "    self.block2=ResBlock([64,64,128])\n",
        "    self.block3=ResBlock([128,128,256])\n",
        "\n",
        "    self.pooling=layers.GlobalAveragePooling2D()\n",
        "    self.classifier=layers.Dense(num_classes)\n",
        "\n",
        "  def call(self, input_tensor, training=False):\n",
        "    x=self.block1(input_tensor, training=training)\n",
        "    x=self.block2(x, training=training)\n",
        "    x=self.block3(x, training=training)\n",
        "    x=self.pooling(x)\n",
        "    x=self.classifier(x)\n",
        "    return x\n",
        "\n",
        "  #write this\n",
        "  def model(self):\n",
        "    x=layers.Input(shape=(28,28,1))\n",
        "    return keras.Model(inputs=[x], outputs=[self.call(x)])\n",
        "\n",
        ""
      ],
      "metadata": {
        "id": "lLCIddXcdFNV"
      },
      "execution_count": 16,
      "outputs": []
    },
    {
      "cell_type": "code",
      "source": [
        "model=ResNetLike(num_classes=10)\n",
        "model.model().summary()"
      ],
      "metadata": {
        "colab": {
          "base_uri": "https://localhost:8080/"
        },
        "id": "4TWGPnRrdpWC",
        "outputId": "62888f18-fa4a-48d4-eb06-5ad1fe0941f8"
      },
      "execution_count": 17,
      "outputs": [
        {
          "output_type": "stream",
          "name": "stdout",
          "text": [
            "Model: \"model\"\n",
            "_________________________________________________________________\n",
            " Layer (type)                Output Shape              Param #   \n",
            "=================================================================\n",
            " input_2 (InputLayer)        [(None, 28, 28, 1)]       0         \n",
            "                                                                 \n",
            " res_block_6 (ResBlock)      (None, 14, 14, 64)        28640     \n",
            "                                                                 \n",
            " res_block_7 (ResBlock)      (None, 7, 7, 128)         152896    \n",
            "                                                                 \n",
            " res_block_8 (ResBlock)      (None, 3, 3, 256)         608896    \n",
            "                                                                 \n",
            " global_average_pooling2d_2  (None, 256)               0         \n",
            "  (GlobalAveragePooling2D)                                       \n",
            "                                                                 \n",
            " dense_3 (Dense)             (None, 10)                2570      \n",
            "                                                                 \n",
            "=================================================================\n",
            "Total params: 793002 (3.03 MB)\n",
            "Trainable params: 791210 (3.02 MB)\n",
            "Non-trainable params: 1792 (7.00 KB)\n",
            "_________________________________________________________________\n"
          ]
        }
      ]
    },
    {
      "cell_type": "code",
      "source": [],
      "metadata": {
        "id": "Q7Tb-w6wdyVn"
      },
      "execution_count": 17,
      "outputs": []
    }
  ]
}