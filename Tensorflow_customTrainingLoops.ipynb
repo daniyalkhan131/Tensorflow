{
  "nbformat": 4,
  "nbformat_minor": 0,
  "metadata": {
    "colab": {
      "provenance": []
    },
    "kernelspec": {
      "name": "python3",
      "display_name": "Python 3"
    },
    "language_info": {
      "name": "python"
    },
    "widgets": {
      "application/vnd.jupyter.widget-state+json": {
        "dcb6fba023cb49bfbaf6aa6168a318f4": {
          "model_module": "@jupyter-widgets/controls",
          "model_name": "HBoxModel",
          "model_module_version": "1.5.0",
          "state": {
            "_dom_classes": [],
            "_model_module": "@jupyter-widgets/controls",
            "_model_module_version": "1.5.0",
            "_model_name": "HBoxModel",
            "_view_count": null,
            "_view_module": "@jupyter-widgets/controls",
            "_view_module_version": "1.5.0",
            "_view_name": "HBoxView",
            "box_style": "",
            "children": [
              "IPY_MODEL_5b486364076544d29b9d21ae9ec45e52",
              "IPY_MODEL_d59b8260821c4095a4539a640ee2101e",
              "IPY_MODEL_72e32cd4d08440d7a9240e6c14a77abf"
            ],
            "layout": "IPY_MODEL_68b8bff05e4048d5ae524789e79ebb67"
          }
        },
        "5b486364076544d29b9d21ae9ec45e52": {
          "model_module": "@jupyter-widgets/controls",
          "model_name": "HTMLModel",
          "model_module_version": "1.5.0",
          "state": {
            "_dom_classes": [],
            "_model_module": "@jupyter-widgets/controls",
            "_model_module_version": "1.5.0",
            "_model_name": "HTMLModel",
            "_view_count": null,
            "_view_module": "@jupyter-widgets/controls",
            "_view_module_version": "1.5.0",
            "_view_name": "HTMLView",
            "description": "",
            "description_tooltip": null,
            "layout": "IPY_MODEL_a24e6aca131140cdb95f846306bf1adb",
            "placeholder": "​",
            "style": "IPY_MODEL_9ac2e148333d4f1296cd8065fe98bc13",
            "value": "Dl Completed...: 100%"
          }
        },
        "d59b8260821c4095a4539a640ee2101e": {
          "model_module": "@jupyter-widgets/controls",
          "model_name": "FloatProgressModel",
          "model_module_version": "1.5.0",
          "state": {
            "_dom_classes": [],
            "_model_module": "@jupyter-widgets/controls",
            "_model_module_version": "1.5.0",
            "_model_name": "FloatProgressModel",
            "_view_count": null,
            "_view_module": "@jupyter-widgets/controls",
            "_view_module_version": "1.5.0",
            "_view_name": "ProgressView",
            "bar_style": "success",
            "description": "",
            "description_tooltip": null,
            "layout": "IPY_MODEL_f9ba78e50cfe44089b7608a9d0fe3929",
            "max": 5,
            "min": 0,
            "orientation": "horizontal",
            "style": "IPY_MODEL_b0f6b2d93e6544e4b6c807eec6174623",
            "value": 5
          }
        },
        "72e32cd4d08440d7a9240e6c14a77abf": {
          "model_module": "@jupyter-widgets/controls",
          "model_name": "HTMLModel",
          "model_module_version": "1.5.0",
          "state": {
            "_dom_classes": [],
            "_model_module": "@jupyter-widgets/controls",
            "_model_module_version": "1.5.0",
            "_model_name": "HTMLModel",
            "_view_count": null,
            "_view_module": "@jupyter-widgets/controls",
            "_view_module_version": "1.5.0",
            "_view_name": "HTMLView",
            "description": "",
            "description_tooltip": null,
            "layout": "IPY_MODEL_e8a74397e1534fdcaf2d9ce7cecd5bb3",
            "placeholder": "​",
            "style": "IPY_MODEL_70f76aead518418090fd70e751e926b1",
            "value": " 5/5 [00:00&lt;00:00,  8.77 file/s]"
          }
        },
        "68b8bff05e4048d5ae524789e79ebb67": {
          "model_module": "@jupyter-widgets/base",
          "model_name": "LayoutModel",
          "model_module_version": "1.2.0",
          "state": {
            "_model_module": "@jupyter-widgets/base",
            "_model_module_version": "1.2.0",
            "_model_name": "LayoutModel",
            "_view_count": null,
            "_view_module": "@jupyter-widgets/base",
            "_view_module_version": "1.2.0",
            "_view_name": "LayoutView",
            "align_content": null,
            "align_items": null,
            "align_self": null,
            "border": null,
            "bottom": null,
            "display": null,
            "flex": null,
            "flex_flow": null,
            "grid_area": null,
            "grid_auto_columns": null,
            "grid_auto_flow": null,
            "grid_auto_rows": null,
            "grid_column": null,
            "grid_gap": null,
            "grid_row": null,
            "grid_template_areas": null,
            "grid_template_columns": null,
            "grid_template_rows": null,
            "height": null,
            "justify_content": null,
            "justify_items": null,
            "left": null,
            "margin": null,
            "max_height": null,
            "max_width": null,
            "min_height": null,
            "min_width": null,
            "object_fit": null,
            "object_position": null,
            "order": null,
            "overflow": null,
            "overflow_x": null,
            "overflow_y": null,
            "padding": null,
            "right": null,
            "top": null,
            "visibility": null,
            "width": null
          }
        },
        "a24e6aca131140cdb95f846306bf1adb": {
          "model_module": "@jupyter-widgets/base",
          "model_name": "LayoutModel",
          "model_module_version": "1.2.0",
          "state": {
            "_model_module": "@jupyter-widgets/base",
            "_model_module_version": "1.2.0",
            "_model_name": "LayoutModel",
            "_view_count": null,
            "_view_module": "@jupyter-widgets/base",
            "_view_module_version": "1.2.0",
            "_view_name": "LayoutView",
            "align_content": null,
            "align_items": null,
            "align_self": null,
            "border": null,
            "bottom": null,
            "display": null,
            "flex": null,
            "flex_flow": null,
            "grid_area": null,
            "grid_auto_columns": null,
            "grid_auto_flow": null,
            "grid_auto_rows": null,
            "grid_column": null,
            "grid_gap": null,
            "grid_row": null,
            "grid_template_areas": null,
            "grid_template_columns": null,
            "grid_template_rows": null,
            "height": null,
            "justify_content": null,
            "justify_items": null,
            "left": null,
            "margin": null,
            "max_height": null,
            "max_width": null,
            "min_height": null,
            "min_width": null,
            "object_fit": null,
            "object_position": null,
            "order": null,
            "overflow": null,
            "overflow_x": null,
            "overflow_y": null,
            "padding": null,
            "right": null,
            "top": null,
            "visibility": null,
            "width": null
          }
        },
        "9ac2e148333d4f1296cd8065fe98bc13": {
          "model_module": "@jupyter-widgets/controls",
          "model_name": "DescriptionStyleModel",
          "model_module_version": "1.5.0",
          "state": {
            "_model_module": "@jupyter-widgets/controls",
            "_model_module_version": "1.5.0",
            "_model_name": "DescriptionStyleModel",
            "_view_count": null,
            "_view_module": "@jupyter-widgets/base",
            "_view_module_version": "1.2.0",
            "_view_name": "StyleView",
            "description_width": ""
          }
        },
        "f9ba78e50cfe44089b7608a9d0fe3929": {
          "model_module": "@jupyter-widgets/base",
          "model_name": "LayoutModel",
          "model_module_version": "1.2.0",
          "state": {
            "_model_module": "@jupyter-widgets/base",
            "_model_module_version": "1.2.0",
            "_model_name": "LayoutModel",
            "_view_count": null,
            "_view_module": "@jupyter-widgets/base",
            "_view_module_version": "1.2.0",
            "_view_name": "LayoutView",
            "align_content": null,
            "align_items": null,
            "align_self": null,
            "border": null,
            "bottom": null,
            "display": null,
            "flex": null,
            "flex_flow": null,
            "grid_area": null,
            "grid_auto_columns": null,
            "grid_auto_flow": null,
            "grid_auto_rows": null,
            "grid_column": null,
            "grid_gap": null,
            "grid_row": null,
            "grid_template_areas": null,
            "grid_template_columns": null,
            "grid_template_rows": null,
            "height": null,
            "justify_content": null,
            "justify_items": null,
            "left": null,
            "margin": null,
            "max_height": null,
            "max_width": null,
            "min_height": null,
            "min_width": null,
            "object_fit": null,
            "object_position": null,
            "order": null,
            "overflow": null,
            "overflow_x": null,
            "overflow_y": null,
            "padding": null,
            "right": null,
            "top": null,
            "visibility": null,
            "width": null
          }
        },
        "b0f6b2d93e6544e4b6c807eec6174623": {
          "model_module": "@jupyter-widgets/controls",
          "model_name": "ProgressStyleModel",
          "model_module_version": "1.5.0",
          "state": {
            "_model_module": "@jupyter-widgets/controls",
            "_model_module_version": "1.5.0",
            "_model_name": "ProgressStyleModel",
            "_view_count": null,
            "_view_module": "@jupyter-widgets/base",
            "_view_module_version": "1.2.0",
            "_view_name": "StyleView",
            "bar_color": null,
            "description_width": ""
          }
        },
        "e8a74397e1534fdcaf2d9ce7cecd5bb3": {
          "model_module": "@jupyter-widgets/base",
          "model_name": "LayoutModel",
          "model_module_version": "1.2.0",
          "state": {
            "_model_module": "@jupyter-widgets/base",
            "_model_module_version": "1.2.0",
            "_model_name": "LayoutModel",
            "_view_count": null,
            "_view_module": "@jupyter-widgets/base",
            "_view_module_version": "1.2.0",
            "_view_name": "LayoutView",
            "align_content": null,
            "align_items": null,
            "align_self": null,
            "border": null,
            "bottom": null,
            "display": null,
            "flex": null,
            "flex_flow": null,
            "grid_area": null,
            "grid_auto_columns": null,
            "grid_auto_flow": null,
            "grid_auto_rows": null,
            "grid_column": null,
            "grid_gap": null,
            "grid_row": null,
            "grid_template_areas": null,
            "grid_template_columns": null,
            "grid_template_rows": null,
            "height": null,
            "justify_content": null,
            "justify_items": null,
            "left": null,
            "margin": null,
            "max_height": null,
            "max_width": null,
            "min_height": null,
            "min_width": null,
            "object_fit": null,
            "object_position": null,
            "order": null,
            "overflow": null,
            "overflow_x": null,
            "overflow_y": null,
            "padding": null,
            "right": null,
            "top": null,
            "visibility": null,
            "width": null
          }
        },
        "70f76aead518418090fd70e751e926b1": {
          "model_module": "@jupyter-widgets/controls",
          "model_name": "DescriptionStyleModel",
          "model_module_version": "1.5.0",
          "state": {
            "_model_module": "@jupyter-widgets/controls",
            "_model_module_version": "1.5.0",
            "_model_name": "DescriptionStyleModel",
            "_view_count": null,
            "_view_module": "@jupyter-widgets/base",
            "_view_module_version": "1.2.0",
            "_view_name": "StyleView",
            "description_width": ""
          }
        }
      }
    }
  },
  "cells": [
    {
      "cell_type": "code",
      "execution_count": 1,
      "metadata": {
        "id": "PjSCdL9h7lcQ"
      },
      "outputs": [],
      "source": [
        "import tensorflow as tf\n",
        "from tensorflow import keras\n",
        "from keras import layers\n",
        "import tensorflow_datasets as tfds\n",
        "import matplotlib.pyplot as plt"
      ]
    },
    {
      "cell_type": "code",
      "source": [
        "(ds_train, ds_test), ds_info = tfds. load (\n",
        "    \"mnist\", #it is name that is in catelog of link above\n",
        "    split=[\"train\", \"test\"],\n",
        "    shuffle_files=True, #tf datasets store something in records in multiple files, for easy stream, loading simultaneously while training\n",
        "                        # so it is for shuffles dataponits in batch so not sequential\n",
        "    as_supervised=True, #it return tuple (image,label) otherwise it returns dict\n",
        "    with_info=True, #for getting info\n",
        "\n",
        ")"
      ],
      "metadata": {
        "colab": {
          "base_uri": "https://localhost:8080/",
          "height": 105,
          "referenced_widgets": [
            "dcb6fba023cb49bfbaf6aa6168a318f4",
            "5b486364076544d29b9d21ae9ec45e52",
            "d59b8260821c4095a4539a640ee2101e",
            "72e32cd4d08440d7a9240e6c14a77abf",
            "68b8bff05e4048d5ae524789e79ebb67",
            "a24e6aca131140cdb95f846306bf1adb",
            "9ac2e148333d4f1296cd8065fe98bc13",
            "f9ba78e50cfe44089b7608a9d0fe3929",
            "b0f6b2d93e6544e4b6c807eec6174623",
            "e8a74397e1534fdcaf2d9ce7cecd5bb3",
            "70f76aead518418090fd70e751e926b1"
          ]
        },
        "id": "gHH7Io4U74Sx",
        "outputId": "a8433917-e8c3-4e06-ffde-533b933229e9"
      },
      "execution_count": 2,
      "outputs": [
        {
          "output_type": "stream",
          "name": "stdout",
          "text": [
            "Downloading and preparing dataset 11.06 MiB (download: 11.06 MiB, generated: 21.00 MiB, total: 32.06 MiB) to /root/tensorflow_datasets/mnist/3.0.1...\n"
          ]
        },
        {
          "output_type": "display_data",
          "data": {
            "text/plain": [
              "Dl Completed...:   0%|          | 0/5 [00:00<?, ? file/s]"
            ],
            "application/vnd.jupyter.widget-view+json": {
              "version_major": 2,
              "version_minor": 0,
              "model_id": "dcb6fba023cb49bfbaf6aa6168a318f4"
            }
          },
          "metadata": {}
        },
        {
          "output_type": "stream",
          "name": "stdout",
          "text": [
            "Dataset mnist downloaded and prepared to /root/tensorflow_datasets/mnist/3.0.1. Subsequent calls will reuse this data.\n"
          ]
        }
      ]
    },
    {
      "cell_type": "code",
      "source": [
        "def normalize_image(image, label):\n",
        "  return tf.cast(image, tf.float32)/255.0, label\n",
        "\n",
        "AUTOTUNE=tf.data.experimental.AUTOTUNE #tf allow us to give this to set automatically\n",
        "BATCH_SIZE=32\n",
        "\n",
        "ds_train=ds_train.map(normalize_image, num_parallel_calls=AUTOTUNE)\n",
        "ds_train= ds_train.cache() #it keep next data in memory so it will be fast\n",
        "ds_train=ds_train.shuffle(ds_info.splits['train'].num_examples)\n",
        "ds_train=ds_train.batch(BATCH_SIZE)\n",
        "ds_train=ds_train.prefetch(AUTOTUNE)"
      ],
      "metadata": {
        "id": "Y1zWb9rP76lT"
      },
      "execution_count": 3,
      "outputs": []
    },
    {
      "cell_type": "code",
      "source": [
        "ds_test=ds_test.map(normalize_image, num_parallel_calls=AUTOTUNE)\n",
        "ds_test=ds_test.batch(128)\n",
        "ds_test=ds_test.prefetch(AUTOTUNE)"
      ],
      "metadata": {
        "id": "BMLTLysf8JX5"
      },
      "execution_count": 4,
      "outputs": []
    },
    {
      "cell_type": "code",
      "source": [
        "model = keras. Sequential([\n",
        "    keras. Input ((28, 28, 1)),\n",
        "    layers.Conv2D (16, 3, padding=\"same\", activation=\"relu\"),\n",
        "    layers.Flatten(),\n",
        "    layers. Dense (64, activation=\"relu\"),\n",
        "    layers. Dense (10),\n",
        "])"
      ],
      "metadata": {
        "id": "6mXo5mMO8LIk"
      },
      "execution_count": 5,
      "outputs": []
    },
    {
      "cell_type": "code",
      "source": [
        "epochs = 5\n",
        "optimizer = keras.optimizers .Adam ()\n",
        "loss_fn = keras. losses. SparseCategoricalCrossentropy (from_logits=True)\n",
        "acc_metric = keras.metrics. SparseCategoricalAccuracy ()\n"
      ],
      "metadata": {
        "id": "qKBLLmKP8rEe"
      },
      "execution_count": 6,
      "outputs": []
    },
    {
      "cell_type": "code",
      "source": [
        "# Training Loop\n",
        "for epoch in range (epochs) :\n",
        "  print (f\"\\nStart of Training Epoch {epoch}\")\n",
        "  for batch_idx, (x_batch, y_batch) in enumerate (ds_train) :\n",
        "    with tf.GradientTape() as tape:\n",
        "      y_pred = model(x_batch, training=True)\n",
        "      loss = loss_fn (y_batch, y_pred)\n",
        "\n",
        "    gradients = tape.gradient(loss, model.trainable_weights)\n",
        "    optimizer.apply_gradients(zip(gradients, model. trainable_weights))\n",
        "    acc_metric.update_state (y_batch, y_pred)\n",
        "\n",
        "  train_acc = acc_metric.result()\n",
        "  print (f\"Accuracy over epoch {train_acc}\")\n",
        "  acc_metric.reset_states()"
      ],
      "metadata": {
        "colab": {
          "base_uri": "https://localhost:8080/"
        },
        "id": "3iSaidyZ8wO-",
        "outputId": "830ee7da-d2b9-4f3c-a3d3-0257e533b935"
      },
      "execution_count": null,
      "outputs": [
        {
          "output_type": "stream",
          "name": "stdout",
          "text": [
            "\n",
            "Start of Training Epoch 0\n",
            "Accuracy over epoch 0.9494333267211914\n",
            "\n",
            "Start of Training Epoch 1\n",
            "Accuracy over epoch 0.9814833402633667\n",
            "\n",
            "Start of Training Epoch 2\n",
            "Accuracy over epoch 0.9879500269889832\n",
            "\n",
            "Start of Training Epoch 3\n"
          ]
        }
      ]
    },
    {
      "cell_type": "code",
      "source": [
        "# Test Loop\n",
        "for batch_idx, (x_batch, y_batch) in enumerate (ds_test) :\n",
        "  y_pred = model(x_batch, training=True)\n",
        "  acc_metric.update_state (y_batch, y_pred)\n",
        "\n",
        "train_acc = acc_metric.result ()\n",
        "print (f\"Accuracy over Test Set: {train_acc}\")\n",
        "acc_metric.reset_states()"
      ],
      "metadata": {
        "id": "Ql1i2Uol-GiR"
      },
      "execution_count": null,
      "outputs": []
    },
    {
      "cell_type": "code",
      "source": [],
      "metadata": {
        "id": "zd1YVaJE_XA9"
      },
      "execution_count": null,
      "outputs": []
    }
  ]
}